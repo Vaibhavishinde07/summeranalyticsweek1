{
  "nbformat": 4,
  "nbformat_minor": 0,
  "metadata": {
    "colab": {
      "provenance": [],
      "gpuType": "T4",
      "mount_file_id": "1RWkg1rjoxJ52vojC02lcigk6Xl6zBgfj",
      "authorship_tag": "ABX9TyOLPQtzsGkfuKfDW3X+yEfA",
      "include_colab_link": true
    },
    "kernelspec": {
      "name": "python3",
      "display_name": "Python 3"
    },
    "language_info": {
      "name": "python"
    },
    "accelerator": "GPU"
  },
  "cells": [
    {
      "cell_type": "markdown",
      "metadata": {
        "id": "view-in-github",
        "colab_type": "text"
      },
      "source": [
        "<a href=\"https://colab.research.google.com/github/Vaibhavishinde07/summeranalyticsweek1/blob/main/mars2.ipynb\" target=\"_parent\"><img src=\"https://colab.research.google.com/assets/colab-badge.svg\" alt=\"Open In Colab\"/></a>"
      ]
    },
    {
      "cell_type": "code",
      "source": [
        "!pip install noisereduce"
      ],
      "metadata": {
        "colab": {
          "base_uri": "https://localhost:8080/"
        },
        "id": "U-zGZvjAIVFB",
        "outputId": "f40c818f-e2c1-4e0f-9e04-9434a4339d84"
      },
      "execution_count": 2,
      "outputs": [
        {
          "output_type": "stream",
          "name": "stdout",
          "text": [
            "Collecting noisereduce\n",
            "  Downloading noisereduce-3.0.3-py3-none-any.whl.metadata (14 kB)\n",
            "Requirement already satisfied: scipy in /usr/local/lib/python3.11/dist-packages (from noisereduce) (1.15.3)\n",
            "Requirement already satisfied: matplotlib in /usr/local/lib/python3.11/dist-packages (from noisereduce) (3.10.0)\n",
            "Requirement already satisfied: numpy in /usr/local/lib/python3.11/dist-packages (from noisereduce) (2.0.2)\n",
            "Requirement already satisfied: tqdm in /usr/local/lib/python3.11/dist-packages (from noisereduce) (4.67.1)\n",
            "Requirement already satisfied: joblib in /usr/local/lib/python3.11/dist-packages (from noisereduce) (1.5.1)\n",
            "Requirement already satisfied: contourpy>=1.0.1 in /usr/local/lib/python3.11/dist-packages (from matplotlib->noisereduce) (1.3.2)\n",
            "Requirement already satisfied: cycler>=0.10 in /usr/local/lib/python3.11/dist-packages (from matplotlib->noisereduce) (0.12.1)\n",
            "Requirement already satisfied: fonttools>=4.22.0 in /usr/local/lib/python3.11/dist-packages (from matplotlib->noisereduce) (4.58.4)\n",
            "Requirement already satisfied: kiwisolver>=1.3.1 in /usr/local/lib/python3.11/dist-packages (from matplotlib->noisereduce) (1.4.8)\n",
            "Requirement already satisfied: packaging>=20.0 in /usr/local/lib/python3.11/dist-packages (from matplotlib->noisereduce) (24.2)\n",
            "Requirement already satisfied: pillow>=8 in /usr/local/lib/python3.11/dist-packages (from matplotlib->noisereduce) (11.2.1)\n",
            "Requirement already satisfied: pyparsing>=2.3.1 in /usr/local/lib/python3.11/dist-packages (from matplotlib->noisereduce) (3.2.3)\n",
            "Requirement already satisfied: python-dateutil>=2.7 in /usr/local/lib/python3.11/dist-packages (from matplotlib->noisereduce) (2.9.0.post0)\n",
            "Requirement already satisfied: six>=1.5 in /usr/local/lib/python3.11/dist-packages (from python-dateutil>=2.7->matplotlib->noisereduce) (1.17.0)\n",
            "Downloading noisereduce-3.0.3-py3-none-any.whl (22 kB)\n",
            "Installing collected packages: noisereduce\n",
            "Successfully installed noisereduce-3.0.3\n"
          ]
        }
      ]
    },
    {
      "cell_type": "code",
      "execution_count": 3,
      "metadata": {
        "colab": {
          "base_uri": "https://localhost:8080/"
        },
        "id": "oO4xmxUH_ze9",
        "outputId": "7cbde06a-af9e-4ebd-953e-d27196107585"
      },
      "outputs": [
        {
          "output_type": "stream",
          "name": "stdout",
          "text": [
            "✓ All dependencies loaded successfully!\n",
            "TensorFlow Version: 2.18.0\n",
            "Librosa Version: 0.11.0\n"
          ]
        }
      ],
      "source": [
        "import os\n",
        "import pandas as pd\n",
        "import numpy as np\n",
        "import librosa\n",
        "import librosa.display\n",
        "import matplotlib.pyplot as plt\n",
        "import seaborn as sns\n",
        "import warnings\n",
        "warnings.filterwarnings('ignore')\n",
        "\n",
        "# Deep Learning Framework\n",
        "import tensorflow as tf\n",
        "from tensorflow.keras.models import Sequential, Model\n",
        "from tensorflow.keras.layers import (Dense, Dropout, LSTM, GRU, Conv1D, MaxPooling1D,\n",
        "                                   GlobalMaxPooling1D, GlobalAveragePooling1D,\n",
        "                                   BatchNormalization, Activation, Input, concatenate,\n",
        "                                   Conv2D, MaxPooling2D, Flatten, Reshape, TimeDistributed,\n",
        "                                   MultiHeadAttention, LayerNormalization, Add)\n",
        "from tensorflow.keras.optimizers import Adam, AdamW\n",
        "from tensorflow.keras.callbacks import EarlyStopping, ReduceLROnPlateau, ModelCheckpoint\n",
        "from tensorflow.keras.utils import to_categorical\n",
        "from tensorflow.keras.regularizers import l2\n",
        "from tensorflow.keras.applications import ResNet101V2\n",
        "\n",
        "# Machine Learning Tools\n",
        "from sklearn.preprocessing import LabelEncoder, StandardScaler, MinMaxScaler\n",
        "from sklearn.model_selection import train_test_split, StratifiedKFold\n",
        "from sklearn.metrics import classification_report, confusion_matrix, accuracy_score, f1_score\n",
        "from sklearn.utils.class_weight import compute_class_weight\n",
        "import xgboost as xgb\n",
        "\n",
        "# Audio Processing Libraries\n",
        "import soundfile as sf\n",
        "from scipy import signal\n",
        "from scipy.stats import skew, kurtosis\n",
        "import noisereduce as nr\n",
        "\n",
        "# Visualization Tools\n",
        "import plotly.express as px\n",
        "import plotly.graph_objects as go\n",
        "from plotly.subplots import make_subplots\n",
        "\n",
        "# Utility Libraries\n",
        "import pickle\n",
        "import json\n",
        "from tqdm import tqdm\n",
        "import random\n",
        "from collections import Counter\n",
        "import gc\n",
        "\n",
        "# Configure Random Seeds for Reproducibility\n",
        "np.random.seed(2023)\n",
        "tf.random.set_seed(2023)\n",
        "random.seed(2023)\n",
        "\n",
        "print(\"✓ All dependencies loaded successfully!\")\n",
        "print(f\"TensorFlow Version: {tf.__version__}\")\n",
        "print(f\"Librosa Version: {librosa.__version__}\")"
      ]
    },
    {
      "cell_type": "code",
      "source": [
        "class AdvancedRAVDESSLoader:\n",
        "    def __init__(self, data_paths):\n",
        "        self.data_paths = data_paths\n",
        "        self.emotion_mapping = {'01':'neutral', '02':'calm', '03':'happy', '04':'sad',\n",
        "                               '05':'angry', '06':'fearful', '07':'disgust', '08':'surprised'}\n",
        "        self.modality_mapping = {'01': 'full-AV', '02': 'video-only', '03': 'audio-only'}\n",
        "        self.vocal_type_mapping = {'01': 'speech', '02': 'song'}\n",
        "        self.intensity_mapping = {'01': 'normal', '02': 'strong'}\n",
        "        self.statement_mapping = {'01': 'kids', '02': 'dogs'}\n",
        "\n",
        "    def decode_filename_structure(self, file_name):\n",
        "        \"\"\"Advanced filename parsing with comprehensive metadata extraction\"\"\"\n",
        "        components = os.path.splitext(file_name)[0].split('-')\n",
        "        performer_id = int(components[6])\n",
        "\n",
        "        return {\n",
        "            'modality_code': components[0],\n",
        "            'modality_type': self.modality_mapping.get(components[0], 'unknown'),\n",
        "            'vocal_code': components[1],\n",
        "            'vocal_type': self.vocal_type_mapping.get(components[1], 'unknown'),\n",
        "            'emotion_code': components[2],\n",
        "            'emotion_label': self.emotion_mapping[components[2]],\n",
        "            'intensity_code': components[3],\n",
        "            'intensity_type': self.intensity_mapping.get(components[3], 'unknown'),\n",
        "            'statement_code': components[4],\n",
        "            'statement_type': self.statement_mapping.get(components[4], 'unknown'),\n",
        "            'repetition_number': components[5],\n",
        "            'performer_id': performer_id,\n",
        "            'performer_gender': 'female' if performer_id % 2 == 0 else 'male'\n",
        "        }\n",
        "\n",
        "    def compile_dataset(self):\n",
        "        \"\"\"Compile comprehensive dataset with enhanced metadata\"\"\"\n",
        "        data_records = []\n",
        "\n",
        "        for channel_type, data_root in self.data_paths.items():\n",
        "            print(f\"Processing {channel_type} samples from {data_root}\")\n",
        "\n",
        "            if not os.path.exists(data_root):\n",
        "                print(f\"Warning: Path {data_root} not found!\")\n",
        "                continue\n",
        "\n",
        "            for performer_dir in tqdm(os.listdir(data_root), desc=f\"Loading {channel_type}\"):\n",
        "                performer_path = os.path.join(data_root, performer_dir)\n",
        "                if not os.path.isdir(performer_path):\n",
        "                    continue\n",
        "\n",
        "                for audio_file in os.listdir(performer_path):\n",
        "                    if audio_file.endswith(('.wav', '.mp4')):\n",
        "                        try:\n",
        "                            metadata = self.decode_filename_structure(audio_file)\n",
        "                            metadata.update({\n",
        "                                'channel_type': channel_type,\n",
        "                                'performer_directory': performer_dir,\n",
        "                                'full_path': os.path.join(performer_path, audio_file),\n",
        "                                'audio_filename': audio_file\n",
        "                            })\n",
        "                            data_records.append(metadata)\n",
        "                        except Exception as error:\n",
        "                            print(f\"Error processing {audio_file}: {error}\")\n",
        "\n",
        "        dataset = pd.DataFrame(data_records)\n",
        "        print(f\"Dataset compilation complete! Total samples: {dataset.shape}\")\n",
        "        return dataset"
      ],
      "metadata": {
        "id": "SINBeii_IRIY"
      },
      "execution_count": 4,
      "outputs": []
    },
    {
      "cell_type": "code",
      "source": [
        "audio_data_paths = {\n",
        "    'speech': r\"/content/drive/MyDrive/Audio_Speech_Actors_01-24\",\n",
        "    'song': r\"/content/drive/MyDrive/Audio_Song_Actors_01-24\"\n",
        "}\n",
        "\n",
        "data_loader = AdvancedRAVDESSLoader(audio_data_paths)\n",
        "emotion_dataset = data_loader.compile_dataset()\n",
        "\n",
        "print(\"\\n Dataset Analysis:\")\n",
        "print(f\"Total audio samples: {len(emotion_dataset)}\")\n",
        "print(f\"Unique emotions: {emotion_dataset['emotion_label'].unique()}\")\n",
        "print(f\"Channel types: {emotion_dataset['channel_type'].unique()}\")\n",
        "print(f\"Number of performers: {emotion_dataset['performer_id'].nunique()}\")\n",
        "\n",
        "# Emotion class distribution analysis\n",
        "emotion_distribution = emotion_dataset['emotion_label'].value_counts()\n",
        "print(f\"\\n Emotion Class Distribution:\")\n",
        "for emotion_class, sample_count in emotion_distribution.items():\n",
        "    print(f\"{emotion_class}: {sample_count}\")\n",
        "\n",
        "# Preview dataset structure\n",
        "print(\"\\n Dataset Preview (First 5 rows):\")\n",
        "print(emotion_dataset.head())\n"
      ],
      "metadata": {
        "colab": {
          "base_uri": "https://localhost:8080/"
        },
        "id": "U4GHYGn1IzKn",
        "outputId": "c27530e8-9368-4586-9158-47c98a1a9e1e"
      },
      "execution_count": 5,
      "outputs": [
        {
          "output_type": "stream",
          "name": "stdout",
          "text": [
            "Processing speech samples from /content/drive/MyDrive/Audio_Speech_Actors_01-24\n"
          ]
        },
        {
          "output_type": "stream",
          "name": "stderr",
          "text": [
            "Loading speech: 100%|██████████| 24/24 [00:04<00:00,  5.03it/s]\n"
          ]
        },
        {
          "output_type": "stream",
          "name": "stdout",
          "text": [
            "Processing song samples from /content/drive/MyDrive/Audio_Song_Actors_01-24\n"
          ]
        },
        {
          "output_type": "stream",
          "name": "stderr",
          "text": [
            "Loading song: 100%|██████████| 23/23 [00:03<00:00,  6.47it/s]"
          ]
        },
        {
          "output_type": "stream",
          "name": "stdout",
          "text": [
            "Error processing 03-02-05-01-02-01-12 (1).wav: invalid literal for int() with base 10: '12 (1)'\n",
            "Error processing 03-02-05-01-02-02-12 (1).wav: invalid literal for int() with base 10: '12 (1)'\n",
            "Error processing 03-02-05-02-01-01-12 (1).wav: invalid literal for int() with base 10: '12 (1)'\n",
            "Error processing 03-02-05-02-01-02-12 (1).wav: invalid literal for int() with base 10: '12 (1)'\n",
            "Error processing 03-02-05-02-02-01-12 (1).wav: invalid literal for int() with base 10: '12 (1)'\n",
            "Dataset compilation complete! Total samples: (2452, 17)\n",
            "\n",
            " Dataset Analysis:\n",
            "Total audio samples: 2452\n",
            "Unique emotions: ['surprised' 'sad' 'happy' 'neutral' 'disgust' 'calm' 'fearful' 'angry']\n",
            "Channel types: ['speech' 'song']\n",
            "Number of performers: 24\n",
            "\n",
            " Emotion Class Distribution:\n",
            "sad: 376\n",
            "happy: 376\n",
            "fearful: 376\n",
            "calm: 376\n",
            "angry: 376\n",
            "surprised: 192\n",
            "disgust: 192\n",
            "neutral: 188\n",
            "\n",
            " Dataset Preview (First 5 rows):\n",
            "  modality_code modality_type vocal_code vocal_type emotion_code  \\\n",
            "0            03    audio-only         01     speech           08   \n",
            "1            03    audio-only         01     speech           04   \n",
            "2            03    audio-only         01     speech           03   \n",
            "3            03    audio-only         01     speech           08   \n",
            "4            03    audio-only         01     speech           01   \n",
            "\n",
            "  emotion_label intensity_code intensity_type statement_code statement_type  \\\n",
            "0     surprised             02         strong             01           kids   \n",
            "1           sad             02         strong             01           kids   \n",
            "2         happy             02         strong             01           kids   \n",
            "3     surprised             01         normal             02           dogs   \n",
            "4       neutral             01         normal             01           kids   \n",
            "\n",
            "  repetition_number  performer_id performer_gender channel_type  \\\n",
            "0                01            17             male       speech   \n",
            "1                02            17             male       speech   \n",
            "2                02            17             male       speech   \n",
            "3                02            17             male       speech   \n",
            "4                01            17             male       speech   \n",
            "\n",
            "  performer_directory                                          full_path  \\\n",
            "0            Actor_17  /content/drive/MyDrive/Audio_Speech_Actors_01-...   \n",
            "1            Actor_17  /content/drive/MyDrive/Audio_Speech_Actors_01-...   \n",
            "2            Actor_17  /content/drive/MyDrive/Audio_Speech_Actors_01-...   \n",
            "3            Actor_17  /content/drive/MyDrive/Audio_Speech_Actors_01-...   \n",
            "4            Actor_17  /content/drive/MyDrive/Audio_Speech_Actors_01-...   \n",
            "\n",
            "             audio_filename  \n",
            "0  03-01-08-02-01-01-17.wav  \n",
            "1  03-01-04-02-01-02-17.wav  \n",
            "2  03-01-03-02-01-02-17.wav  \n",
            "3  03-01-08-01-02-02-17.wav  \n",
            "4  03-01-01-01-01-01-17.wav  \n"
          ]
        },
        {
          "output_type": "stream",
          "name": "stderr",
          "text": [
            "\n"
          ]
        }
      ]
    },
    {
      "cell_type": "code",
      "source": [
        "class EnhancedAudioFeatureExtractor:\n",
        "    def __init__(self, sampling_rate=22050, audio_duration=3.0, mfcc_coefficients=13, mel_bands=64):\n",
        "        self.sampling_rate = sampling_rate\n",
        "        self.audio_duration = audio_duration\n",
        "        self.mfcc_coefficients = mfcc_coefficients\n",
        "        self.mel_bands = mel_bands\n",
        "        self.target_length = int(sampling_rate * audio_duration)\n",
        "\n",
        "    def load_and_normalize_audio(self, audio_path, noise_reduction=False):\n",
        "        \"\"\"Load and normalize audio with optional noise reduction\"\"\"\n",
        "        try:\n",
        "            # Load audio signal\n",
        "            audio_signal, sr = librosa.load(audio_path, sr=self.sampling_rate, duration=self.audio_duration)\n",
        "\n",
        "            # Ensure consistent length\n",
        "            if len(audio_signal) < self.target_length:\n",
        "                audio_signal = np.pad(audio_signal, (0, self.target_length - len(audio_signal)), mode='constant')\n",
        "            else:\n",
        "                audio_signal = audio_signal[:self.target_length]\n",
        "\n",
        "            # Apply noise reduction if requested\n",
        "            if noise_reduction:\n",
        "                audio_signal = nr.reduce_noise(y=audio_signal, sr=sr, prop_decrease=0.8)\n",
        "\n",
        "            # Apply normalization\n",
        "            audio_signal = librosa.util.normalize(audio_signal)\n",
        "\n",
        "            return audio_signal, sr\n",
        "\n",
        "        except Exception as error:\n",
        "            print(f\"Audio loading error for {audio_path}: {error}\")\n",
        "            return np.zeros(self.target_length), self.sampling_rate\n",
        "\n",
        "    def compute_mfcc_features(self, audio_signal, sr):\n",
        "        \"\"\"Compute comprehensive MFCC feature set\"\"\"\n",
        "        mfcc_features = librosa.feature.mfcc(y=audio_signal, sr=sr, n_mfcc=self.mfcc_coefficients)\n",
        "\n",
        "        # Statistical aggregations\n",
        "        mfcc_means = np.mean(mfcc_features, axis=1)\n",
        "        mfcc_stds = np.std(mfcc_features, axis=1)\n",
        "        mfcc_first_deltas = np.mean(librosa.feature.delta(mfcc_features), axis=1)\n",
        "        mfcc_second_deltas = np.mean(librosa.feature.delta(mfcc_features, order=2), axis=1)\n",
        "\n",
        "        # Combine all features\n",
        "        combined_features = np.concatenate([mfcc_means, mfcc_stds, mfcc_first_deltas, mfcc_second_deltas])\n",
        "\n",
        "        return combined_features\n",
        "\n",
        "    def generate_mel_spectrogram(self, audio_path):\n",
        "        \"\"\"Generate mel-spectrogram for CNN processing\"\"\"\n",
        "        audio_signal, sr = self.load_and_normalize_audio(audio_path)\n",
        "\n",
        "        # Compute mel-spectrogram\n",
        "        mel_spectrogram = librosa.feature.melspectrogram(\n",
        "            y=audio_signal, sr=sr, n_mels=self.mel_bands, fmax=8000\n",
        "        )\n",
        "        mel_spec_db = librosa.power_to_db(mel_spectrogram, ref=np.max)\n",
        "\n",
        "        # Normalize to [0, 1] range\n",
        "        normalized_mel_spec = (mel_spec_db - mel_spec_db.min()) / (mel_spec_db.max() - mel_spec_db.min())\n",
        "\n",
        "        return normalized_mel_spec\n",
        "\n",
        "    def extract_temporal_features(self, audio_path, time_frames=128):\n",
        "        \"\"\"Extract temporal features for sequence modeling\"\"\"\n",
        "        audio_signal, sr = self.load_and_normalize_audio(audio_path)\n",
        "\n",
        "        # Extract MFCC sequences\n",
        "        mfcc_sequence = librosa.feature.mfcc(y=audio_signal, sr=sr, n_mfcc=self.mfcc_coefficients)\n",
        "\n",
        "        # Ensure consistent frame count\n",
        "        if mfcc_sequence.shape[1] < time_frames:\n",
        "            mfcc_sequence = np.pad(mfcc_sequence, ((0, 0), (0, time_frames - mfcc_sequence.shape[1])), mode='constant')\n",
        "        else:\n",
        "            mfcc_sequence = mfcc_sequence[:, :time_frames]\n",
        "\n",
        "        # Transpose for temporal modeling (time_steps, features)\n",
        "        return mfcc_sequence.T\n"
      ],
      "metadata": {
        "id": "dm_TWbX6JHmf"
      },
      "execution_count": 6,
      "outputs": []
    },
    {
      "cell_type": "code",
      "source": [
        "class SmartAudioAugmentation:\n",
        "    def __init__(self, sampling_rate=22050):\n",
        "        self.sampling_rate = sampling_rate\n",
        "\n",
        "    def inject_gaussian_noise(self, audio_signal, noise_intensity=0.003):\n",
        "        \"\"\"Inject controlled Gaussian noise\"\"\"\n",
        "        return audio_signal + noise_intensity * np.random.randn(len(audio_signal))\n",
        "\n",
        "    def apply_time_stretching(self, audio_signal, stretch_factor=None):\n",
        "        \"\"\"Apply controlled time stretching\"\"\"\n",
        "        if stretch_factor is None:\n",
        "            stretch_factor = np.random.uniform(0.85, 1.15)\n",
        "        return librosa.effects.time_stretch(audio_signal, rate=stretch_factor)\n",
        "\n",
        "    def apply_pitch_shifting(self, audio_signal, semitone_shift=None):\n",
        "        \"\"\"Apply controlled pitch shifting\"\"\"\n",
        "        if semitone_shift is None:\n",
        "            semitone_shift = np.random.randint(-3, 4)\n",
        "        return librosa.effects.pitch_shift(audio_signal, sr=self.sampling_rate, n_steps=semitone_shift)\n",
        "\n",
        "    def apply_random_augmentation(self, audio_signal):\n",
        "        \"\"\"Apply random augmentation technique\"\"\"\n",
        "        augmentation_methods = [self.inject_gaussian_noise, self.apply_time_stretching, self.apply_pitch_shifting]\n",
        "        selected_method = np.random.choice(augmentation_methods)\n",
        "        return selected_method(audio_signal)"
      ],
      "metadata": {
        "id": "_y-8ViO5JTW3"
      },
      "execution_count": 7,
      "outputs": []
    },
    {
      "cell_type": "code",
      "source": [
        "def extract_balanced_features(dataset, feature_extractor, enable_augmentation=True):\n",
        "    \"\"\"Extract features with intelligent class balancing\"\"\"\n",
        "\n",
        "    # Analyze class imbalance\n",
        "    class_distribution = dataset['emotion_label'].value_counts()\n",
        "    max_samples = class_distribution.max()\n",
        "\n",
        "    cnn_feature_list = []\n",
        "    lstm_feature_list = []\n",
        "    label_list = []\n",
        "\n",
        "    augmentation_engine = SmartAudioAugmentation()\n",
        "\n",
        "    print(\" Extracting features with intelligent class balancing...\")\n",
        "\n",
        "    for emotion_class in class_distribution.index:\n",
        "        class_subset = dataset[dataset['emotion_label'] == emotion_class]\n",
        "        current_samples = len(class_subset)\n",
        "\n",
        "        print(f\"Processing {emotion_class}: {current_samples} samples\")\n",
        "\n",
        "        # Process original samples\n",
        "        for idx, sample_row in class_subset.iterrows():\n",
        "            try:\n",
        "                # Extract multi-modal features\n",
        "                cnn_features = feature_extractor.generate_mel_spectrogram(sample_row['full_path'])\n",
        "                lstm_features = feature_extractor.extract_temporal_features(sample_row['full_path'])\n",
        "\n",
        "                cnn_feature_list.append(cnn_features)\n",
        "                lstm_feature_list.append(lstm_features)\n",
        "                label_list.append(sample_row['emotion_label'])\n",
        "\n",
        "                # Generate augmented samples for minority classes\n",
        "                if enable_augmentation and current_samples < max_samples * 0.75:\n",
        "                    # Load original audio for augmentation\n",
        "                    original_audio, sample_rate = feature_extractor.load_and_normalize_audio(sample_row['full_path'])\n",
        "\n",
        "                    # Calculate augmentation count\n",
        "                    augmentation_count = min(2, int((max_samples * 0.75 - current_samples) / current_samples) + 1)\n",
        "\n",
        "                    for aug_iter in range(augmentation_count):\n",
        "                        # Generate augmented version\n",
        "                        augmented_audio = augmentation_engine.apply_random_augmentation(original_audio)\n",
        "\n",
        "                        # Create temporary file for feature extraction\n",
        "                        temp_file_path = f\"temp_augmented_{idx}_{aug_iter}.wav\"\n",
        "                        sf.write(temp_file_path, augmented_audio, sample_rate)\n",
        "\n",
        "                        augmented_cnn_features = feature_extractor.generate_mel_spectrogram(temp_file_path)\n",
        "                        augmented_lstm_features = feature_extractor.extract_temporal_features(temp_file_path)\n",
        "\n",
        "                        cnn_feature_list.append(augmented_cnn_features)\n",
        "                        lstm_feature_list.append(augmented_lstm_features)\n",
        "                        label_list.append(sample_row['emotion_label'])\n",
        "\n",
        "                        # Clean up temporary file\n",
        "                        if os.path.exists(temp_file_path):\n",
        "                            os.remove(temp_file_path)\n",
        "\n",
        "            except Exception as error:\n",
        "                print(f\"Feature extraction error for {sample_row['full_path']}: {error}\")\n",
        "                continue\n",
        "\n",
        "    return np.array(cnn_feature_list), np.array(lstm_feature_list), np.array(label_list)\n"
      ],
      "metadata": {
        "id": "hFq9bB2iJZEr"
      },
      "execution_count": 8,
      "outputs": []
    },
    {
      "cell_type": "code",
      "source": [
        "# Initialize feature extraction system\n",
        "audio_processor = EnhancedAudioFeatureExtractor()\n",
        "\n",
        "# Perform stratified train-test split (80-20)\n",
        "training_data, testing_data = train_test_split(\n",
        "    emotion_dataset, test_size=0.20, random_state=2023,\n",
        "    stratify=emotion_dataset['emotion_label']\n",
        ")\n",
        "\n",
        "print(f\" Data split complete:\")\n",
        "print(f\"Training samples: {len(training_data)}\")\n",
        "print(f\"Testing samples: {len(testing_data)}\")\n",
        "\n",
        "# Extract features for training set (with augmentation)\n",
        "train_cnn_features, train_lstm_features, train_labels = extract_balanced_features(\n",
        "    training_data, audio_processor, enable_augmentation=True\n",
        ")\n",
        "\n",
        "# Extract features for test set (without augmentation)\n",
        "test_cnn_features, test_lstm_features, test_labels = extract_balanced_features(\n",
        "    testing_data, audio_processor, enable_augmentation=False\n",
        ")\n",
        "\n",
        "print(f\" Feature extraction summary:\")\n",
        "print(f\"Training CNN features shape: {train_cnn_features.shape}\")\n",
        "print(f\"Training LSTM features shape: {train_lstm_features.shape}\")\n",
        "print(f\"Testing CNN features shape: {test_cnn_features.shape}\")\n",
        "print(f\"Testing LSTM features shape: {test_lstm_features.shape}\")"
      ],
      "metadata": {
        "colab": {
          "base_uri": "https://localhost:8080/"
        },
        "id": "FLUS5ySuJgM4",
        "outputId": "578cb759-4d04-4cfb-c08c-e5fa75042eeb"
      },
      "execution_count": 9,
      "outputs": [
        {
          "output_type": "stream",
          "name": "stdout",
          "text": [
            " Data split complete:\n",
            "Training samples: 1961\n",
            "Testing samples: 491\n",
            " Extracting features with intelligent class balancing...\n",
            "Processing angry: 301 samples\n",
            "Processing fearful: 301 samples\n",
            "Processing happy: 301 samples\n",
            "Processing sad: 301 samples\n",
            "Processing calm: 301 samples\n",
            "Processing surprised: 153 samples\n",
            "Processing disgust: 153 samples\n",
            "Processing neutral: 150 samples\n",
            " Extracting features with intelligent class balancing...\n",
            "Processing angry: 75 samples\n",
            "Processing happy: 75 samples\n",
            "Processing fearful: 75 samples\n",
            "Processing sad: 75 samples\n",
            "Processing calm: 75 samples\n",
            "Processing disgust: 39 samples\n",
            "Processing surprised: 39 samples\n",
            "Processing neutral: 38 samples\n",
            " Feature extraction summary:\n",
            "Training CNN features shape: (2417, 64, 130)\n",
            "Training LSTM features shape: (2417, 128, 13)\n",
            "Testing CNN features shape: (491, 64, 130)\n",
            "Testing LSTM features shape: (491, 128, 13)\n"
          ]
        }
      ]
    },
    {
      "cell_type": "code",
      "source": [
        "# Initialize label encoding\n",
        "from keras.layers import GlobalAveragePooling2D\n",
        "emotion_encoder = LabelEncoder()\n",
        "encoded_train_labels = emotion_encoder.fit_transform(train_labels)\n",
        "encoded_test_labels = emotion_encoder.transform(test_labels)\n",
        "total_classes = len(emotion_encoder.classes_)\n",
        "\n",
        "# Convert to categorical format\n",
        "categorical_train_labels = to_categorical(encoded_train_labels, total_classes)\n",
        "categorical_test_labels = to_categorical(encoded_test_labels, total_classes)\n",
        "\n",
        "# Prepare RGB format for pre-trained models\n",
        "train_cnn_rgb = np.repeat(train_cnn_features[..., np.newaxis], 3, axis=-1)\n",
        "test_cnn_rgb = np.repeat(test_cnn_features[..., np.newaxis], 3, axis=-1)\n",
        "\n",
        "# Resize spectrograms for ResNet101 compatibility\n",
        "def resize_spectrograms_for_resnet(spectrogram_data, target_dimensions=(224, 224)):\n",
        "    \"\"\"Resize spectrograms for ResNet101 input requirements\"\"\"\n",
        "    from tensorflow.keras.preprocessing.image import array_to_img, img_to_array\n",
        "    from PIL import Image\n",
        "\n",
        "    resized_data = []\n",
        "    for idx in range(spectrogram_data.shape[0]):\n",
        "        # Convert to PIL Image and resize\n",
        "        image = array_to_img(spectrogram_data[idx])\n",
        "        resized_image = image.resize(target_dimensions)\n",
        "        image_array = img_to_array(resized_image)\n",
        "        resized_data.append(image_array)\n",
        "\n",
        "    return np.array(resized_data) / 255.0  # Normalize to [0,1]\n",
        "\n",
        "train_resnet_features = resize_spectrograms_for_resnet(train_cnn_rgb)\n",
        "test_resnet_features = resize_spectrograms_for_resnet(test_cnn_rgb)\n",
        "\n",
        "# Compute class weights for imbalance handling\n",
        "balanced_class_weights = compute_class_weight(\n",
        "    'balanced',\n",
        "    classes=np.unique(encoded_train_labels),\n",
        "    y=encoded_train_labels\n",
        ")\n",
        "class_weight_mapping = dict(enumerate(balanced_class_weights))\n",
        "\n",
        "print(f\"Label processing complete:\")\n",
        "print(f\"Total emotion classes: {total_classes}\")\n",
        "print(f\"Emotion classes: {emotion_encoder.classes_}\")\n",
        "print(f\"Class weights: {class_weight_mapping}\")\n",
        "\n",
        "# Final training distribution\n",
        "print(\"\\n Final training class distribution:\")\n",
        "final_train_distribution = Counter(train_labels)\n",
        "for emotion, count in final_train_distribution.items():\n",
        "    print(f\"{emotion}: {count}\")\n"
      ],
      "metadata": {
        "colab": {
          "base_uri": "https://localhost:8080/"
        },
        "id": "d3LQ0Oj_JneB",
        "outputId": "169dc2bc-6a7c-41e8-8235-b55810a7cbb1"
      },
      "execution_count": 10,
      "outputs": [
        {
          "output_type": "stream",
          "name": "stdout",
          "text": [
            "Label processing complete:\n",
            "Total emotion classes: 8\n",
            "Emotion classes: ['angry' 'calm' 'disgust' 'fearful' 'happy' 'neutral' 'sad' 'surprised']\n",
            "Class weights: {0: np.float64(1.0037375415282392), 1: np.float64(1.0037375415282392), 2: np.float64(0.9873366013071896), 3: np.float64(1.0037375415282392), 4: np.float64(1.0037375415282392), 5: np.float64(1.0070833333333333), 6: np.float64(1.0037375415282392), 7: np.float64(0.9873366013071896)}\n",
            "\n",
            " Final training class distribution:\n",
            "angry: 301\n",
            "fearful: 301\n",
            "happy: 301\n",
            "sad: 301\n",
            "calm: 301\n",
            "surprised: 306\n",
            "disgust: 306\n",
            "neutral: 300\n"
          ]
        }
      ]
    },
    {
      "cell_type": "code",
      "source": [
        "def create_training_callbacks(model_identifier):\n",
        "    \"\"\"Create comprehensive training callbacks\"\"\"\n",
        "    return [\n",
        "        EarlyStopping(\n",
        "            monitor='val_accuracy',\n",
        "            patience=25,\n",
        "            restore_best_weights=True,\n",
        "            verbose=1\n",
        "        ),\n",
        "        ReduceLROnPlateau(\n",
        "            monitor='val_loss',\n",
        "            factor=0.3,\n",
        "            patience=7,\n",
        "            min_lr=1e-4,\n",
        "            verbose=1\n",
        "        ),\n",
        "        ModelCheckpoint(\n",
        "            f'optimal_{model_identifier}_weights.h5',\n",
        "            monitor='val_accuracy',\n",
        "            save_best_only=True,\n",
        "            verbose=1\n",
        "        )\n",
        "    ]\n",
        "\n",
        "# Training hyperparameters\n",
        "training_batch_size = 32\n",
        "training_epochs = 100\n"
      ],
      "metadata": {
        "id": "zdH32-d2JzRm"
      },
      "execution_count": 11,
      "outputs": []
    },
    {
      "cell_type": "code",
      "source": [
        "from keras.layers import GlobalAveragePooling2D\n",
        "def create_resnet101_emotion_model(input_dimensions, num_classes):\n",
        "    \"\"\"Create ResNet101-based emotion recognition model\"\"\"\n",
        "\n",
        "    # Load pre-trained ResNet101V2\n",
        "    base_resnet = ResNet101V2(\n",
        "        weights='imagenet',\n",
        "        include_top=False,\n",
        "        input_shape=input_dimensions\n",
        "    )\n",
        "\n",
        "    # Freeze pre-trained layers\n",
        "    base_resnet.trainable = False\n",
        "\n",
        "    # Add custom classification layers\n",
        "    emotion_model = Sequential([\n",
        "        base_resnet,\n",
        "        GlobalAveragePooling2D(),\n",
        "        Dense(512, activation='relu'),\n",
        "        Dropout(0.2),\n",
        "        Dense(512, activation='relu'),\n",
        "        Dropout(0.2),\n",
        "        Dense(256, activation='relu'),\n",
        "        Dropout(0.2),\n",
        "        Dense(num_classes, activation='softmax')\n",
        "    ])\n",
        "\n",
        "    return emotion_model\n",
        "\n",
        "# Create and compile ResNet101 model\n",
        "resnet101_model = create_resnet101_emotion_model(\n",
        "    input_dimensions=train_resnet_features.shape[1:],\n",
        "    num_classes=total_classes\n",
        ")\n",
        "\n",
        "resnet101_model.compile(\n",
        "    optimizer=Adam(learning_rate=0.0001),\n",
        "    loss='categorical_crossentropy',\n",
        "    metrics=['accuracy']\n",
        ")\n",
        "\n",
        "print(\" ResNet101 Model Architecture:\")\n",
        "resnet101_model.summary()\n"
      ],
      "metadata": {
        "colab": {
          "base_uri": "https://localhost:8080/",
          "height": 450
        },
        "id": "6TN-FSDcKQl2",
        "outputId": "a07862e0-3090-49ab-9ae6-3a1b6a885be9"
      },
      "execution_count": 13,
      "outputs": [
        {
          "output_type": "stream",
          "name": "stdout",
          "text": [
            " ResNet101 Model Architecture:\n"
          ]
        },
        {
          "output_type": "display_data",
          "data": {
            "text/plain": [
              "\u001b[1mModel: \"sequential\"\u001b[0m\n"
            ],
            "text/html": [
              "<pre style=\"white-space:pre;overflow-x:auto;line-height:normal;font-family:Menlo,'DejaVu Sans Mono',consolas,'Courier New',monospace\"><span style=\"font-weight: bold\">Model: \"sequential\"</span>\n",
              "</pre>\n"
            ]
          },
          "metadata": {}
        },
        {
          "output_type": "display_data",
          "data": {
            "text/plain": [
              "┏━━━━━━━━━━━━━━━━━━━━━━━━━━━━━━━━━┳━━━━━━━━━━━━━━━━━━━━━━━━┳━━━━━━━━━━━━━━━┓\n",
              "┃\u001b[1m \u001b[0m\u001b[1mLayer (type)                   \u001b[0m\u001b[1m \u001b[0m┃\u001b[1m \u001b[0m\u001b[1mOutput Shape          \u001b[0m\u001b[1m \u001b[0m┃\u001b[1m \u001b[0m\u001b[1m      Param #\u001b[0m\u001b[1m \u001b[0m┃\n",
              "┡━━━━━━━━━━━━━━━━━━━━━━━━━━━━━━━━━╇━━━━━━━━━━━━━━━━━━━━━━━━╇━━━━━━━━━━━━━━━┩\n",
              "│ resnet101v2 (\u001b[38;5;33mFunctional\u001b[0m)        │ (\u001b[38;5;45mNone\u001b[0m, \u001b[38;5;34m7\u001b[0m, \u001b[38;5;34m7\u001b[0m, \u001b[38;5;34m2048\u001b[0m)     │    \u001b[38;5;34m42,626,560\u001b[0m │\n",
              "├─────────────────────────────────┼────────────────────────┼───────────────┤\n",
              "│ global_average_pooling2d        │ (\u001b[38;5;45mNone\u001b[0m, \u001b[38;5;34m2048\u001b[0m)           │             \u001b[38;5;34m0\u001b[0m │\n",
              "│ (\u001b[38;5;33mGlobalAveragePooling2D\u001b[0m)        │                        │               │\n",
              "├─────────────────────────────────┼────────────────────────┼───────────────┤\n",
              "│ dense (\u001b[38;5;33mDense\u001b[0m)                   │ (\u001b[38;5;45mNone\u001b[0m, \u001b[38;5;34m512\u001b[0m)            │     \u001b[38;5;34m1,049,088\u001b[0m │\n",
              "├─────────────────────────────────┼────────────────────────┼───────────────┤\n",
              "│ dropout (\u001b[38;5;33mDropout\u001b[0m)               │ (\u001b[38;5;45mNone\u001b[0m, \u001b[38;5;34m512\u001b[0m)            │             \u001b[38;5;34m0\u001b[0m │\n",
              "├─────────────────────────────────┼────────────────────────┼───────────────┤\n",
              "│ dense_1 (\u001b[38;5;33mDense\u001b[0m)                 │ (\u001b[38;5;45mNone\u001b[0m, \u001b[38;5;34m512\u001b[0m)            │       \u001b[38;5;34m262,656\u001b[0m │\n",
              "├─────────────────────────────────┼────────────────────────┼───────────────┤\n",
              "│ dropout_1 (\u001b[38;5;33mDropout\u001b[0m)             │ (\u001b[38;5;45mNone\u001b[0m, \u001b[38;5;34m512\u001b[0m)            │             \u001b[38;5;34m0\u001b[0m │\n",
              "├─────────────────────────────────┼────────────────────────┼───────────────┤\n",
              "│ dense_2 (\u001b[38;5;33mDense\u001b[0m)                 │ (\u001b[38;5;45mNone\u001b[0m, \u001b[38;5;34m256\u001b[0m)            │       \u001b[38;5;34m131,328\u001b[0m │\n",
              "├─────────────────────────────────┼────────────────────────┼───────────────┤\n",
              "│ dropout_2 (\u001b[38;5;33mDropout\u001b[0m)             │ (\u001b[38;5;45mNone\u001b[0m, \u001b[38;5;34m256\u001b[0m)            │             \u001b[38;5;34m0\u001b[0m │\n",
              "├─────────────────────────────────┼────────────────────────┼───────────────┤\n",
              "│ dense_3 (\u001b[38;5;33mDense\u001b[0m)                 │ (\u001b[38;5;45mNone\u001b[0m, \u001b[38;5;34m8\u001b[0m)              │         \u001b[38;5;34m2,056\u001b[0m │\n",
              "└─────────────────────────────────┴────────────────────────┴───────────────┘\n"
            ],
            "text/html": [
              "<pre style=\"white-space:pre;overflow-x:auto;line-height:normal;font-family:Menlo,'DejaVu Sans Mono',consolas,'Courier New',monospace\">┏━━━━━━━━━━━━━━━━━━━━━━━━━━━━━━━━━┳━━━━━━━━━━━━━━━━━━━━━━━━┳━━━━━━━━━━━━━━━┓\n",
              "┃<span style=\"font-weight: bold\"> Layer (type)                    </span>┃<span style=\"font-weight: bold\"> Output Shape           </span>┃<span style=\"font-weight: bold\">       Param # </span>┃\n",
              "┡━━━━━━━━━━━━━━━━━━━━━━━━━━━━━━━━━╇━━━━━━━━━━━━━━━━━━━━━━━━╇━━━━━━━━━━━━━━━┩\n",
              "│ resnet101v2 (<span style=\"color: #0087ff; text-decoration-color: #0087ff\">Functional</span>)        │ (<span style=\"color: #00d7ff; text-decoration-color: #00d7ff\">None</span>, <span style=\"color: #00af00; text-decoration-color: #00af00\">7</span>, <span style=\"color: #00af00; text-decoration-color: #00af00\">7</span>, <span style=\"color: #00af00; text-decoration-color: #00af00\">2048</span>)     │    <span style=\"color: #00af00; text-decoration-color: #00af00\">42,626,560</span> │\n",
              "├─────────────────────────────────┼────────────────────────┼───────────────┤\n",
              "│ global_average_pooling2d        │ (<span style=\"color: #00d7ff; text-decoration-color: #00d7ff\">None</span>, <span style=\"color: #00af00; text-decoration-color: #00af00\">2048</span>)           │             <span style=\"color: #00af00; text-decoration-color: #00af00\">0</span> │\n",
              "│ (<span style=\"color: #0087ff; text-decoration-color: #0087ff\">GlobalAveragePooling2D</span>)        │                        │               │\n",
              "├─────────────────────────────────┼────────────────────────┼───────────────┤\n",
              "│ dense (<span style=\"color: #0087ff; text-decoration-color: #0087ff\">Dense</span>)                   │ (<span style=\"color: #00d7ff; text-decoration-color: #00d7ff\">None</span>, <span style=\"color: #00af00; text-decoration-color: #00af00\">512</span>)            │     <span style=\"color: #00af00; text-decoration-color: #00af00\">1,049,088</span> │\n",
              "├─────────────────────────────────┼────────────────────────┼───────────────┤\n",
              "│ dropout (<span style=\"color: #0087ff; text-decoration-color: #0087ff\">Dropout</span>)               │ (<span style=\"color: #00d7ff; text-decoration-color: #00d7ff\">None</span>, <span style=\"color: #00af00; text-decoration-color: #00af00\">512</span>)            │             <span style=\"color: #00af00; text-decoration-color: #00af00\">0</span> │\n",
              "├─────────────────────────────────┼────────────────────────┼───────────────┤\n",
              "│ dense_1 (<span style=\"color: #0087ff; text-decoration-color: #0087ff\">Dense</span>)                 │ (<span style=\"color: #00d7ff; text-decoration-color: #00d7ff\">None</span>, <span style=\"color: #00af00; text-decoration-color: #00af00\">512</span>)            │       <span style=\"color: #00af00; text-decoration-color: #00af00\">262,656</span> │\n",
              "├─────────────────────────────────┼────────────────────────┼───────────────┤\n",
              "│ dropout_1 (<span style=\"color: #0087ff; text-decoration-color: #0087ff\">Dropout</span>)             │ (<span style=\"color: #00d7ff; text-decoration-color: #00d7ff\">None</span>, <span style=\"color: #00af00; text-decoration-color: #00af00\">512</span>)            │             <span style=\"color: #00af00; text-decoration-color: #00af00\">0</span> │\n",
              "├─────────────────────────────────┼────────────────────────┼───────────────┤\n",
              "│ dense_2 (<span style=\"color: #0087ff; text-decoration-color: #0087ff\">Dense</span>)                 │ (<span style=\"color: #00d7ff; text-decoration-color: #00d7ff\">None</span>, <span style=\"color: #00af00; text-decoration-color: #00af00\">256</span>)            │       <span style=\"color: #00af00; text-decoration-color: #00af00\">131,328</span> │\n",
              "├─────────────────────────────────┼────────────────────────┼───────────────┤\n",
              "│ dropout_2 (<span style=\"color: #0087ff; text-decoration-color: #0087ff\">Dropout</span>)             │ (<span style=\"color: #00d7ff; text-decoration-color: #00d7ff\">None</span>, <span style=\"color: #00af00; text-decoration-color: #00af00\">256</span>)            │             <span style=\"color: #00af00; text-decoration-color: #00af00\">0</span> │\n",
              "├─────────────────────────────────┼────────────────────────┼───────────────┤\n",
              "│ dense_3 (<span style=\"color: #0087ff; text-decoration-color: #0087ff\">Dense</span>)                 │ (<span style=\"color: #00d7ff; text-decoration-color: #00d7ff\">None</span>, <span style=\"color: #00af00; text-decoration-color: #00af00\">8</span>)              │         <span style=\"color: #00af00; text-decoration-color: #00af00\">2,056</span> │\n",
              "└─────────────────────────────────┴────────────────────────┴───────────────┘\n",
              "</pre>\n"
            ]
          },
          "metadata": {}
        },
        {
          "output_type": "display_data",
          "data": {
            "text/plain": [
              "\u001b[1m Total params: \u001b[0m\u001b[38;5;34m44,071,688\u001b[0m (168.12 MB)\n"
            ],
            "text/html": [
              "<pre style=\"white-space:pre;overflow-x:auto;line-height:normal;font-family:Menlo,'DejaVu Sans Mono',consolas,'Courier New',monospace\"><span style=\"font-weight: bold\"> Total params: </span><span style=\"color: #00af00; text-decoration-color: #00af00\">44,071,688</span> (168.12 MB)\n",
              "</pre>\n"
            ]
          },
          "metadata": {}
        },
        {
          "output_type": "display_data",
          "data": {
            "text/plain": [
              "\u001b[1m Trainable params: \u001b[0m\u001b[38;5;34m1,445,128\u001b[0m (5.51 MB)\n"
            ],
            "text/html": [
              "<pre style=\"white-space:pre;overflow-x:auto;line-height:normal;font-family:Menlo,'DejaVu Sans Mono',consolas,'Courier New',monospace\"><span style=\"font-weight: bold\"> Trainable params: </span><span style=\"color: #00af00; text-decoration-color: #00af00\">1,445,128</span> (5.51 MB)\n",
              "</pre>\n"
            ]
          },
          "metadata": {}
        },
        {
          "output_type": "display_data",
          "data": {
            "text/plain": [
              "\u001b[1m Non-trainable params: \u001b[0m\u001b[38;5;34m42,626,560\u001b[0m (162.61 MB)\n"
            ],
            "text/html": [
              "<pre style=\"white-space:pre;overflow-x:auto;line-height:normal;font-family:Menlo,'DejaVu Sans Mono',consolas,'Courier New',monospace\"><span style=\"font-weight: bold\"> Non-trainable params: </span><span style=\"color: #00af00; text-decoration-color: #00af00\">42,626,560</span> (162.61 MB)\n",
              "</pre>\n"
            ]
          },
          "metadata": {}
        }
      ]
    },
    {
      "cell_type": "code",
      "source": [
        "print(\" Training ResNet101 Model...\")\n",
        "\n",
        "\n",
        "resnet101_training_history = resnet101_model.fit(\n",
        "    train_resnet_features,\n",
        "    categorical_train_labels,\n",
        "    batch_size=training_batch_size,\n",
        "    epochs=training_epochs,\n",
        "    validation_data=(test_resnet_features, categorical_test_labels),\n",
        "    callbacks=create_training_callbacks('resnet101'),\n",
        "    class_weight=class_weight_mapping,\n",
        "    verbose=1\n",
        ")\n"
      ],
      "metadata": {
        "colab": {
          "base_uri": "https://localhost:8080/"
        },
        "id": "r61sev3BKXN7",
        "outputId": "eaec6236-cc84-4ad5-8f1a-308c948a6633"
      },
      "execution_count": 14,
      "outputs": [
        {
          "output_type": "stream",
          "name": "stdout",
          "text": [
            " Training ResNet101 Model...\n",
            "Epoch 1/100\n",
            "\u001b[1m76/76\u001b[0m \u001b[32m━━━━━━━━━━━━━━━━━━━━\u001b[0m\u001b[37m\u001b[0m \u001b[1m0s\u001b[0m 247ms/step - accuracy: 0.1746 - loss: 2.0944\n",
            "Epoch 1: val_accuracy improved from -inf to 0.31976, saving model to optimal_resnet101_weights.h5\n"
          ]
        },
        {
          "output_type": "stream",
          "name": "stderr",
          "text": [
            "WARNING:absl:You are saving your model as an HDF5 file via `model.save()` or `keras.saving.save_model(model)`. This file format is considered legacy. We recommend using instead the native Keras format, e.g. `model.save('my_model.keras')` or `keras.saving.save_model(model, 'my_model.keras')`. \n"
          ]
        },
        {
          "output_type": "stream",
          "name": "stdout",
          "text": [
            "\b\b\b\b\b\b\b\b\b\b\b\b\b\b\b\b\b\b\b\b\b\b\b\b\b\b\b\b\b\b\b\b\b\b\b\b\b\b\b\b\b\b\b\b\b\b\b\b\b\b\b\b\b\b\b\b\b\b\b\b\b\b\b\b\b\b\b\b\b\b\b\b\b\b\r\u001b[1m76/76\u001b[0m \u001b[32m━━━━━━━━━━━━━━━━━━━━\u001b[0m\u001b[37m\u001b[0m \u001b[1m64s\u001b[0m 489ms/step - accuracy: 0.1752 - loss: 2.0931 - val_accuracy: 0.3198 - val_loss: 1.7786 - learning_rate: 1.0000e-04\n",
            "Epoch 2/100\n",
            "\u001b[1m76/76\u001b[0m \u001b[32m━━━━━━━━━━━━━━━━━━━━\u001b[0m\u001b[37m\u001b[0m \u001b[1m0s\u001b[0m 122ms/step - accuracy: 0.3310 - loss: 1.7639\n",
            "Epoch 2: val_accuracy improved from 0.31976 to 0.37678, saving model to optimal_resnet101_weights.h5\n"
          ]
        },
        {
          "output_type": "stream",
          "name": "stderr",
          "text": [
            "WARNING:absl:You are saving your model as an HDF5 file via `model.save()` or `keras.saving.save_model(model)`. This file format is considered legacy. We recommend using instead the native Keras format, e.g. `model.save('my_model.keras')` or `keras.saving.save_model(model, 'my_model.keras')`. \n"
          ]
        },
        {
          "output_type": "stream",
          "name": "stdout",
          "text": [
            "\b\b\b\b\b\b\b\b\b\b\b\b\b\b\b\b\b\b\b\b\b\b\b\b\b\b\b\b\b\b\b\b\b\b\b\b\b\b\b\b\b\b\b\b\b\b\b\b\b\b\b\b\b\b\b\b\b\b\b\b\b\b\b\b\b\b\b\b\b\b\b\b\b\b\r\u001b[1m76/76\u001b[0m \u001b[32m━━━━━━━━━━━━━━━━━━━━\u001b[0m\u001b[37m\u001b[0m \u001b[1m13s\u001b[0m 174ms/step - accuracy: 0.3313 - loss: 1.7633 - val_accuracy: 0.3768 - val_loss: 1.6446 - learning_rate: 1.0000e-04\n",
            "Epoch 3/100\n",
            "\u001b[1m76/76\u001b[0m \u001b[32m━━━━━━━━━━━━━━━━━━━━\u001b[0m\u001b[37m\u001b[0m \u001b[1m0s\u001b[0m 125ms/step - accuracy: 0.4010 - loss: 1.5957\n",
            "Epoch 3: val_accuracy improved from 0.37678 to 0.39919, saving model to optimal_resnet101_weights.h5\n"
          ]
        },
        {
          "output_type": "stream",
          "name": "stderr",
          "text": [
            "WARNING:absl:You are saving your model as an HDF5 file via `model.save()` or `keras.saving.save_model(model)`. This file format is considered legacy. We recommend using instead the native Keras format, e.g. `model.save('my_model.keras')` or `keras.saving.save_model(model, 'my_model.keras')`. \n"
          ]
        },
        {
          "output_type": "stream",
          "name": "stdout",
          "text": [
            "\b\b\b\b\b\b\b\b\b\b\b\b\b\b\b\b\b\b\b\b\b\b\b\b\b\b\b\b\b\b\b\b\b\b\b\b\b\b\b\b\b\b\b\b\b\b\b\b\b\b\b\b\b\b\b\b\b\b\b\b\b\b\b\b\b\b\b\b\b\b\b\b\b\b\r\u001b[1m76/76\u001b[0m \u001b[32m━━━━━━━━━━━━━━━━━━━━\u001b[0m\u001b[37m\u001b[0m \u001b[1m20s\u001b[0m 172ms/step - accuracy: 0.4013 - loss: 1.5954 - val_accuracy: 0.3992 - val_loss: 1.5615 - learning_rate: 1.0000e-04\n",
            "Epoch 4/100\n",
            "\u001b[1m76/76\u001b[0m \u001b[32m━━━━━━━━━━━━━━━━━━━━\u001b[0m\u001b[37m\u001b[0m \u001b[1m0s\u001b[0m 127ms/step - accuracy: 0.4536 - loss: 1.4733\n",
            "Epoch 4: val_accuracy improved from 0.39919 to 0.43788, saving model to optimal_resnet101_weights.h5\n"
          ]
        },
        {
          "output_type": "stream",
          "name": "stderr",
          "text": [
            "WARNING:absl:You are saving your model as an HDF5 file via `model.save()` or `keras.saving.save_model(model)`. This file format is considered legacy. We recommend using instead the native Keras format, e.g. `model.save('my_model.keras')` or `keras.saving.save_model(model, 'my_model.keras')`. \n"
          ]
        },
        {
          "output_type": "stream",
          "name": "stdout",
          "text": [
            "\b\b\b\b\b\b\b\b\b\b\b\b\b\b\b\b\b\b\b\b\b\b\b\b\b\b\b\b\b\b\b\b\b\b\b\b\b\b\b\b\b\b\b\b\b\b\b\b\b\b\b\b\b\b\b\b\b\b\b\b\b\b\b\b\b\b\b\b\b\b\b\b\b\b\r\u001b[1m76/76\u001b[0m \u001b[32m━━━━━━━━━━━━━━━━━━━━\u001b[0m\u001b[37m\u001b[0m \u001b[1m21s\u001b[0m 179ms/step - accuracy: 0.4537 - loss: 1.4729 - val_accuracy: 0.4379 - val_loss: 1.4835 - learning_rate: 1.0000e-04\n",
            "Epoch 5/100\n",
            "\u001b[1m76/76\u001b[0m \u001b[32m━━━━━━━━━━━━━━━━━━━━\u001b[0m\u001b[37m\u001b[0m \u001b[1m0s\u001b[0m 129ms/step - accuracy: 0.4897 - loss: 1.3670\n",
            "Epoch 5: val_accuracy improved from 0.43788 to 0.45214, saving model to optimal_resnet101_weights.h5\n"
          ]
        },
        {
          "output_type": "stream",
          "name": "stderr",
          "text": [
            "WARNING:absl:You are saving your model as an HDF5 file via `model.save()` or `keras.saving.save_model(model)`. This file format is considered legacy. We recommend using instead the native Keras format, e.g. `model.save('my_model.keras')` or `keras.saving.save_model(model, 'my_model.keras')`. \n"
          ]
        },
        {
          "output_type": "stream",
          "name": "stdout",
          "text": [
            "\b\b\b\b\b\b\b\b\b\b\b\b\b\b\b\b\b\b\b\b\b\b\b\b\b\b\b\b\b\b\b\b\b\b\b\b\b\b\b\b\b\b\b\b\b\b\b\b\b\b\b\b\b\b\b\b\b\b\b\b\b\b\b\b\b\b\b\b\b\b\b\b\b\b\r\u001b[1m76/76\u001b[0m \u001b[32m━━━━━━━━━━━━━━━━━━━━\u001b[0m\u001b[37m\u001b[0m \u001b[1m21s\u001b[0m 182ms/step - accuracy: 0.4898 - loss: 1.3669 - val_accuracy: 0.4521 - val_loss: 1.4362 - learning_rate: 1.0000e-04\n",
            "Epoch 6/100\n",
            "\u001b[1m76/76\u001b[0m \u001b[32m━━━━━━━━━━━━━━━━━━━━\u001b[0m\u001b[37m\u001b[0m \u001b[1m0s\u001b[0m 133ms/step - accuracy: 0.5364 - loss: 1.2617\n",
            "Epoch 6: val_accuracy improved from 0.45214 to 0.48473, saving model to optimal_resnet101_weights.h5\n"
          ]
        },
        {
          "output_type": "stream",
          "name": "stderr",
          "text": [
            "WARNING:absl:You are saving your model as an HDF5 file via `model.save()` or `keras.saving.save_model(model)`. This file format is considered legacy. We recommend using instead the native Keras format, e.g. `model.save('my_model.keras')` or `keras.saving.save_model(model, 'my_model.keras')`. \n"
          ]
        },
        {
          "output_type": "stream",
          "name": "stdout",
          "text": [
            "\b\b\b\b\b\b\b\b\b\b\b\b\b\b\b\b\b\b\b\b\b\b\b\b\b\b\b\b\b\b\b\b\b\b\b\b\b\b\b\b\b\b\b\b\b\b\b\b\b\b\b\b\b\b\b\b\b\b\b\b\b\b\b\b\b\b\b\b\b\b\b\b\b\b\r\u001b[1m76/76\u001b[0m \u001b[32m━━━━━━━━━━━━━━━━━━━━\u001b[0m\u001b[37m\u001b[0m \u001b[1m20s\u001b[0m 177ms/step - accuracy: 0.5364 - loss: 1.2616 - val_accuracy: 0.4847 - val_loss: 1.3863 - learning_rate: 1.0000e-04\n",
            "Epoch 7/100\n",
            "\u001b[1m76/76\u001b[0m \u001b[32m━━━━━━━━━━━━━━━━━━━━\u001b[0m\u001b[37m\u001b[0m \u001b[1m0s\u001b[0m 132ms/step - accuracy: 0.5618 - loss: 1.1930\n",
            "Epoch 7: val_accuracy improved from 0.48473 to 0.49898, saving model to optimal_resnet101_weights.h5\n"
          ]
        },
        {
          "output_type": "stream",
          "name": "stderr",
          "text": [
            "WARNING:absl:You are saving your model as an HDF5 file via `model.save()` or `keras.saving.save_model(model)`. This file format is considered legacy. We recommend using instead the native Keras format, e.g. `model.save('my_model.keras')` or `keras.saving.save_model(model, 'my_model.keras')`. \n"
          ]
        },
        {
          "output_type": "stream",
          "name": "stdout",
          "text": [
            "\b\b\b\b\b\b\b\b\b\b\b\b\b\b\b\b\b\b\b\b\b\b\b\b\b\b\b\b\b\b\b\b\b\b\b\b\b\b\b\b\b\b\b\b\b\b\b\b\b\b\b\b\b\b\b\b\b\b\b\b\b\b\b\b\b\b\b\b\b\b\b\b\b\b\r\u001b[1m76/76\u001b[0m \u001b[32m━━━━━━━━━━━━━━━━━━━━\u001b[0m\u001b[37m\u001b[0m \u001b[1m13s\u001b[0m 177ms/step - accuracy: 0.5619 - loss: 1.1928 - val_accuracy: 0.4990 - val_loss: 1.3705 - learning_rate: 1.0000e-04\n",
            "Epoch 8/100\n",
            "\u001b[1m76/76\u001b[0m \u001b[32m━━━━━━━━━━━━━━━━━━━━\u001b[0m\u001b[37m\u001b[0m \u001b[1m0s\u001b[0m 131ms/step - accuracy: 0.6074 - loss: 1.1009\n",
            "Epoch 8: val_accuracy improved from 0.49898 to 0.50305, saving model to optimal_resnet101_weights.h5\n"
          ]
        },
        {
          "output_type": "stream",
          "name": "stderr",
          "text": [
            "WARNING:absl:You are saving your model as an HDF5 file via `model.save()` or `keras.saving.save_model(model)`. This file format is considered legacy. We recommend using instead the native Keras format, e.g. `model.save('my_model.keras')` or `keras.saving.save_model(model, 'my_model.keras')`. \n"
          ]
        },
        {
          "output_type": "stream",
          "name": "stdout",
          "text": [
            "\b\b\b\b\b\b\b\b\b\b\b\b\b\b\b\b\b\b\b\b\b\b\b\b\b\b\b\b\b\b\b\b\b\b\b\b\b\b\b\b\b\b\b\b\b\b\b\b\b\b\b\b\b\b\b\b\b\b\b\b\b\b\b\b\b\b\b\b\b\b\b\b\b\b\r\u001b[1m76/76\u001b[0m \u001b[32m━━━━━━━━━━━━━━━━━━━━\u001b[0m\u001b[37m\u001b[0m \u001b[1m16s\u001b[0m 209ms/step - accuracy: 0.6075 - loss: 1.1009 - val_accuracy: 0.5031 - val_loss: 1.3375 - learning_rate: 1.0000e-04\n",
            "Epoch 9/100\n",
            "\u001b[1m76/76\u001b[0m \u001b[32m━━━━━━━━━━━━━━━━━━━━\u001b[0m\u001b[37m\u001b[0m \u001b[1m0s\u001b[0m 129ms/step - accuracy: 0.6293 - loss: 1.0370\n",
            "Epoch 9: val_accuracy improved from 0.50305 to 0.50509, saving model to optimal_resnet101_weights.h5\n"
          ]
        },
        {
          "output_type": "stream",
          "name": "stderr",
          "text": [
            "WARNING:absl:You are saving your model as an HDF5 file via `model.save()` or `keras.saving.save_model(model)`. This file format is considered legacy. We recommend using instead the native Keras format, e.g. `model.save('my_model.keras')` or `keras.saving.save_model(model, 'my_model.keras')`. \n"
          ]
        },
        {
          "output_type": "stream",
          "name": "stdout",
          "text": [
            "\b\b\b\b\b\b\b\b\b\b\b\b\b\b\b\b\b\b\b\b\b\b\b\b\b\b\b\b\b\b\b\b\b\b\b\b\b\b\b\b\b\b\b\b\b\b\b\b\b\b\b\b\b\b\b\b\b\b\b\b\b\b\b\b\b\b\b\b\b\b\b\b\b\b\r\u001b[1m76/76\u001b[0m \u001b[32m━━━━━━━━━━━━━━━━━━━━\u001b[0m\u001b[37m\u001b[0m \u001b[1m18s\u001b[0m 173ms/step - accuracy: 0.6293 - loss: 1.0368 - val_accuracy: 0.5051 - val_loss: 1.3230 - learning_rate: 1.0000e-04\n",
            "Epoch 10/100\n",
            "\u001b[1m76/76\u001b[0m \u001b[32m━━━━━━━━━━━━━━━━━━━━\u001b[0m\u001b[37m\u001b[0m \u001b[1m0s\u001b[0m 131ms/step - accuracy: 0.6467 - loss: 0.9662\n",
            "Epoch 10: val_accuracy did not improve from 0.50509\n",
            "\u001b[1m76/76\u001b[0m \u001b[32m━━━━━━━━━━━━━━━━━━━━\u001b[0m\u001b[37m\u001b[0m \u001b[1m19s\u001b[0m 158ms/step - accuracy: 0.6467 - loss: 0.9660 - val_accuracy: 0.5031 - val_loss: 1.3220 - learning_rate: 1.0000e-04\n",
            "Epoch 11/100\n",
            "\u001b[1m76/76\u001b[0m \u001b[32m━━━━━━━━━━━━━━━━━━━━\u001b[0m\u001b[37m\u001b[0m \u001b[1m0s\u001b[0m 138ms/step - accuracy: 0.6579 - loss: 0.9214\n",
            "Epoch 11: val_accuracy improved from 0.50509 to 0.52138, saving model to optimal_resnet101_weights.h5\n"
          ]
        },
        {
          "output_type": "stream",
          "name": "stderr",
          "text": [
            "WARNING:absl:You are saving your model as an HDF5 file via `model.save()` or `keras.saving.save_model(model)`. This file format is considered legacy. We recommend using instead the native Keras format, e.g. `model.save('my_model.keras')` or `keras.saving.save_model(model, 'my_model.keras')`. \n"
          ]
        },
        {
          "output_type": "stream",
          "name": "stdout",
          "text": [
            "\b\b\b\b\b\b\b\b\b\b\b\b\b\b\b\b\b\b\b\b\b\b\b\b\b\b\b\b\b\b\b\b\b\b\b\b\b\b\b\b\b\b\b\b\b\b\b\b\b\b\b\b\b\b\b\b\b\b\b\b\b\b\b\b\b\b\b\b\b\b\b\b\b\b\r\u001b[1m76/76\u001b[0m \u001b[32m━━━━━━━━━━━━━━━━━━━━\u001b[0m\u001b[37m\u001b[0m \u001b[1m24s\u001b[0m 209ms/step - accuracy: 0.6580 - loss: 0.9210 - val_accuracy: 0.5214 - val_loss: 1.2867 - learning_rate: 1.0000e-04\n",
            "Epoch 12/100\n",
            "\u001b[1m76/76\u001b[0m \u001b[32m━━━━━━━━━━━━━━━━━━━━\u001b[0m\u001b[37m\u001b[0m \u001b[1m0s\u001b[0m 130ms/step - accuracy: 0.6950 - loss: 0.8364\n",
            "Epoch 12: val_accuracy improved from 0.52138 to 0.52749, saving model to optimal_resnet101_weights.h5\n"
          ]
        },
        {
          "output_type": "stream",
          "name": "stderr",
          "text": [
            "WARNING:absl:You are saving your model as an HDF5 file via `model.save()` or `keras.saving.save_model(model)`. This file format is considered legacy. We recommend using instead the native Keras format, e.g. `model.save('my_model.keras')` or `keras.saving.save_model(model, 'my_model.keras')`. \n"
          ]
        },
        {
          "output_type": "stream",
          "name": "stdout",
          "text": [
            "\b\b\b\b\b\b\b\b\b\b\b\b\b\b\b\b\b\b\b\b\b\b\b\b\b\b\b\b\b\b\b\b\b\b\b\b\b\b\b\b\b\b\b\b\b\b\b\b\b\b\b\b\b\b\b\b\b\b\b\b\b\b\b\b\b\b\b\b\b\b\b\b\b\b\r\u001b[1m76/76\u001b[0m \u001b[32m━━━━━━━━━━━━━━━━━━━━\u001b[0m\u001b[37m\u001b[0m \u001b[1m20s\u001b[0m 209ms/step - accuracy: 0.6951 - loss: 0.8362 - val_accuracy: 0.5275 - val_loss: 1.2682 - learning_rate: 1.0000e-04\n",
            "Epoch 13/100\n",
            "\u001b[1m76/76\u001b[0m \u001b[32m━━━━━━━━━━━━━━━━━━━━\u001b[0m\u001b[37m\u001b[0m \u001b[1m0s\u001b[0m 132ms/step - accuracy: 0.7260 - loss: 0.7830\n",
            "Epoch 13: val_accuracy did not improve from 0.52749\n",
            "\u001b[1m76/76\u001b[0m \u001b[32m━━━━━━━━━━━━━━━━━━━━\u001b[0m\u001b[37m\u001b[0m \u001b[1m17s\u001b[0m 158ms/step - accuracy: 0.7260 - loss: 0.7827 - val_accuracy: 0.5234 - val_loss: 1.2733 - learning_rate: 1.0000e-04\n",
            "Epoch 14/100\n",
            "\u001b[1m76/76\u001b[0m \u001b[32m━━━━━━━━━━━━━━━━━━━━\u001b[0m\u001b[37m\u001b[0m \u001b[1m0s\u001b[0m 132ms/step - accuracy: 0.7464 - loss: 0.7211\n",
            "Epoch 14: val_accuracy did not improve from 0.52749\n",
            "\u001b[1m76/76\u001b[0m \u001b[32m━━━━━━━━━━━━━━━━━━━━\u001b[0m\u001b[37m\u001b[0m \u001b[1m21s\u001b[0m 167ms/step - accuracy: 0.7466 - loss: 0.7206 - val_accuracy: 0.5193 - val_loss: 1.2795 - learning_rate: 1.0000e-04\n",
            "Epoch 15/100\n",
            "\u001b[1m76/76\u001b[0m \u001b[32m━━━━━━━━━━━━━━━━━━━━\u001b[0m\u001b[37m\u001b[0m \u001b[1m0s\u001b[0m 130ms/step - accuracy: 0.7558 - loss: 0.6695\n",
            "Epoch 15: val_accuracy improved from 0.52749 to 0.53768, saving model to optimal_resnet101_weights.h5\n"
          ]
        },
        {
          "output_type": "stream",
          "name": "stderr",
          "text": [
            "WARNING:absl:You are saving your model as an HDF5 file via `model.save()` or `keras.saving.save_model(model)`. This file format is considered legacy. We recommend using instead the native Keras format, e.g. `model.save('my_model.keras')` or `keras.saving.save_model(model, 'my_model.keras')`. \n"
          ]
        },
        {
          "output_type": "stream",
          "name": "stdout",
          "text": [
            "\b\b\b\b\b\b\b\b\b\b\b\b\b\b\b\b\b\b\b\b\b\b\b\b\b\b\b\b\b\b\b\b\b\b\b\b\b\b\b\b\b\b\b\b\b\b\b\b\b\b\b\b\b\b\b\b\b\b\b\b\b\b\b\b\b\b\b\b\b\b\b\b\b\b\r\u001b[1m76/76\u001b[0m \u001b[32m━━━━━━━━━━━━━━━━━━━━\u001b[0m\u001b[37m\u001b[0m \u001b[1m22s\u001b[0m 186ms/step - accuracy: 0.7561 - loss: 0.6691 - val_accuracy: 0.5377 - val_loss: 1.2804 - learning_rate: 1.0000e-04\n",
            "Epoch 16/100\n",
            "\u001b[1m76/76\u001b[0m \u001b[32m━━━━━━━━━━━━━━━━━━━━\u001b[0m\u001b[37m\u001b[0m \u001b[1m0s\u001b[0m 130ms/step - accuracy: 0.7850 - loss: 0.6069\n",
            "Epoch 16: val_accuracy did not improve from 0.53768\n",
            "\u001b[1m76/76\u001b[0m \u001b[32m━━━━━━━━━━━━━━━━━━━━\u001b[0m\u001b[37m\u001b[0m \u001b[1m19s\u001b[0m 165ms/step - accuracy: 0.7852 - loss: 0.6064 - val_accuracy: 0.5316 - val_loss: 1.2741 - learning_rate: 1.0000e-04\n",
            "Epoch 17/100\n",
            "\u001b[1m76/76\u001b[0m \u001b[32m━━━━━━━━━━━━━━━━━━━━\u001b[0m\u001b[37m\u001b[0m \u001b[1m0s\u001b[0m 130ms/step - accuracy: 0.8005 - loss: 0.5635\n",
            "Epoch 17: val_accuracy improved from 0.53768 to 0.54990, saving model to optimal_resnet101_weights.h5\n"
          ]
        },
        {
          "output_type": "stream",
          "name": "stderr",
          "text": [
            "WARNING:absl:You are saving your model as an HDF5 file via `model.save()` or `keras.saving.save_model(model)`. This file format is considered legacy. We recommend using instead the native Keras format, e.g. `model.save('my_model.keras')` or `keras.saving.save_model(model, 'my_model.keras')`. \n"
          ]
        },
        {
          "output_type": "stream",
          "name": "stdout",
          "text": [
            "\b\b\b\b\b\b\b\b\b\b\b\b\b\b\b\b\b\b\b\b\b\b\b\b\b\b\b\b\b\b\b\b\b\b\b\b\b\b\b\b\b\b\b\b\b\b\b\b\b\b\b\b\b\b\b\b\b\b\b\b\b\b\b\b\b\b\b\b\b\b\b\b\b\b\r\u001b[1m76/76\u001b[0m \u001b[32m━━━━━━━━━━━━━━━━━━━━\u001b[0m\u001b[37m\u001b[0m \u001b[1m22s\u001b[0m 181ms/step - accuracy: 0.8006 - loss: 0.5631 - val_accuracy: 0.5499 - val_loss: 1.2767 - learning_rate: 1.0000e-04\n",
            "Epoch 18/100\n",
            "\u001b[1m76/76\u001b[0m \u001b[32m━━━━━━━━━━━━━━━━━━━━\u001b[0m\u001b[37m\u001b[0m \u001b[1m0s\u001b[0m 132ms/step - accuracy: 0.8482 - loss: 0.4868\n",
            "Epoch 18: val_accuracy improved from 0.54990 to 0.55804, saving model to optimal_resnet101_weights.h5\n"
          ]
        },
        {
          "output_type": "stream",
          "name": "stderr",
          "text": [
            "WARNING:absl:You are saving your model as an HDF5 file via `model.save()` or `keras.saving.save_model(model)`. This file format is considered legacy. We recommend using instead the native Keras format, e.g. `model.save('my_model.keras')` or `keras.saving.save_model(model, 'my_model.keras')`. \n"
          ]
        },
        {
          "output_type": "stream",
          "name": "stdout",
          "text": [
            "\b\b\b\b\b\b\b\b\b\b\b\b\b\b\b\b\b\b\b\b\b\b\b\b\b\b\b\b\b\b\b\b\b\b\b\b\b\b\b\b\b\b\b\b\b\b\b\b\b\b\b\b\b\b\b\b\b\b\b\b\b\b\b\b\b\b\b\b\b\b\b\b\b\b\r\u001b[1m76/76\u001b[0m \u001b[32m━━━━━━━━━━━━━━━━━━━━\u001b[0m\u001b[37m\u001b[0m \u001b[1m14s\u001b[0m 178ms/step - accuracy: 0.8482 - loss: 0.4866 - val_accuracy: 0.5580 - val_loss: 1.3164 - learning_rate: 1.0000e-04\n",
            "Epoch 19/100\n",
            "\u001b[1m76/76\u001b[0m \u001b[32m━━━━━━━━━━━━━━━━━━━━\u001b[0m\u001b[37m\u001b[0m \u001b[1m0s\u001b[0m 130ms/step - accuracy: 0.8543 - loss: 0.4448\n",
            "Epoch 19: val_accuracy improved from 0.55804 to 0.56619, saving model to optimal_resnet101_weights.h5\n"
          ]
        },
        {
          "output_type": "stream",
          "name": "stderr",
          "text": [
            "WARNING:absl:You are saving your model as an HDF5 file via `model.save()` or `keras.saving.save_model(model)`. This file format is considered legacy. We recommend using instead the native Keras format, e.g. `model.save('my_model.keras')` or `keras.saving.save_model(model, 'my_model.keras')`. \n"
          ]
        },
        {
          "output_type": "stream",
          "name": "stdout",
          "text": [
            "\b\b\b\b\b\b\b\b\b\b\b\b\b\b\b\b\b\b\b\b\b\b\b\b\b\b\b\b\b\b\b\b\b\b\b\b\b\b\b\b\b\b\b\b\b\b\b\b\b\b\b\b\b\b\b\b\b\b\b\b\b\b\b\b\b\b\b\b\b\b\b\b\b\b\r\u001b[1m76/76\u001b[0m \u001b[32m━━━━━━━━━━━━━━━━━━━━\u001b[0m\u001b[37m\u001b[0m \u001b[1m22s\u001b[0m 192ms/step - accuracy: 0.8544 - loss: 0.4446 - val_accuracy: 0.5662 - val_loss: 1.2962 - learning_rate: 1.0000e-04\n",
            "Epoch 20/100\n",
            "\u001b[1m76/76\u001b[0m \u001b[32m━━━━━━━━━━━━━━━━━━━━\u001b[0m\u001b[37m\u001b[0m \u001b[1m0s\u001b[0m 128ms/step - accuracy: 0.8770 - loss: 0.3854\n",
            "Epoch 20: val_accuracy did not improve from 0.56619\n",
            "\u001b[1m76/76\u001b[0m \u001b[32m━━━━━━━━━━━━━━━━━━━━\u001b[0m\u001b[37m\u001b[0m \u001b[1m18s\u001b[0m 163ms/step - accuracy: 0.8771 - loss: 0.3852 - val_accuracy: 0.5479 - val_loss: 1.3098 - learning_rate: 1.0000e-04\n",
            "Epoch 21/100\n",
            "\u001b[1m76/76\u001b[0m \u001b[32m━━━━━━━━━━━━━━━━━━━━\u001b[0m\u001b[37m\u001b[0m \u001b[1m0s\u001b[0m 133ms/step - accuracy: 0.8960 - loss: 0.3588\n",
            "Epoch 21: val_accuracy did not improve from 0.56619\n",
            "\u001b[1m76/76\u001b[0m \u001b[32m━━━━━━━━━━━━━━━━━━━━\u001b[0m\u001b[37m\u001b[0m \u001b[1m20s\u001b[0m 160ms/step - accuracy: 0.8960 - loss: 0.3586 - val_accuracy: 0.5642 - val_loss: 1.3092 - learning_rate: 1.0000e-04\n",
            "Epoch 22/100\n",
            "\u001b[1m76/76\u001b[0m \u001b[32m━━━━━━━━━━━━━━━━━━━━\u001b[0m\u001b[37m\u001b[0m \u001b[1m0s\u001b[0m 132ms/step - accuracy: 0.9001 - loss: 0.3301\n",
            "Epoch 22: val_accuracy did not improve from 0.56619\n",
            "\u001b[1m76/76\u001b[0m \u001b[32m━━━━━━━━━━━━━━━━━━━━\u001b[0m\u001b[37m\u001b[0m \u001b[1m21s\u001b[0m 166ms/step - accuracy: 0.9002 - loss: 0.3298 - val_accuracy: 0.5662 - val_loss: 1.3380 - learning_rate: 1.0000e-04\n",
            "Epoch 23/100\n",
            "\u001b[1m76/76\u001b[0m \u001b[32m━━━━━━━━━━━━━━━━━━━━\u001b[0m\u001b[37m\u001b[0m \u001b[1m0s\u001b[0m 128ms/step - accuracy: 0.9185 - loss: 0.2797\n",
            "Epoch 23: val_accuracy improved from 0.56619 to 0.57841, saving model to optimal_resnet101_weights.h5\n"
          ]
        },
        {
          "output_type": "stream",
          "name": "stderr",
          "text": [
            "WARNING:absl:You are saving your model as an HDF5 file via `model.save()` or `keras.saving.save_model(model)`. This file format is considered legacy. We recommend using instead the native Keras format, e.g. `model.save('my_model.keras')` or `keras.saving.save_model(model, 'my_model.keras')`. \n"
          ]
        },
        {
          "output_type": "stream",
          "name": "stdout",
          "text": [
            "\b\b\b\b\b\b\b\b\b\b\b\b\b\b\b\b\b\b\b\b\b\b\b\b\b\b\b\b\b\b\b\b\b\b\b\b\b\b\b\b\b\b\b\b\b\b\b\b\b\b\b\b\b\b\b\b\b\b\b\b\b\b\b\b\b\b\b\b\b\b\b\b\b\b\r\u001b[1m76/76\u001b[0m \u001b[32m━━━━━━━━━━━━━━━━━━━━\u001b[0m\u001b[37m\u001b[0m \u001b[1m22s\u001b[0m 180ms/step - accuracy: 0.9186 - loss: 0.2795 - val_accuracy: 0.5784 - val_loss: 1.3503 - learning_rate: 1.0000e-04\n",
            "Epoch 24/100\n",
            "\u001b[1m76/76\u001b[0m \u001b[32m━━━━━━━━━━━━━━━━━━━━\u001b[0m\u001b[37m\u001b[0m \u001b[1m0s\u001b[0m 132ms/step - accuracy: 0.9182 - loss: 0.2507\n",
            "Epoch 24: val_accuracy did not improve from 0.57841\n",
            "\u001b[1m76/76\u001b[0m \u001b[32m━━━━━━━━━━━━━━━━━━━━\u001b[0m\u001b[37m\u001b[0m \u001b[1m13s\u001b[0m 167ms/step - accuracy: 0.9183 - loss: 0.2506 - val_accuracy: 0.5519 - val_loss: 1.4095 - learning_rate: 1.0000e-04\n",
            "Epoch 25/100\n",
            "\u001b[1m76/76\u001b[0m \u001b[32m━━━━━━━━━━━━━━━━━━━━\u001b[0m\u001b[37m\u001b[0m \u001b[1m0s\u001b[0m 130ms/step - accuracy: 0.9385 - loss: 0.2190\n",
            "Epoch 25: val_accuracy did not improve from 0.57841\n",
            "\u001b[1m76/76\u001b[0m \u001b[32m━━━━━━━━━━━━━━━━━━━━\u001b[0m\u001b[37m\u001b[0m \u001b[1m20s\u001b[0m 164ms/step - accuracy: 0.9385 - loss: 0.2190 - val_accuracy: 0.5621 - val_loss: 1.3874 - learning_rate: 1.0000e-04\n",
            "Epoch 26/100\n",
            "\u001b[1m76/76\u001b[0m \u001b[32m━━━━━━━━━━━━━━━━━━━━\u001b[0m\u001b[37m\u001b[0m \u001b[1m0s\u001b[0m 132ms/step - accuracy: 0.9501 - loss: 0.1858\n",
            "Epoch 26: val_accuracy did not improve from 0.57841\n",
            "\u001b[1m76/76\u001b[0m \u001b[32m━━━━━━━━━━━━━━━━━━━━\u001b[0m\u001b[37m\u001b[0m \u001b[1m13s\u001b[0m 166ms/step - accuracy: 0.9501 - loss: 0.1856 - val_accuracy: 0.5723 - val_loss: 1.4517 - learning_rate: 1.0000e-04\n",
            "Epoch 27/100\n",
            "\u001b[1m76/76\u001b[0m \u001b[32m━━━━━━━━━━━━━━━━━━━━\u001b[0m\u001b[37m\u001b[0m \u001b[1m0s\u001b[0m 128ms/step - accuracy: 0.9558 - loss: 0.1685\n",
            "Epoch 27: val_accuracy did not improve from 0.57841\n",
            "\u001b[1m76/76\u001b[0m \u001b[32m━━━━━━━━━━━━━━━━━━━━\u001b[0m\u001b[37m\u001b[0m \u001b[1m20s\u001b[0m 163ms/step - accuracy: 0.9558 - loss: 0.1685 - val_accuracy: 0.5601 - val_loss: 1.4810 - learning_rate: 1.0000e-04\n",
            "Epoch 28/100\n",
            "\u001b[1m76/76\u001b[0m \u001b[32m━━━━━━━━━━━━━━━━━━━━\u001b[0m\u001b[37m\u001b[0m \u001b[1m0s\u001b[0m 130ms/step - accuracy: 0.9496 - loss: 0.1721\n",
            "Epoch 28: val_accuracy did not improve from 0.57841\n",
            "\u001b[1m76/76\u001b[0m \u001b[32m━━━━━━━━━━━━━━━━━━━━\u001b[0m\u001b[37m\u001b[0m \u001b[1m20s\u001b[0m 158ms/step - accuracy: 0.9497 - loss: 0.1719 - val_accuracy: 0.5580 - val_loss: 1.5343 - learning_rate: 1.0000e-04\n",
            "Epoch 29/100\n",
            "\u001b[1m76/76\u001b[0m \u001b[32m━━━━━━━━━━━━━━━━━━━━\u001b[0m\u001b[37m\u001b[0m \u001b[1m0s\u001b[0m 133ms/step - accuracy: 0.9476 - loss: 0.1603\n",
            "Epoch 29: val_accuracy did not improve from 0.57841\n",
            "\u001b[1m76/76\u001b[0m \u001b[32m━━━━━━━━━━━━━━━━━━━━\u001b[0m\u001b[37m\u001b[0m \u001b[1m13s\u001b[0m 167ms/step - accuracy: 0.9478 - loss: 0.1599 - val_accuracy: 0.5662 - val_loss: 1.5469 - learning_rate: 1.0000e-04\n",
            "Epoch 30/100\n",
            "\u001b[1m76/76\u001b[0m \u001b[32m━━━━━━━━━━━━━━━━━━━━\u001b[0m\u001b[37m\u001b[0m \u001b[1m0s\u001b[0m 131ms/step - accuracy: 0.9721 - loss: 0.1182\n",
            "Epoch 30: val_accuracy did not improve from 0.57841\n",
            "\u001b[1m76/76\u001b[0m \u001b[32m━━━━━━━━━━━━━━━━━━━━\u001b[0m\u001b[37m\u001b[0m \u001b[1m20s\u001b[0m 157ms/step - accuracy: 0.9721 - loss: 0.1182 - val_accuracy: 0.5621 - val_loss: 1.5437 - learning_rate: 1.0000e-04\n",
            "Epoch 31/100\n",
            "\u001b[1m76/76\u001b[0m \u001b[32m━━━━━━━━━━━━━━━━━━━━\u001b[0m\u001b[37m\u001b[0m \u001b[1m0s\u001b[0m 128ms/step - accuracy: 0.9798 - loss: 0.1095\n",
            "Epoch 31: val_accuracy did not improve from 0.57841\n",
            "\u001b[1m76/76\u001b[0m \u001b[32m━━━━━━━━━━━━━━━━━━━━\u001b[0m\u001b[37m\u001b[0m \u001b[1m21s\u001b[0m 162ms/step - accuracy: 0.9797 - loss: 0.1095 - val_accuracy: 0.5580 - val_loss: 1.6297 - learning_rate: 1.0000e-04\n",
            "Epoch 32/100\n",
            "\u001b[1m76/76\u001b[0m \u001b[32m━━━━━━━━━━━━━━━━━━━━\u001b[0m\u001b[37m\u001b[0m \u001b[1m0s\u001b[0m 132ms/step - accuracy: 0.9702 - loss: 0.1136\n",
            "Epoch 32: val_accuracy did not improve from 0.57841\n",
            "\u001b[1m76/76\u001b[0m \u001b[32m━━━━━━━━━━━━━━━━━━━━\u001b[0m\u001b[37m\u001b[0m \u001b[1m21s\u001b[0m 166ms/step - accuracy: 0.9703 - loss: 0.1135 - val_accuracy: 0.5601 - val_loss: 1.6461 - learning_rate: 1.0000e-04\n",
            "Epoch 33/100\n",
            "\u001b[1m76/76\u001b[0m \u001b[32m━━━━━━━━━━━━━━━━━━━━\u001b[0m\u001b[37m\u001b[0m \u001b[1m0s\u001b[0m 131ms/step - accuracy: 0.9744 - loss: 0.0941\n",
            "Epoch 33: val_accuracy did not improve from 0.57841\n",
            "\u001b[1m76/76\u001b[0m \u001b[32m━━━━━━━━━━━━━━━━━━━━\u001b[0m\u001b[37m\u001b[0m \u001b[1m12s\u001b[0m 159ms/step - accuracy: 0.9744 - loss: 0.0940 - val_accuracy: 0.5703 - val_loss: 1.6318 - learning_rate: 1.0000e-04\n",
            "Epoch 34/100\n",
            "\u001b[1m76/76\u001b[0m \u001b[32m━━━━━━━━━━━━━━━━━━━━\u001b[0m\u001b[37m\u001b[0m \u001b[1m0s\u001b[0m 128ms/step - accuracy: 0.9825 - loss: 0.0779\n",
            "Epoch 34: val_accuracy did not improve from 0.57841\n",
            "\u001b[1m76/76\u001b[0m \u001b[32m━━━━━━━━━━━━━━━━━━━━\u001b[0m\u001b[37m\u001b[0m \u001b[1m20s\u001b[0m 156ms/step - accuracy: 0.9824 - loss: 0.0780 - val_accuracy: 0.5682 - val_loss: 1.7216 - learning_rate: 1.0000e-04\n",
            "Epoch 35/100\n",
            "\u001b[1m76/76\u001b[0m \u001b[32m━━━━━━━━━━━━━━━━━━━━\u001b[0m\u001b[37m\u001b[0m \u001b[1m0s\u001b[0m 130ms/step - accuracy: 0.9790 - loss: 0.0854\n",
            "Epoch 35: val_accuracy did not improve from 0.57841\n",
            "\u001b[1m76/76\u001b[0m \u001b[32m━━━━━━━━━━━━━━━━━━━━\u001b[0m\u001b[37m\u001b[0m \u001b[1m13s\u001b[0m 165ms/step - accuracy: 0.9790 - loss: 0.0853 - val_accuracy: 0.5662 - val_loss: 1.7474 - learning_rate: 1.0000e-04\n",
            "Epoch 36/100\n",
            "\u001b[1m76/76\u001b[0m \u001b[32m━━━━━━━━━━━━━━━━━━━━\u001b[0m\u001b[37m\u001b[0m \u001b[1m0s\u001b[0m 129ms/step - accuracy: 0.9823 - loss: 0.0663\n",
            "Epoch 36: val_accuracy did not improve from 0.57841\n",
            "\u001b[1m76/76\u001b[0m \u001b[32m━━━━━━━━━━━━━━━━━━━━\u001b[0m\u001b[37m\u001b[0m \u001b[1m12s\u001b[0m 157ms/step - accuracy: 0.9823 - loss: 0.0662 - val_accuracy: 0.5560 - val_loss: 1.7090 - learning_rate: 1.0000e-04\n",
            "Epoch 37/100\n",
            "\u001b[1m76/76\u001b[0m \u001b[32m━━━━━━━━━━━━━━━━━━━━\u001b[0m\u001b[37m\u001b[0m \u001b[1m0s\u001b[0m 131ms/step - accuracy: 0.9890 - loss: 0.0614\n",
            "Epoch 37: val_accuracy did not improve from 0.57841\n",
            "\u001b[1m76/76\u001b[0m \u001b[32m━━━━━━━━━━━━━━━━━━━━\u001b[0m\u001b[37m\u001b[0m \u001b[1m21s\u001b[0m 165ms/step - accuracy: 0.9890 - loss: 0.0614 - val_accuracy: 0.5621 - val_loss: 1.7466 - learning_rate: 1.0000e-04\n",
            "Epoch 38/100\n",
            "\u001b[1m76/76\u001b[0m \u001b[32m━━━━━━━━━━━━━━━━━━━━\u001b[0m\u001b[37m\u001b[0m \u001b[1m0s\u001b[0m 130ms/step - accuracy: 0.9937 - loss: 0.0432\n",
            "Epoch 38: val_accuracy did not improve from 0.57841\n",
            "\u001b[1m76/76\u001b[0m \u001b[32m━━━━━━━━━━━━━━━━━━━━\u001b[0m\u001b[37m\u001b[0m \u001b[1m20s\u001b[0m 158ms/step - accuracy: 0.9937 - loss: 0.0433 - val_accuracy: 0.5540 - val_loss: 1.7815 - learning_rate: 1.0000e-04\n",
            "Epoch 39/100\n",
            "\u001b[1m76/76\u001b[0m \u001b[32m━━━━━━━━━━━━━━━━━━━━\u001b[0m\u001b[37m\u001b[0m \u001b[1m0s\u001b[0m 131ms/step - accuracy: 0.9883 - loss: 0.0470\n",
            "Epoch 39: val_accuracy did not improve from 0.57841\n",
            "\u001b[1m76/76\u001b[0m \u001b[32m━━━━━━━━━━━━━━━━━━━━\u001b[0m\u001b[37m\u001b[0m \u001b[1m21s\u001b[0m 166ms/step - accuracy: 0.9883 - loss: 0.0471 - val_accuracy: 0.5642 - val_loss: 1.7787 - learning_rate: 1.0000e-04\n",
            "Epoch 40/100\n",
            "\u001b[1m76/76\u001b[0m \u001b[32m━━━━━━━━━━━━━━━━━━━━\u001b[0m\u001b[37m\u001b[0m \u001b[1m0s\u001b[0m 131ms/step - accuracy: 0.9859 - loss: 0.0560\n",
            "Epoch 40: val_accuracy did not improve from 0.57841\n",
            "\u001b[1m76/76\u001b[0m \u001b[32m━━━━━━━━━━━━━━━━━━━━\u001b[0m\u001b[37m\u001b[0m \u001b[1m20s\u001b[0m 158ms/step - accuracy: 0.9860 - loss: 0.0559 - val_accuracy: 0.5723 - val_loss: 1.7686 - learning_rate: 1.0000e-04\n",
            "Epoch 41/100\n",
            "\u001b[1m76/76\u001b[0m \u001b[32m━━━━━━━━━━━━━━━━━━━━\u001b[0m\u001b[37m\u001b[0m \u001b[1m0s\u001b[0m 129ms/step - accuracy: 0.9896 - loss: 0.0445\n",
            "Epoch 41: val_accuracy did not improve from 0.57841\n",
            "\u001b[1m76/76\u001b[0m \u001b[32m━━━━━━━━━━━━━━━━━━━━\u001b[0m\u001b[37m\u001b[0m \u001b[1m21s\u001b[0m 164ms/step - accuracy: 0.9896 - loss: 0.0445 - val_accuracy: 0.5764 - val_loss: 1.7696 - learning_rate: 1.0000e-04\n",
            "Epoch 42/100\n",
            "\u001b[1m76/76\u001b[0m \u001b[32m━━━━━━━━━━━━━━━━━━━━\u001b[0m\u001b[37m\u001b[0m \u001b[1m0s\u001b[0m 130ms/step - accuracy: 0.9887 - loss: 0.0439\n",
            "Epoch 42: val_accuracy did not improve from 0.57841\n",
            "\u001b[1m76/76\u001b[0m \u001b[32m━━━━━━━━━━━━━━━━━━━━\u001b[0m\u001b[37m\u001b[0m \u001b[1m12s\u001b[0m 158ms/step - accuracy: 0.9887 - loss: 0.0439 - val_accuracy: 0.5621 - val_loss: 1.8575 - learning_rate: 1.0000e-04\n",
            "Epoch 43/100\n",
            "\u001b[1m76/76\u001b[0m \u001b[32m━━━━━━━━━━━━━━━━━━━━\u001b[0m\u001b[37m\u001b[0m \u001b[1m0s\u001b[0m 132ms/step - accuracy: 0.9895 - loss: 0.0469\n",
            "Epoch 43: val_accuracy did not improve from 0.57841\n",
            "\u001b[1m76/76\u001b[0m \u001b[32m━━━━━━━━━━━━━━━━━━━━\u001b[0m\u001b[37m\u001b[0m \u001b[1m12s\u001b[0m 158ms/step - accuracy: 0.9895 - loss: 0.0469 - val_accuracy: 0.5458 - val_loss: 1.9247 - learning_rate: 1.0000e-04\n",
            "Epoch 44/100\n",
            "\u001b[1m76/76\u001b[0m \u001b[32m━━━━━━━━━━━━━━━━━━━━\u001b[0m\u001b[37m\u001b[0m \u001b[1m0s\u001b[0m 128ms/step - accuracy: 0.9949 - loss: 0.0308\n",
            "Epoch 44: val_accuracy did not improve from 0.57841\n",
            "\u001b[1m76/76\u001b[0m \u001b[32m━━━━━━━━━━━━━━━━━━━━\u001b[0m\u001b[37m\u001b[0m \u001b[1m21s\u001b[0m 163ms/step - accuracy: 0.9949 - loss: 0.0308 - val_accuracy: 0.5519 - val_loss: 1.9865 - learning_rate: 1.0000e-04\n",
            "Epoch 45/100\n",
            "\u001b[1m76/76\u001b[0m \u001b[32m━━━━━━━━━━━━━━━━━━━━\u001b[0m\u001b[37m\u001b[0m \u001b[1m0s\u001b[0m 127ms/step - accuracy: 0.9933 - loss: 0.0377\n",
            "Epoch 45: val_accuracy did not improve from 0.57841\n",
            "\u001b[1m76/76\u001b[0m \u001b[32m━━━━━━━━━━━━━━━━━━━━\u001b[0m\u001b[37m\u001b[0m \u001b[1m20s\u001b[0m 156ms/step - accuracy: 0.9933 - loss: 0.0376 - val_accuracy: 0.5703 - val_loss: 1.9757 - learning_rate: 1.0000e-04\n",
            "Epoch 46/100\n",
            "\u001b[1m76/76\u001b[0m \u001b[32m━━━━━━━━━━━━━━━━━━━━\u001b[0m\u001b[37m\u001b[0m \u001b[1m0s\u001b[0m 133ms/step - accuracy: 0.9911 - loss: 0.0386\n",
            "Epoch 46: val_accuracy did not improve from 0.57841\n",
            "\u001b[1m76/76\u001b[0m \u001b[32m━━━━━━━━━━━━━━━━━━━━\u001b[0m\u001b[37m\u001b[0m \u001b[1m12s\u001b[0m 161ms/step - accuracy: 0.9912 - loss: 0.0385 - val_accuracy: 0.5458 - val_loss: 1.9717 - learning_rate: 1.0000e-04\n",
            "Epoch 47/100\n",
            "\u001b[1m76/76\u001b[0m \u001b[32m━━━━━━━━━━━━━━━━━━━━\u001b[0m\u001b[37m\u001b[0m \u001b[1m0s\u001b[0m 130ms/step - accuracy: 0.9876 - loss: 0.0440\n",
            "Epoch 47: val_accuracy did not improve from 0.57841\n",
            "\u001b[1m76/76\u001b[0m \u001b[32m━━━━━━━━━━━━━━━━━━━━\u001b[0m\u001b[37m\u001b[0m \u001b[1m20s\u001b[0m 157ms/step - accuracy: 0.9876 - loss: 0.0440 - val_accuracy: 0.5519 - val_loss: 1.9246 - learning_rate: 1.0000e-04\n",
            "Epoch 48/100\n",
            "\u001b[1m76/76\u001b[0m \u001b[32m━━━━━━━━━━━━━━━━━━━━\u001b[0m\u001b[37m\u001b[0m \u001b[1m0s\u001b[0m 131ms/step - accuracy: 0.9892 - loss: 0.0365\n",
            "Epoch 48: val_accuracy did not improve from 0.57841\n",
            "\u001b[1m76/76\u001b[0m \u001b[32m━━━━━━━━━━━━━━━━━━━━\u001b[0m\u001b[37m\u001b[0m \u001b[1m21s\u001b[0m 158ms/step - accuracy: 0.9892 - loss: 0.0365 - val_accuracy: 0.5621 - val_loss: 2.0443 - learning_rate: 1.0000e-04\n",
            "Epoch 48: early stopping\n",
            "Restoring model weights from the end of the best epoch: 23.\n"
          ]
        }
      ]
    },
    {
      "cell_type": "code",
      "source": [
        "import tensorflow as tf\n",
        "from tensorflow.keras.applications import VGG16, VGG19\n",
        "from tensorflow.keras.models import Sequential\n",
        "from tensorflow.keras.layers import Dense, Dropout, GlobalAveragePooling2D\n",
        "from tensorflow.keras.optimizers import Adam\n",
        "from tensorflow.keras.callbacks import EarlyStopping, ReduceLROnPlateau, ModelCheckpoint\n",
        "import numpy as np\n",
        "\n",
        "def create_vgg16_emotion_model(input_dimensions, num_classes):\n",
        "    \"\"\"Create VGG16-based emotion recognition model\"\"\"\n",
        "\n",
        "    # Load pre-trained VGG16\n",
        "    base_vgg16 = VGG16(\n",
        "        weights='imagenet',\n",
        "        include_top=False,\n",
        "        input_shape=input_dimensions\n",
        "    )\n",
        "\n",
        "    # Freeze pre-trained layers\n",
        "    base_vgg16.trainable = False\n",
        "\n",
        "    # Add custom classification layers\n",
        "    emotion_model = Sequential([\n",
        "        base_vgg16,\n",
        "        GlobalAveragePooling2D(),\n",
        "        Dense(512, activation='relu'),\n",
        "        Dropout(0.2),\n",
        "        Dense(512, activation='relu'),\n",
        "        Dropout(0.2),\n",
        "        Dense(256, activation='relu'),\n",
        "        Dropout(0.2),\n",
        "        Dense(num_classes, activation='softmax')\n",
        "    ])\n",
        "\n",
        "    return emotion_model\n",
        "\n",
        "# Create and compile VGG16 model\n",
        "vgg16_model = create_vgg16_emotion_model(\n",
        "    input_dimensions=train_resnet_features.shape[1:],\n",
        "    num_classes=total_classes\n",
        ")\n",
        "\n",
        "vgg16_model.compile(\n",
        "    optimizer=Adam(learning_rate=0.0001),\n",
        "    loss='categorical_crossentropy',\n",
        "    metrics=['accuracy']\n",
        ")\n",
        "\n",
        "print(\" VGG16 Model Architecture:\")\n",
        "vgg16_model.summary()\n"
      ],
      "metadata": {
        "colab": {
          "base_uri": "https://localhost:8080/",
          "height": 505
        },
        "id": "RunqLFeqKbWQ",
        "outputId": "67351131-f914-4f75-cd05-048e59cd8d0d"
      },
      "execution_count": 15,
      "outputs": [
        {
          "output_type": "stream",
          "name": "stdout",
          "text": [
            "Downloading data from https://storage.googleapis.com/tensorflow/keras-applications/vgg16/vgg16_weights_tf_dim_ordering_tf_kernels_notop.h5\n",
            "\u001b[1m58889256/58889256\u001b[0m \u001b[32m━━━━━━━━━━━━━━━━━━━━\u001b[0m\u001b[37m\u001b[0m \u001b[1m4s\u001b[0m 0us/step\n",
            " VGG16 Model Architecture:\n"
          ]
        },
        {
          "output_type": "display_data",
          "data": {
            "text/plain": [
              "\u001b[1mModel: \"sequential_1\"\u001b[0m\n"
            ],
            "text/html": [
              "<pre style=\"white-space:pre;overflow-x:auto;line-height:normal;font-family:Menlo,'DejaVu Sans Mono',consolas,'Courier New',monospace\"><span style=\"font-weight: bold\">Model: \"sequential_1\"</span>\n",
              "</pre>\n"
            ]
          },
          "metadata": {}
        },
        {
          "output_type": "display_data",
          "data": {
            "text/plain": [
              "┏━━━━━━━━━━━━━━━━━━━━━━━━━━━━━━━━━┳━━━━━━━━━━━━━━━━━━━━━━━━┳━━━━━━━━━━━━━━━┓\n",
              "┃\u001b[1m \u001b[0m\u001b[1mLayer (type)                   \u001b[0m\u001b[1m \u001b[0m┃\u001b[1m \u001b[0m\u001b[1mOutput Shape          \u001b[0m\u001b[1m \u001b[0m┃\u001b[1m \u001b[0m\u001b[1m      Param #\u001b[0m\u001b[1m \u001b[0m┃\n",
              "┡━━━━━━━━━━━━━━━━━━━━━━━━━━━━━━━━━╇━━━━━━━━━━━━━━━━━━━━━━━━╇━━━━━━━━━━━━━━━┩\n",
              "│ vgg16 (\u001b[38;5;33mFunctional\u001b[0m)              │ (\u001b[38;5;45mNone\u001b[0m, \u001b[38;5;34m7\u001b[0m, \u001b[38;5;34m7\u001b[0m, \u001b[38;5;34m512\u001b[0m)      │    \u001b[38;5;34m14,714,688\u001b[0m │\n",
              "├─────────────────────────────────┼────────────────────────┼───────────────┤\n",
              "│ global_average_pooling2d_1      │ (\u001b[38;5;45mNone\u001b[0m, \u001b[38;5;34m512\u001b[0m)            │             \u001b[38;5;34m0\u001b[0m │\n",
              "│ (\u001b[38;5;33mGlobalAveragePooling2D\u001b[0m)        │                        │               │\n",
              "├─────────────────────────────────┼────────────────────────┼───────────────┤\n",
              "│ dense_4 (\u001b[38;5;33mDense\u001b[0m)                 │ (\u001b[38;5;45mNone\u001b[0m, \u001b[38;5;34m512\u001b[0m)            │       \u001b[38;5;34m262,656\u001b[0m │\n",
              "├─────────────────────────────────┼────────────────────────┼───────────────┤\n",
              "│ dropout_3 (\u001b[38;5;33mDropout\u001b[0m)             │ (\u001b[38;5;45mNone\u001b[0m, \u001b[38;5;34m512\u001b[0m)            │             \u001b[38;5;34m0\u001b[0m │\n",
              "├─────────────────────────────────┼────────────────────────┼───────────────┤\n",
              "│ dense_5 (\u001b[38;5;33mDense\u001b[0m)                 │ (\u001b[38;5;45mNone\u001b[0m, \u001b[38;5;34m512\u001b[0m)            │       \u001b[38;5;34m262,656\u001b[0m │\n",
              "├─────────────────────────────────┼────────────────────────┼───────────────┤\n",
              "│ dropout_4 (\u001b[38;5;33mDropout\u001b[0m)             │ (\u001b[38;5;45mNone\u001b[0m, \u001b[38;5;34m512\u001b[0m)            │             \u001b[38;5;34m0\u001b[0m │\n",
              "├─────────────────────────────────┼────────────────────────┼───────────────┤\n",
              "│ dense_6 (\u001b[38;5;33mDense\u001b[0m)                 │ (\u001b[38;5;45mNone\u001b[0m, \u001b[38;5;34m256\u001b[0m)            │       \u001b[38;5;34m131,328\u001b[0m │\n",
              "├─────────────────────────────────┼────────────────────────┼───────────────┤\n",
              "│ dropout_5 (\u001b[38;5;33mDropout\u001b[0m)             │ (\u001b[38;5;45mNone\u001b[0m, \u001b[38;5;34m256\u001b[0m)            │             \u001b[38;5;34m0\u001b[0m │\n",
              "├─────────────────────────────────┼────────────────────────┼───────────────┤\n",
              "│ dense_7 (\u001b[38;5;33mDense\u001b[0m)                 │ (\u001b[38;5;45mNone\u001b[0m, \u001b[38;5;34m8\u001b[0m)              │         \u001b[38;5;34m2,056\u001b[0m │\n",
              "└─────────────────────────────────┴────────────────────────┴───────────────┘\n"
            ],
            "text/html": [
              "<pre style=\"white-space:pre;overflow-x:auto;line-height:normal;font-family:Menlo,'DejaVu Sans Mono',consolas,'Courier New',monospace\">┏━━━━━━━━━━━━━━━━━━━━━━━━━━━━━━━━━┳━━━━━━━━━━━━━━━━━━━━━━━━┳━━━━━━━━━━━━━━━┓\n",
              "┃<span style=\"font-weight: bold\"> Layer (type)                    </span>┃<span style=\"font-weight: bold\"> Output Shape           </span>┃<span style=\"font-weight: bold\">       Param # </span>┃\n",
              "┡━━━━━━━━━━━━━━━━━━━━━━━━━━━━━━━━━╇━━━━━━━━━━━━━━━━━━━━━━━━╇━━━━━━━━━━━━━━━┩\n",
              "│ vgg16 (<span style=\"color: #0087ff; text-decoration-color: #0087ff\">Functional</span>)              │ (<span style=\"color: #00d7ff; text-decoration-color: #00d7ff\">None</span>, <span style=\"color: #00af00; text-decoration-color: #00af00\">7</span>, <span style=\"color: #00af00; text-decoration-color: #00af00\">7</span>, <span style=\"color: #00af00; text-decoration-color: #00af00\">512</span>)      │    <span style=\"color: #00af00; text-decoration-color: #00af00\">14,714,688</span> │\n",
              "├─────────────────────────────────┼────────────────────────┼───────────────┤\n",
              "│ global_average_pooling2d_1      │ (<span style=\"color: #00d7ff; text-decoration-color: #00d7ff\">None</span>, <span style=\"color: #00af00; text-decoration-color: #00af00\">512</span>)            │             <span style=\"color: #00af00; text-decoration-color: #00af00\">0</span> │\n",
              "│ (<span style=\"color: #0087ff; text-decoration-color: #0087ff\">GlobalAveragePooling2D</span>)        │                        │               │\n",
              "├─────────────────────────────────┼────────────────────────┼───────────────┤\n",
              "│ dense_4 (<span style=\"color: #0087ff; text-decoration-color: #0087ff\">Dense</span>)                 │ (<span style=\"color: #00d7ff; text-decoration-color: #00d7ff\">None</span>, <span style=\"color: #00af00; text-decoration-color: #00af00\">512</span>)            │       <span style=\"color: #00af00; text-decoration-color: #00af00\">262,656</span> │\n",
              "├─────────────────────────────────┼────────────────────────┼───────────────┤\n",
              "│ dropout_3 (<span style=\"color: #0087ff; text-decoration-color: #0087ff\">Dropout</span>)             │ (<span style=\"color: #00d7ff; text-decoration-color: #00d7ff\">None</span>, <span style=\"color: #00af00; text-decoration-color: #00af00\">512</span>)            │             <span style=\"color: #00af00; text-decoration-color: #00af00\">0</span> │\n",
              "├─────────────────────────────────┼────────────────────────┼───────────────┤\n",
              "│ dense_5 (<span style=\"color: #0087ff; text-decoration-color: #0087ff\">Dense</span>)                 │ (<span style=\"color: #00d7ff; text-decoration-color: #00d7ff\">None</span>, <span style=\"color: #00af00; text-decoration-color: #00af00\">512</span>)            │       <span style=\"color: #00af00; text-decoration-color: #00af00\">262,656</span> │\n",
              "├─────────────────────────────────┼────────────────────────┼───────────────┤\n",
              "│ dropout_4 (<span style=\"color: #0087ff; text-decoration-color: #0087ff\">Dropout</span>)             │ (<span style=\"color: #00d7ff; text-decoration-color: #00d7ff\">None</span>, <span style=\"color: #00af00; text-decoration-color: #00af00\">512</span>)            │             <span style=\"color: #00af00; text-decoration-color: #00af00\">0</span> │\n",
              "├─────────────────────────────────┼────────────────────────┼───────────────┤\n",
              "│ dense_6 (<span style=\"color: #0087ff; text-decoration-color: #0087ff\">Dense</span>)                 │ (<span style=\"color: #00d7ff; text-decoration-color: #00d7ff\">None</span>, <span style=\"color: #00af00; text-decoration-color: #00af00\">256</span>)            │       <span style=\"color: #00af00; text-decoration-color: #00af00\">131,328</span> │\n",
              "├─────────────────────────────────┼────────────────────────┼───────────────┤\n",
              "│ dropout_5 (<span style=\"color: #0087ff; text-decoration-color: #0087ff\">Dropout</span>)             │ (<span style=\"color: #00d7ff; text-decoration-color: #00d7ff\">None</span>, <span style=\"color: #00af00; text-decoration-color: #00af00\">256</span>)            │             <span style=\"color: #00af00; text-decoration-color: #00af00\">0</span> │\n",
              "├─────────────────────────────────┼────────────────────────┼───────────────┤\n",
              "│ dense_7 (<span style=\"color: #0087ff; text-decoration-color: #0087ff\">Dense</span>)                 │ (<span style=\"color: #00d7ff; text-decoration-color: #00d7ff\">None</span>, <span style=\"color: #00af00; text-decoration-color: #00af00\">8</span>)              │         <span style=\"color: #00af00; text-decoration-color: #00af00\">2,056</span> │\n",
              "└─────────────────────────────────┴────────────────────────┴───────────────┘\n",
              "</pre>\n"
            ]
          },
          "metadata": {}
        },
        {
          "output_type": "display_data",
          "data": {
            "text/plain": [
              "\u001b[1m Total params: \u001b[0m\u001b[38;5;34m15,373,384\u001b[0m (58.64 MB)\n"
            ],
            "text/html": [
              "<pre style=\"white-space:pre;overflow-x:auto;line-height:normal;font-family:Menlo,'DejaVu Sans Mono',consolas,'Courier New',monospace\"><span style=\"font-weight: bold\"> Total params: </span><span style=\"color: #00af00; text-decoration-color: #00af00\">15,373,384</span> (58.64 MB)\n",
              "</pre>\n"
            ]
          },
          "metadata": {}
        },
        {
          "output_type": "display_data",
          "data": {
            "text/plain": [
              "\u001b[1m Trainable params: \u001b[0m\u001b[38;5;34m658,696\u001b[0m (2.51 MB)\n"
            ],
            "text/html": [
              "<pre style=\"white-space:pre;overflow-x:auto;line-height:normal;font-family:Menlo,'DejaVu Sans Mono',consolas,'Courier New',monospace\"><span style=\"font-weight: bold\"> Trainable params: </span><span style=\"color: #00af00; text-decoration-color: #00af00\">658,696</span> (2.51 MB)\n",
              "</pre>\n"
            ]
          },
          "metadata": {}
        },
        {
          "output_type": "display_data",
          "data": {
            "text/plain": [
              "\u001b[1m Non-trainable params: \u001b[0m\u001b[38;5;34m14,714,688\u001b[0m (56.13 MB)\n"
            ],
            "text/html": [
              "<pre style=\"white-space:pre;overflow-x:auto;line-height:normal;font-family:Menlo,'DejaVu Sans Mono',consolas,'Courier New',monospace\"><span style=\"font-weight: bold\"> Non-trainable params: </span><span style=\"color: #00af00; text-decoration-color: #00af00\">14,714,688</span> (56.13 MB)\n",
              "</pre>\n"
            ]
          },
          "metadata": {}
        }
      ]
    },
    {
      "cell_type": "code",
      "source": [
        "def create_vgg19_emotion_model(input_dimensions, num_classes):\n",
        "    \"\"\"Create VGG19-based emotion recognition model\"\"\"\n",
        "\n",
        "    # Load pre-trained VGG19\n",
        "    base_vgg19 = VGG19(\n",
        "        weights='imagenet',\n",
        "        include_top=False,\n",
        "        input_shape=input_dimensions\n",
        "    )\n",
        "\n",
        "    # Freeze pre-trained layers\n",
        "    base_vgg19.trainable = False\n",
        "\n",
        "    # Add custom classification layers\n",
        "    emotion_model = Sequential([\n",
        "        base_vgg19,\n",
        "        GlobalAveragePooling2D(),\n",
        "        Dense(512, activation='relu'),\n",
        "        Dropout(0.2),\n",
        "        Dense(512, activation='relu'),\n",
        "        Dropout(0.2),\n",
        "        Dense(256, activation='relu'),\n",
        "        Dropout(0.2),\n",
        "        Dense(num_classes, activation='softmax')\n",
        "    ])\n",
        "\n",
        "    return emotion_model\n",
        "\n",
        "# Create and compile VGG19 model\n",
        "vgg19_model = create_vgg19_emotion_model(\n",
        "    input_dimensions=train_resnet_features.shape[1:],\n",
        "    num_classes=total_classes\n",
        ")\n",
        "\n",
        "vgg19_model.compile(\n",
        "    optimizer=Adam(learning_rate=0.0001155),\n",
        "    loss='categorical_crossentropy',\n",
        "    metrics=['accuracy']\n",
        ")\n",
        "\n",
        "print(\" VGG19 Model Architecture:\")\n",
        "vgg19_model.summary()\n"
      ],
      "metadata": {
        "colab": {
          "base_uri": "https://localhost:8080/",
          "height": 505
        },
        "id": "k6rNmTFIKh2Q",
        "outputId": "321800bb-ac66-4f90-89cb-a4aa00255e7c"
      },
      "execution_count": 16,
      "outputs": [
        {
          "output_type": "stream",
          "name": "stdout",
          "text": [
            "Downloading data from https://storage.googleapis.com/tensorflow/keras-applications/vgg19/vgg19_weights_tf_dim_ordering_tf_kernels_notop.h5\n",
            "\u001b[1m80134624/80134624\u001b[0m \u001b[32m━━━━━━━━━━━━━━━━━━━━\u001b[0m\u001b[37m\u001b[0m \u001b[1m5s\u001b[0m 0us/step\n",
            " VGG19 Model Architecture:\n"
          ]
        },
        {
          "output_type": "display_data",
          "data": {
            "text/plain": [
              "\u001b[1mModel: \"sequential_2\"\u001b[0m\n"
            ],
            "text/html": [
              "<pre style=\"white-space:pre;overflow-x:auto;line-height:normal;font-family:Menlo,'DejaVu Sans Mono',consolas,'Courier New',monospace\"><span style=\"font-weight: bold\">Model: \"sequential_2\"</span>\n",
              "</pre>\n"
            ]
          },
          "metadata": {}
        },
        {
          "output_type": "display_data",
          "data": {
            "text/plain": [
              "┏━━━━━━━━━━━━━━━━━━━━━━━━━━━━━━━━━┳━━━━━━━━━━━━━━━━━━━━━━━━┳━━━━━━━━━━━━━━━┓\n",
              "┃\u001b[1m \u001b[0m\u001b[1mLayer (type)                   \u001b[0m\u001b[1m \u001b[0m┃\u001b[1m \u001b[0m\u001b[1mOutput Shape          \u001b[0m\u001b[1m \u001b[0m┃\u001b[1m \u001b[0m\u001b[1m      Param #\u001b[0m\u001b[1m \u001b[0m┃\n",
              "┡━━━━━━━━━━━━━━━━━━━━━━━━━━━━━━━━━╇━━━━━━━━━━━━━━━━━━━━━━━━╇━━━━━━━━━━━━━━━┩\n",
              "│ vgg19 (\u001b[38;5;33mFunctional\u001b[0m)              │ (\u001b[38;5;45mNone\u001b[0m, \u001b[38;5;34m7\u001b[0m, \u001b[38;5;34m7\u001b[0m, \u001b[38;5;34m512\u001b[0m)      │    \u001b[38;5;34m20,024,384\u001b[0m │\n",
              "├─────────────────────────────────┼────────────────────────┼───────────────┤\n",
              "│ global_average_pooling2d_2      │ (\u001b[38;5;45mNone\u001b[0m, \u001b[38;5;34m512\u001b[0m)            │             \u001b[38;5;34m0\u001b[0m │\n",
              "│ (\u001b[38;5;33mGlobalAveragePooling2D\u001b[0m)        │                        │               │\n",
              "├─────────────────────────────────┼────────────────────────┼───────────────┤\n",
              "│ dense_8 (\u001b[38;5;33mDense\u001b[0m)                 │ (\u001b[38;5;45mNone\u001b[0m, \u001b[38;5;34m512\u001b[0m)            │       \u001b[38;5;34m262,656\u001b[0m │\n",
              "├─────────────────────────────────┼────────────────────────┼───────────────┤\n",
              "│ dropout_6 (\u001b[38;5;33mDropout\u001b[0m)             │ (\u001b[38;5;45mNone\u001b[0m, \u001b[38;5;34m512\u001b[0m)            │             \u001b[38;5;34m0\u001b[0m │\n",
              "├─────────────────────────────────┼────────────────────────┼───────────────┤\n",
              "│ dense_9 (\u001b[38;5;33mDense\u001b[0m)                 │ (\u001b[38;5;45mNone\u001b[0m, \u001b[38;5;34m512\u001b[0m)            │       \u001b[38;5;34m262,656\u001b[0m │\n",
              "├─────────────────────────────────┼────────────────────────┼───────────────┤\n",
              "│ dropout_7 (\u001b[38;5;33mDropout\u001b[0m)             │ (\u001b[38;5;45mNone\u001b[0m, \u001b[38;5;34m512\u001b[0m)            │             \u001b[38;5;34m0\u001b[0m │\n",
              "├─────────────────────────────────┼────────────────────────┼───────────────┤\n",
              "│ dense_10 (\u001b[38;5;33mDense\u001b[0m)                │ (\u001b[38;5;45mNone\u001b[0m, \u001b[38;5;34m256\u001b[0m)            │       \u001b[38;5;34m131,328\u001b[0m │\n",
              "├─────────────────────────────────┼────────────────────────┼───────────────┤\n",
              "│ dropout_8 (\u001b[38;5;33mDropout\u001b[0m)             │ (\u001b[38;5;45mNone\u001b[0m, \u001b[38;5;34m256\u001b[0m)            │             \u001b[38;5;34m0\u001b[0m │\n",
              "├─────────────────────────────────┼────────────────────────┼───────────────┤\n",
              "│ dense_11 (\u001b[38;5;33mDense\u001b[0m)                │ (\u001b[38;5;45mNone\u001b[0m, \u001b[38;5;34m8\u001b[0m)              │         \u001b[38;5;34m2,056\u001b[0m │\n",
              "└─────────────────────────────────┴────────────────────────┴───────────────┘\n"
            ],
            "text/html": [
              "<pre style=\"white-space:pre;overflow-x:auto;line-height:normal;font-family:Menlo,'DejaVu Sans Mono',consolas,'Courier New',monospace\">┏━━━━━━━━━━━━━━━━━━━━━━━━━━━━━━━━━┳━━━━━━━━━━━━━━━━━━━━━━━━┳━━━━━━━━━━━━━━━┓\n",
              "┃<span style=\"font-weight: bold\"> Layer (type)                    </span>┃<span style=\"font-weight: bold\"> Output Shape           </span>┃<span style=\"font-weight: bold\">       Param # </span>┃\n",
              "┡━━━━━━━━━━━━━━━━━━━━━━━━━━━━━━━━━╇━━━━━━━━━━━━━━━━━━━━━━━━╇━━━━━━━━━━━━━━━┩\n",
              "│ vgg19 (<span style=\"color: #0087ff; text-decoration-color: #0087ff\">Functional</span>)              │ (<span style=\"color: #00d7ff; text-decoration-color: #00d7ff\">None</span>, <span style=\"color: #00af00; text-decoration-color: #00af00\">7</span>, <span style=\"color: #00af00; text-decoration-color: #00af00\">7</span>, <span style=\"color: #00af00; text-decoration-color: #00af00\">512</span>)      │    <span style=\"color: #00af00; text-decoration-color: #00af00\">20,024,384</span> │\n",
              "├─────────────────────────────────┼────────────────────────┼───────────────┤\n",
              "│ global_average_pooling2d_2      │ (<span style=\"color: #00d7ff; text-decoration-color: #00d7ff\">None</span>, <span style=\"color: #00af00; text-decoration-color: #00af00\">512</span>)            │             <span style=\"color: #00af00; text-decoration-color: #00af00\">0</span> │\n",
              "│ (<span style=\"color: #0087ff; text-decoration-color: #0087ff\">GlobalAveragePooling2D</span>)        │                        │               │\n",
              "├─────────────────────────────────┼────────────────────────┼───────────────┤\n",
              "│ dense_8 (<span style=\"color: #0087ff; text-decoration-color: #0087ff\">Dense</span>)                 │ (<span style=\"color: #00d7ff; text-decoration-color: #00d7ff\">None</span>, <span style=\"color: #00af00; text-decoration-color: #00af00\">512</span>)            │       <span style=\"color: #00af00; text-decoration-color: #00af00\">262,656</span> │\n",
              "├─────────────────────────────────┼────────────────────────┼───────────────┤\n",
              "│ dropout_6 (<span style=\"color: #0087ff; text-decoration-color: #0087ff\">Dropout</span>)             │ (<span style=\"color: #00d7ff; text-decoration-color: #00d7ff\">None</span>, <span style=\"color: #00af00; text-decoration-color: #00af00\">512</span>)            │             <span style=\"color: #00af00; text-decoration-color: #00af00\">0</span> │\n",
              "├─────────────────────────────────┼────────────────────────┼───────────────┤\n",
              "│ dense_9 (<span style=\"color: #0087ff; text-decoration-color: #0087ff\">Dense</span>)                 │ (<span style=\"color: #00d7ff; text-decoration-color: #00d7ff\">None</span>, <span style=\"color: #00af00; text-decoration-color: #00af00\">512</span>)            │       <span style=\"color: #00af00; text-decoration-color: #00af00\">262,656</span> │\n",
              "├─────────────────────────────────┼────────────────────────┼───────────────┤\n",
              "│ dropout_7 (<span style=\"color: #0087ff; text-decoration-color: #0087ff\">Dropout</span>)             │ (<span style=\"color: #00d7ff; text-decoration-color: #00d7ff\">None</span>, <span style=\"color: #00af00; text-decoration-color: #00af00\">512</span>)            │             <span style=\"color: #00af00; text-decoration-color: #00af00\">0</span> │\n",
              "├─────────────────────────────────┼────────────────────────┼───────────────┤\n",
              "│ dense_10 (<span style=\"color: #0087ff; text-decoration-color: #0087ff\">Dense</span>)                │ (<span style=\"color: #00d7ff; text-decoration-color: #00d7ff\">None</span>, <span style=\"color: #00af00; text-decoration-color: #00af00\">256</span>)            │       <span style=\"color: #00af00; text-decoration-color: #00af00\">131,328</span> │\n",
              "├─────────────────────────────────┼────────────────────────┼───────────────┤\n",
              "│ dropout_8 (<span style=\"color: #0087ff; text-decoration-color: #0087ff\">Dropout</span>)             │ (<span style=\"color: #00d7ff; text-decoration-color: #00d7ff\">None</span>, <span style=\"color: #00af00; text-decoration-color: #00af00\">256</span>)            │             <span style=\"color: #00af00; text-decoration-color: #00af00\">0</span> │\n",
              "├─────────────────────────────────┼────────────────────────┼───────────────┤\n",
              "│ dense_11 (<span style=\"color: #0087ff; text-decoration-color: #0087ff\">Dense</span>)                │ (<span style=\"color: #00d7ff; text-decoration-color: #00d7ff\">None</span>, <span style=\"color: #00af00; text-decoration-color: #00af00\">8</span>)              │         <span style=\"color: #00af00; text-decoration-color: #00af00\">2,056</span> │\n",
              "└─────────────────────────────────┴────────────────────────┴───────────────┘\n",
              "</pre>\n"
            ]
          },
          "metadata": {}
        },
        {
          "output_type": "display_data",
          "data": {
            "text/plain": [
              "\u001b[1m Total params: \u001b[0m\u001b[38;5;34m20,683,080\u001b[0m (78.90 MB)\n"
            ],
            "text/html": [
              "<pre style=\"white-space:pre;overflow-x:auto;line-height:normal;font-family:Menlo,'DejaVu Sans Mono',consolas,'Courier New',monospace\"><span style=\"font-weight: bold\"> Total params: </span><span style=\"color: #00af00; text-decoration-color: #00af00\">20,683,080</span> (78.90 MB)\n",
              "</pre>\n"
            ]
          },
          "metadata": {}
        },
        {
          "output_type": "display_data",
          "data": {
            "text/plain": [
              "\u001b[1m Trainable params: \u001b[0m\u001b[38;5;34m658,696\u001b[0m (2.51 MB)\n"
            ],
            "text/html": [
              "<pre style=\"white-space:pre;overflow-x:auto;line-height:normal;font-family:Menlo,'DejaVu Sans Mono',consolas,'Courier New',monospace\"><span style=\"font-weight: bold\"> Trainable params: </span><span style=\"color: #00af00; text-decoration-color: #00af00\">658,696</span> (2.51 MB)\n",
              "</pre>\n"
            ]
          },
          "metadata": {}
        },
        {
          "output_type": "display_data",
          "data": {
            "text/plain": [
              "\u001b[1m Non-trainable params: \u001b[0m\u001b[38;5;34m20,024,384\u001b[0m (76.39 MB)\n"
            ],
            "text/html": [
              "<pre style=\"white-space:pre;overflow-x:auto;line-height:normal;font-family:Menlo,'DejaVu Sans Mono',consolas,'Courier New',monospace\"><span style=\"font-weight: bold\"> Non-trainable params: </span><span style=\"color: #00af00; text-decoration-color: #00af00\">20,024,384</span> (76.39 MB)\n",
              "</pre>\n"
            ]
          },
          "metadata": {}
        }
      ]
    },
    {
      "cell_type": "code",
      "source": [
        "vgg16_training_history = vgg16_model.fit(\n",
        "    train_resnet_features,\n",
        "    categorical_train_labels,\n",
        "    batch_size=training_batch_size,\n",
        "    epochs=training_epochs,\n",
        "    validation_data=(test_resnet_features, categorical_test_labels),\n",
        "    callbacks=create_training_callbacks('vgg16'),\n",
        "    class_weight=class_weight_mapping,\n",
        "    verbose=1\n",
        ")"
      ],
      "metadata": {
        "colab": {
          "base_uri": "https://localhost:8080/"
        },
        "id": "HlbketsSKm1e",
        "outputId": "b054fab0-6ae6-4c49-d6d5-7493cfdf31e4"
      },
      "execution_count": 17,
      "outputs": [
        {
          "output_type": "stream",
          "name": "stdout",
          "text": [
            "Epoch 1/100\n",
            "\u001b[1m76/76\u001b[0m \u001b[32m━━━━━━━━━━━━━━━━━━━━\u001b[0m\u001b[37m\u001b[0m \u001b[1m0s\u001b[0m 302ms/step - accuracy: 0.1284 - loss: 2.1192\n",
            "Epoch 1: val_accuracy improved from -inf to 0.11813, saving model to optimal_vgg16_weights.h5\n"
          ]
        },
        {
          "output_type": "stream",
          "name": "stderr",
          "text": [
            "WARNING:absl:You are saving your model as an HDF5 file via `model.save()` or `keras.saving.save_model(model)`. This file format is considered legacy. We recommend using instead the native Keras format, e.g. `model.save('my_model.keras')` or `keras.saving.save_model(model, 'my_model.keras')`. \n"
          ]
        },
        {
          "output_type": "stream",
          "name": "stdout",
          "text": [
            "\b\b\b\b\b\b\b\b\b\b\b\b\b\b\b\b\b\b\b\b\b\b\b\b\b\b\b\b\b\b\b\b\b\b\b\b\b\b\b\b\b\b\b\b\b\b\b\b\b\b\b\b\b\b\b\b\b\b\b\b\b\b\b\b\b\b\b\b\b\b\b\b\b\b\r\u001b[1m76/76\u001b[0m \u001b[32m━━━━━━━━━━━━━━━━━━━━\u001b[0m\u001b[37m\u001b[0m \u001b[1m50s\u001b[0m 455ms/step - accuracy: 0.1285 - loss: 2.1191 - val_accuracy: 0.1181 - val_loss: 2.0850 - learning_rate: 1.0000e-04\n",
            "Epoch 2/100\n",
            "\u001b[1m76/76\u001b[0m \u001b[32m━━━━━━━━━━━━━━━━━━━━\u001b[0m\u001b[37m\u001b[0m \u001b[1m0s\u001b[0m 165ms/step - accuracy: 0.1426 - loss: 2.0727\n",
            "Epoch 2: val_accuracy improved from 0.11813 to 0.22403, saving model to optimal_vgg16_weights.h5\n"
          ]
        },
        {
          "output_type": "stream",
          "name": "stderr",
          "text": [
            "WARNING:absl:You are saving your model as an HDF5 file via `model.save()` or `keras.saving.save_model(model)`. This file format is considered legacy. We recommend using instead the native Keras format, e.g. `model.save('my_model.keras')` or `keras.saving.save_model(model, 'my_model.keras')`. \n"
          ]
        },
        {
          "output_type": "stream",
          "name": "stdout",
          "text": [
            "\b\b\b\b\b\b\b\b\b\b\b\b\b\b\b\b\b\b\b\b\b\b\b\b\b\b\b\b\b\b\b\b\b\b\b\b\b\b\b\b\b\b\b\b\b\b\b\b\b\b\b\b\b\b\b\b\b\b\b\b\b\b\b\b\b\b\b\b\b\b\b\b\b\b\r\u001b[1m76/76\u001b[0m \u001b[32m━━━━━━━━━━━━━━━━━━━━\u001b[0m\u001b[37m\u001b[0m \u001b[1m50s\u001b[0m 203ms/step - accuracy: 0.1427 - loss: 2.0726 - val_accuracy: 0.2240 - val_loss: 2.0405 - learning_rate: 1.0000e-04\n",
            "Epoch 3/100\n",
            "\u001b[1m76/76\u001b[0m \u001b[32m━━━━━━━━━━━━━━━━━━━━\u001b[0m\u001b[37m\u001b[0m \u001b[1m0s\u001b[0m 172ms/step - accuracy: 0.1941 - loss: 2.0346\n",
            "Epoch 3: val_accuracy improved from 0.22403 to 0.29124, saving model to optimal_vgg16_weights.h5\n"
          ]
        },
        {
          "output_type": "stream",
          "name": "stderr",
          "text": [
            "WARNING:absl:You are saving your model as an HDF5 file via `model.save()` or `keras.saving.save_model(model)`. This file format is considered legacy. We recommend using instead the native Keras format, e.g. `model.save('my_model.keras')` or `keras.saving.save_model(model, 'my_model.keras')`. \n"
          ]
        },
        {
          "output_type": "stream",
          "name": "stdout",
          "text": [
            "\b\b\b\b\b\b\b\b\b\b\b\b\b\b\b\b\b\b\b\b\b\b\b\b\b\b\b\b\b\b\b\b\b\b\b\b\b\b\b\b\b\b\b\b\b\b\b\b\b\b\b\b\b\b\b\b\b\b\b\b\b\b\b\b\b\b\b\b\b\b\b\b\b\b\r\u001b[1m76/76\u001b[0m \u001b[32m━━━━━━━━━━━━━━━━━━━━\u001b[0m\u001b[37m\u001b[0m \u001b[1m24s\u001b[0m 244ms/step - accuracy: 0.1942 - loss: 2.0344 - val_accuracy: 0.2912 - val_loss: 1.9858 - learning_rate: 1.0000e-04\n",
            "Epoch 4/100\n",
            "\u001b[1m76/76\u001b[0m \u001b[32m━━━━━━━━━━━━━━━━━━━━\u001b[0m\u001b[37m\u001b[0m \u001b[1m0s\u001b[0m 173ms/step - accuracy: 0.2049 - loss: 1.9767\n",
            "Epoch 4: val_accuracy improved from 0.29124 to 0.30346, saving model to optimal_vgg16_weights.h5\n"
          ]
        },
        {
          "output_type": "stream",
          "name": "stderr",
          "text": [
            "WARNING:absl:You are saving your model as an HDF5 file via `model.save()` or `keras.saving.save_model(model)`. This file format is considered legacy. We recommend using instead the native Keras format, e.g. `model.save('my_model.keras')` or `keras.saving.save_model(model, 'my_model.keras')`. \n"
          ]
        },
        {
          "output_type": "stream",
          "name": "stdout",
          "text": [
            "\b\b\b\b\b\b\b\b\b\b\b\b\b\b\b\b\b\b\b\b\b\b\b\b\b\b\b\b\b\b\b\b\b\b\b\b\b\b\b\b\b\b\b\b\b\b\b\b\b\b\b\b\b\b\b\b\b\b\b\b\b\b\b\b\b\b\b\b\b\b\b\b\b\b\r\u001b[1m76/76\u001b[0m \u001b[32m━━━━━━━━━━━━━━━━━━━━\u001b[0m\u001b[37m\u001b[0m \u001b[1m18s\u001b[0m 212ms/step - accuracy: 0.2053 - loss: 1.9764 - val_accuracy: 0.3035 - val_loss: 1.9055 - learning_rate: 1.0000e-04\n",
            "Epoch 5/100\n",
            "\u001b[1m76/76\u001b[0m \u001b[32m━━━━━━━━━━━━━━━━━━━━\u001b[0m\u001b[37m\u001b[0m \u001b[1m0s\u001b[0m 177ms/step - accuracy: 0.2593 - loss: 1.8955\n",
            "Epoch 5: val_accuracy did not improve from 0.30346\n",
            "\u001b[1m76/76\u001b[0m \u001b[32m━━━━━━━━━━━━━━━━━━━━\u001b[0m\u001b[37m\u001b[0m \u001b[1m16s\u001b[0m 212ms/step - accuracy: 0.2596 - loss: 1.8951 - val_accuracy: 0.3035 - val_loss: 1.8444 - learning_rate: 1.0000e-04\n",
            "Epoch 6/100\n",
            "\u001b[1m76/76\u001b[0m \u001b[32m━━━━━━━━━━━━━━━━━━━━\u001b[0m\u001b[37m\u001b[0m \u001b[1m0s\u001b[0m 167ms/step - accuracy: 0.2933 - loss: 1.8124\n",
            "Epoch 6: val_accuracy improved from 0.30346 to 0.31772, saving model to optimal_vgg16_weights.h5\n"
          ]
        },
        {
          "output_type": "stream",
          "name": "stderr",
          "text": [
            "WARNING:absl:You are saving your model as an HDF5 file via `model.save()` or `keras.saving.save_model(model)`. This file format is considered legacy. We recommend using instead the native Keras format, e.g. `model.save('my_model.keras')` or `keras.saving.save_model(model, 'my_model.keras')`. \n"
          ]
        },
        {
          "output_type": "stream",
          "name": "stdout",
          "text": [
            "\b\b\b\b\b\b\b\b\b\b\b\b\b\b\b\b\b\b\b\b\b\b\b\b\b\b\b\b\b\b\b\b\b\b\b\b\b\b\b\b\b\b\b\b\b\b\b\b\b\b\b\b\b\b\b\b\b\b\b\b\b\b\b\b\b\b\b\b\b\b\b\b\b\b\r\u001b[1m76/76\u001b[0m \u001b[32m━━━━━━━━━━━━━━━━━━━━\u001b[0m\u001b[37m\u001b[0m \u001b[1m20s\u001b[0m 205ms/step - accuracy: 0.2935 - loss: 1.8121 - val_accuracy: 0.3177 - val_loss: 1.7828 - learning_rate: 1.0000e-04\n",
            "Epoch 7/100\n",
            "\u001b[1m76/76\u001b[0m \u001b[32m━━━━━━━━━━━━━━━━━━━━\u001b[0m\u001b[37m\u001b[0m \u001b[1m0s\u001b[0m 169ms/step - accuracy: 0.3324 - loss: 1.7306\n",
            "Epoch 7: val_accuracy improved from 0.31772 to 0.32790, saving model to optimal_vgg16_weights.h5\n"
          ]
        },
        {
          "output_type": "stream",
          "name": "stderr",
          "text": [
            "WARNING:absl:You are saving your model as an HDF5 file via `model.save()` or `keras.saving.save_model(model)`. This file format is considered legacy. We recommend using instead the native Keras format, e.g. `model.save('my_model.keras')` or `keras.saving.save_model(model, 'my_model.keras')`. \n"
          ]
        },
        {
          "output_type": "stream",
          "name": "stdout",
          "text": [
            "\b\b\b\b\b\b\b\b\b\b\b\b\b\b\b\b\b\b\b\b\b\b\b\b\b\b\b\b\b\b\b\b\b\b\b\b\b\b\b\b\b\b\b\b\b\b\b\b\b\b\b\b\b\b\b\b\b\b\b\b\b\b\b\b\b\b\b\b\b\b\b\b\b\b\r\u001b[1m76/76\u001b[0m \u001b[32m━━━━━━━━━━━━━━━━━━━━\u001b[0m\u001b[37m\u001b[0m \u001b[1m16s\u001b[0m 208ms/step - accuracy: 0.3327 - loss: 1.7303 - val_accuracy: 0.3279 - val_loss: 1.7361 - learning_rate: 1.0000e-04\n",
            "Epoch 8/100\n",
            "\u001b[1m76/76\u001b[0m \u001b[32m━━━━━━━━━━━━━━━━━━━━\u001b[0m\u001b[37m\u001b[0m \u001b[1m0s\u001b[0m 170ms/step - accuracy: 0.3403 - loss: 1.6834\n",
            "Epoch 8: val_accuracy improved from 0.32790 to 0.36049, saving model to optimal_vgg16_weights.h5\n"
          ]
        },
        {
          "output_type": "stream",
          "name": "stderr",
          "text": [
            "WARNING:absl:You are saving your model as an HDF5 file via `model.save()` or `keras.saving.save_model(model)`. This file format is considered legacy. We recommend using instead the native Keras format, e.g. `model.save('my_model.keras')` or `keras.saving.save_model(model, 'my_model.keras')`. \n"
          ]
        },
        {
          "output_type": "stream",
          "name": "stdout",
          "text": [
            "\b\b\b\b\b\b\b\b\b\b\b\b\b\b\b\b\b\b\b\b\b\b\b\b\b\b\b\b\b\b\b\b\b\b\b\b\b\b\b\b\b\b\b\b\b\b\b\b\b\b\b\b\b\b\b\b\b\b\b\b\b\b\b\b\b\b\b\b\b\b\b\b\b\b\r\u001b[1m76/76\u001b[0m \u001b[32m━━━━━━━━━━━━━━━━━━━━\u001b[0m\u001b[37m\u001b[0m \u001b[1m23s\u001b[0m 242ms/step - accuracy: 0.3404 - loss: 1.6831 - val_accuracy: 0.3605 - val_loss: 1.6891 - learning_rate: 1.0000e-04\n",
            "Epoch 9/100\n",
            "\u001b[1m76/76\u001b[0m \u001b[32m━━━━━━━━━━━━━━━━━━━━\u001b[0m\u001b[37m\u001b[0m \u001b[1m0s\u001b[0m 169ms/step - accuracy: 0.3855 - loss: 1.6151\n",
            "Epoch 9: val_accuracy improved from 0.36049 to 0.37271, saving model to optimal_vgg16_weights.h5\n"
          ]
        },
        {
          "output_type": "stream",
          "name": "stderr",
          "text": [
            "WARNING:absl:You are saving your model as an HDF5 file via `model.save()` or `keras.saving.save_model(model)`. This file format is considered legacy. We recommend using instead the native Keras format, e.g. `model.save('my_model.keras')` or `keras.saving.save_model(model, 'my_model.keras')`. \n"
          ]
        },
        {
          "output_type": "stream",
          "name": "stdout",
          "text": [
            "\b\b\b\b\b\b\b\b\b\b\b\b\b\b\b\b\b\b\b\b\b\b\b\b\b\b\b\b\b\b\b\b\b\b\b\b\b\b\b\b\b\b\b\b\b\b\b\b\b\b\b\b\b\b\b\b\b\b\b\b\b\b\b\b\b\b\b\b\b\b\b\b\b\b\r\u001b[1m76/76\u001b[0m \u001b[32m━━━━━━━━━━━━━━━━━━━━\u001b[0m\u001b[37m\u001b[0m \u001b[1m18s\u001b[0m 207ms/step - accuracy: 0.3855 - loss: 1.6150 - val_accuracy: 0.3727 - val_loss: 1.6477 - learning_rate: 1.0000e-04\n",
            "Epoch 10/100\n",
            "\u001b[1m76/76\u001b[0m \u001b[32m━━━━━━━━━━━━━━━━━━━━\u001b[0m\u001b[37m\u001b[0m \u001b[1m0s\u001b[0m 169ms/step - accuracy: 0.3986 - loss: 1.5811\n",
            "Epoch 10: val_accuracy improved from 0.37271 to 0.38086, saving model to optimal_vgg16_weights.h5\n"
          ]
        },
        {
          "output_type": "stream",
          "name": "stderr",
          "text": [
            "WARNING:absl:You are saving your model as an HDF5 file via `model.save()` or `keras.saving.save_model(model)`. This file format is considered legacy. We recommend using instead the native Keras format, e.g. `model.save('my_model.keras')` or `keras.saving.save_model(model, 'my_model.keras')`. \n"
          ]
        },
        {
          "output_type": "stream",
          "name": "stdout",
          "text": [
            "\b\b\b\b\b\b\b\b\b\b\b\b\b\b\b\b\b\b\b\b\b\b\b\b\b\b\b\b\b\b\b\b\b\b\b\b\b\b\b\b\b\b\b\b\b\b\b\b\b\b\b\b\b\b\b\b\b\b\b\b\b\b\b\b\b\b\b\b\b\b\b\b\b\b\r\u001b[1m76/76\u001b[0m \u001b[32m━━━━━━━━━━━━━━━━━━━━\u001b[0m\u001b[37m\u001b[0m \u001b[1m23s\u001b[0m 241ms/step - accuracy: 0.3987 - loss: 1.5810 - val_accuracy: 0.3809 - val_loss: 1.6101 - learning_rate: 1.0000e-04\n",
            "Epoch 11/100\n",
            "\u001b[1m76/76\u001b[0m \u001b[32m━━━━━━━━━━━━━━━━━━━━\u001b[0m\u001b[37m\u001b[0m \u001b[1m0s\u001b[0m 170ms/step - accuracy: 0.4047 - loss: 1.5269\n",
            "Epoch 11: val_accuracy improved from 0.38086 to 0.38900, saving model to optimal_vgg16_weights.h5\n"
          ]
        },
        {
          "output_type": "stream",
          "name": "stderr",
          "text": [
            "WARNING:absl:You are saving your model as an HDF5 file via `model.save()` or `keras.saving.save_model(model)`. This file format is considered legacy. We recommend using instead the native Keras format, e.g. `model.save('my_model.keras')` or `keras.saving.save_model(model, 'my_model.keras')`. \n"
          ]
        },
        {
          "output_type": "stream",
          "name": "stdout",
          "text": [
            "\b\b\b\b\b\b\b\b\b\b\b\b\b\b\b\b\b\b\b\b\b\b\b\b\b\b\b\b\b\b\b\b\b\b\b\b\b\b\b\b\b\b\b\b\b\b\b\b\b\b\b\b\b\b\b\b\b\b\b\b\b\b\b\b\b\b\b\b\b\b\b\b\b\b\r\u001b[1m76/76\u001b[0m \u001b[32m━━━━━━━━━━━━━━━━━━━━\u001b[0m\u001b[37m\u001b[0m \u001b[1m18s\u001b[0m 242ms/step - accuracy: 0.4049 - loss: 1.5269 - val_accuracy: 0.3890 - val_loss: 1.5769 - learning_rate: 1.0000e-04\n",
            "Epoch 12/100\n",
            "\u001b[1m76/76\u001b[0m \u001b[32m━━━━━━━━━━━━━━━━━━━━\u001b[0m\u001b[37m\u001b[0m \u001b[1m0s\u001b[0m 168ms/step - accuracy: 0.4271 - loss: 1.5098\n",
            "Epoch 12: val_accuracy improved from 0.38900 to 0.39511, saving model to optimal_vgg16_weights.h5\n"
          ]
        },
        {
          "output_type": "stream",
          "name": "stderr",
          "text": [
            "WARNING:absl:You are saving your model as an HDF5 file via `model.save()` or `keras.saving.save_model(model)`. This file format is considered legacy. We recommend using instead the native Keras format, e.g. `model.save('my_model.keras')` or `keras.saving.save_model(model, 'my_model.keras')`. \n"
          ]
        },
        {
          "output_type": "stream",
          "name": "stdout",
          "text": [
            "\b\b\b\b\b\b\b\b\b\b\b\b\b\b\b\b\b\b\b\b\b\b\b\b\b\b\b\b\b\b\b\b\b\b\b\b\b\b\b\b\b\b\b\b\b\b\b\b\b\b\b\b\b\b\b\b\b\b\b\b\b\b\b\b\b\b\b\b\b\b\b\b\b\b\r\u001b[1m76/76\u001b[0m \u001b[32m━━━━━━━━━━━━━━━━━━━━\u001b[0m\u001b[37m\u001b[0m \u001b[1m20s\u001b[0m 241ms/step - accuracy: 0.4271 - loss: 1.5097 - val_accuracy: 0.3951 - val_loss: 1.5561 - learning_rate: 1.0000e-04\n",
            "Epoch 13/100\n",
            "\u001b[1m76/76\u001b[0m \u001b[32m━━━━━━━━━━━━━━━━━━━━\u001b[0m\u001b[37m\u001b[0m \u001b[1m0s\u001b[0m 170ms/step - accuracy: 0.4520 - loss: 1.4516\n",
            "Epoch 13: val_accuracy improved from 0.39511 to 0.39919, saving model to optimal_vgg16_weights.h5\n"
          ]
        },
        {
          "output_type": "stream",
          "name": "stderr",
          "text": [
            "WARNING:absl:You are saving your model as an HDF5 file via `model.save()` or `keras.saving.save_model(model)`. This file format is considered legacy. We recommend using instead the native Keras format, e.g. `model.save('my_model.keras')` or `keras.saving.save_model(model, 'my_model.keras')`. \n"
          ]
        },
        {
          "output_type": "stream",
          "name": "stdout",
          "text": [
            "\b\b\b\b\b\b\b\b\b\b\b\b\b\b\b\b\b\b\b\b\b\b\b\b\b\b\b\b\b\b\b\b\b\b\b\b\b\b\b\b\b\b\b\b\b\b\b\b\b\b\b\b\b\b\b\b\b\b\b\b\b\b\b\b\b\b\b\b\b\b\b\b\b\b\r\u001b[1m76/76\u001b[0m \u001b[32m━━━━━━━━━━━━━━━━━━━━\u001b[0m\u001b[37m\u001b[0m \u001b[1m18s\u001b[0m 241ms/step - accuracy: 0.4521 - loss: 1.4515 - val_accuracy: 0.3992 - val_loss: 1.5296 - learning_rate: 1.0000e-04\n",
            "Epoch 14/100\n",
            "\u001b[1m76/76\u001b[0m \u001b[32m━━━━━━━━━━━━━━━━━━━━\u001b[0m\u001b[37m\u001b[0m \u001b[1m0s\u001b[0m 168ms/step - accuracy: 0.4622 - loss: 1.4356\n",
            "Epoch 14: val_accuracy improved from 0.39919 to 0.41344, saving model to optimal_vgg16_weights.h5\n"
          ]
        },
        {
          "output_type": "stream",
          "name": "stderr",
          "text": [
            "WARNING:absl:You are saving your model as an HDF5 file via `model.save()` or `keras.saving.save_model(model)`. This file format is considered legacy. We recommend using instead the native Keras format, e.g. `model.save('my_model.keras')` or `keras.saving.save_model(model, 'my_model.keras')`. \n"
          ]
        },
        {
          "output_type": "stream",
          "name": "stdout",
          "text": [
            "\b\b\b\b\b\b\b\b\b\b\b\b\b\b\b\b\b\b\b\b\b\b\b\b\b\b\b\b\b\b\b\b\b\b\b\b\b\b\b\b\b\b\b\b\b\b\b\b\b\b\b\b\b\b\b\b\b\b\b\b\b\b\b\b\b\b\b\b\b\b\b\b\b\b\r\u001b[1m76/76\u001b[0m \u001b[32m━━━━━━━━━━━━━━━━━━━━\u001b[0m\u001b[37m\u001b[0m \u001b[1m20s\u001b[0m 240ms/step - accuracy: 0.4622 - loss: 1.4356 - val_accuracy: 0.4134 - val_loss: 1.5061 - learning_rate: 1.0000e-04\n",
            "Epoch 15/100\n",
            "\u001b[1m76/76\u001b[0m \u001b[32m━━━━━━━━━━━━━━━━━━━━\u001b[0m\u001b[37m\u001b[0m \u001b[1m0s\u001b[0m 169ms/step - accuracy: 0.4740 - loss: 1.4187\n",
            "Epoch 15: val_accuracy improved from 0.41344 to 0.41752, saving model to optimal_vgg16_weights.h5\n"
          ]
        },
        {
          "output_type": "stream",
          "name": "stderr",
          "text": [
            "WARNING:absl:You are saving your model as an HDF5 file via `model.save()` or `keras.saving.save_model(model)`. This file format is considered legacy. We recommend using instead the native Keras format, e.g. `model.save('my_model.keras')` or `keras.saving.save_model(model, 'my_model.keras')`. \n"
          ]
        },
        {
          "output_type": "stream",
          "name": "stdout",
          "text": [
            "\b\b\b\b\b\b\b\b\b\b\b\b\b\b\b\b\b\b\b\b\b\b\b\b\b\b\b\b\b\b\b\b\b\b\b\b\b\b\b\b\b\b\b\b\b\b\b\b\b\b\b\b\b\b\b\b\b\b\b\b\b\b\b\b\b\b\b\b\b\b\b\b\b\b\r\u001b[1m76/76\u001b[0m \u001b[32m━━━━━━━━━━━━━━━━━━━━\u001b[0m\u001b[37m\u001b[0m \u001b[1m16s\u001b[0m 208ms/step - accuracy: 0.4740 - loss: 1.4186 - val_accuracy: 0.4175 - val_loss: 1.4914 - learning_rate: 1.0000e-04\n",
            "Epoch 16/100\n",
            "\u001b[1m76/76\u001b[0m \u001b[32m━━━━━━━━━━━━━━━━━━━━\u001b[0m\u001b[37m\u001b[0m \u001b[1m0s\u001b[0m 168ms/step - accuracy: 0.4736 - loss: 1.3860\n",
            "Epoch 16: val_accuracy improved from 0.41752 to 0.42159, saving model to optimal_vgg16_weights.h5\n"
          ]
        },
        {
          "output_type": "stream",
          "name": "stderr",
          "text": [
            "WARNING:absl:You are saving your model as an HDF5 file via `model.save()` or `keras.saving.save_model(model)`. This file format is considered legacy. We recommend using instead the native Keras format, e.g. `model.save('my_model.keras')` or `keras.saving.save_model(model, 'my_model.keras')`. \n"
          ]
        },
        {
          "output_type": "stream",
          "name": "stdout",
          "text": [
            "\b\b\b\b\b\b\b\b\b\b\b\b\b\b\b\b\b\b\b\b\b\b\b\b\b\b\b\b\b\b\b\b\b\b\b\b\b\b\b\b\b\b\b\b\b\b\b\b\b\b\b\b\b\b\b\b\b\b\b\b\b\b\b\b\b\b\b\b\b\b\b\b\b\b\r\u001b[1m76/76\u001b[0m \u001b[32m━━━━━━━━━━━━━━━━━━━━\u001b[0m\u001b[37m\u001b[0m \u001b[1m20s\u001b[0m 207ms/step - accuracy: 0.4736 - loss: 1.3860 - val_accuracy: 0.4216 - val_loss: 1.4781 - learning_rate: 1.0000e-04\n",
            "Epoch 17/100\n",
            "\u001b[1m76/76\u001b[0m \u001b[32m━━━━━━━━━━━━━━━━━━━━\u001b[0m\u001b[37m\u001b[0m \u001b[1m0s\u001b[0m 170ms/step - accuracy: 0.4784 - loss: 1.3724\n",
            "Epoch 17: val_accuracy improved from 0.42159 to 0.43585, saving model to optimal_vgg16_weights.h5\n"
          ]
        },
        {
          "output_type": "stream",
          "name": "stderr",
          "text": [
            "WARNING:absl:You are saving your model as an HDF5 file via `model.save()` or `keras.saving.save_model(model)`. This file format is considered legacy. We recommend using instead the native Keras format, e.g. `model.save('my_model.keras')` or `keras.saving.save_model(model, 'my_model.keras')`. \n"
          ]
        },
        {
          "output_type": "stream",
          "name": "stdout",
          "text": [
            "\b\b\b\b\b\b\b\b\b\b\b\b\b\b\b\b\b\b\b\b\b\b\b\b\b\b\b\b\b\b\b\b\b\b\b\b\b\b\b\b\b\b\b\b\b\b\b\b\b\b\b\b\b\b\b\b\b\b\b\b\b\b\b\b\b\b\b\b\b\b\b\b\b\b\r\u001b[1m76/76\u001b[0m \u001b[32m━━━━━━━━━━━━━━━━━━━━\u001b[0m\u001b[37m\u001b[0m \u001b[1m21s\u001b[0m 208ms/step - accuracy: 0.4785 - loss: 1.3724 - val_accuracy: 0.4358 - val_loss: 1.4633 - learning_rate: 1.0000e-04\n",
            "Epoch 18/100\n",
            "\u001b[1m76/76\u001b[0m \u001b[32m━━━━━━━━━━━━━━━━━━━━\u001b[0m\u001b[37m\u001b[0m \u001b[1m0s\u001b[0m 170ms/step - accuracy: 0.4930 - loss: 1.3504\n",
            "Epoch 18: val_accuracy improved from 0.43585 to 0.43788, saving model to optimal_vgg16_weights.h5\n"
          ]
        },
        {
          "output_type": "stream",
          "name": "stderr",
          "text": [
            "WARNING:absl:You are saving your model as an HDF5 file via `model.save()` or `keras.saving.save_model(model)`. This file format is considered legacy. We recommend using instead the native Keras format, e.g. `model.save('my_model.keras')` or `keras.saving.save_model(model, 'my_model.keras')`. \n"
          ]
        },
        {
          "output_type": "stream",
          "name": "stdout",
          "text": [
            "\b\b\b\b\b\b\b\b\b\b\b\b\b\b\b\b\b\b\b\b\b\b\b\b\b\b\b\b\b\b\b\b\b\b\b\b\b\b\b\b\b\b\b\b\b\b\b\b\b\b\b\b\b\b\b\b\b\b\b\b\b\b\b\b\b\b\b\b\b\b\b\b\b\b\r\u001b[1m76/76\u001b[0m \u001b[32m━━━━━━━━━━━━━━━━━━━━\u001b[0m\u001b[37m\u001b[0m \u001b[1m20s\u001b[0m 208ms/step - accuracy: 0.4930 - loss: 1.3504 - val_accuracy: 0.4379 - val_loss: 1.4409 - learning_rate: 1.0000e-04\n",
            "Epoch 19/100\n",
            "\u001b[1m76/76\u001b[0m \u001b[32m━━━━━━━━━━━━━━━━━━━━\u001b[0m\u001b[37m\u001b[0m \u001b[1m0s\u001b[0m 169ms/step - accuracy: 0.4906 - loss: 1.3308\n",
            "Epoch 19: val_accuracy improved from 0.43788 to 0.45621, saving model to optimal_vgg16_weights.h5\n"
          ]
        },
        {
          "output_type": "stream",
          "name": "stderr",
          "text": [
            "WARNING:absl:You are saving your model as an HDF5 file via `model.save()` or `keras.saving.save_model(model)`. This file format is considered legacy. We recommend using instead the native Keras format, e.g. `model.save('my_model.keras')` or `keras.saving.save_model(model, 'my_model.keras')`. \n"
          ]
        },
        {
          "output_type": "stream",
          "name": "stdout",
          "text": [
            "\b\b\b\b\b\b\b\b\b\b\b\b\b\b\b\b\b\b\b\b\b\b\b\b\b\b\b\b\b\b\b\b\b\b\b\b\b\b\b\b\b\b\b\b\b\b\b\b\b\b\b\b\b\b\b\b\b\b\b\b\b\b\b\b\b\b\b\b\b\b\b\b\b\b\r\u001b[1m76/76\u001b[0m \u001b[32m━━━━━━━━━━━━━━━━━━━━\u001b[0m\u001b[37m\u001b[0m \u001b[1m23s\u001b[0m 242ms/step - accuracy: 0.4906 - loss: 1.3308 - val_accuracy: 0.4562 - val_loss: 1.4255 - learning_rate: 1.0000e-04\n",
            "Epoch 20/100\n",
            "\u001b[1m76/76\u001b[0m \u001b[32m━━━━━━━━━━━━━━━━━━━━\u001b[0m\u001b[37m\u001b[0m \u001b[1m0s\u001b[0m 167ms/step - accuracy: 0.5001 - loss: 1.3072\n",
            "Epoch 20: val_accuracy did not improve from 0.45621\n",
            "\u001b[1m76/76\u001b[0m \u001b[32m━━━━━━━━━━━━━━━━━━━━\u001b[0m\u001b[37m\u001b[0m \u001b[1m17s\u001b[0m 202ms/step - accuracy: 0.5001 - loss: 1.3072 - val_accuracy: 0.4481 - val_loss: 1.4081 - learning_rate: 1.0000e-04\n",
            "Epoch 21/100\n",
            "\u001b[1m76/76\u001b[0m \u001b[32m━━━━━━━━━━━━━━━━━━━━\u001b[0m\u001b[37m\u001b[0m \u001b[1m0s\u001b[0m 170ms/step - accuracy: 0.5102 - loss: 1.2858\n",
            "Epoch 21: val_accuracy did not improve from 0.45621\n",
            "\u001b[1m76/76\u001b[0m \u001b[32m━━━━━━━━━━━━━━━━━━━━\u001b[0m\u001b[37m\u001b[0m \u001b[1m21s\u001b[0m 205ms/step - accuracy: 0.5102 - loss: 1.2859 - val_accuracy: 0.4521 - val_loss: 1.4028 - learning_rate: 1.0000e-04\n",
            "Epoch 22/100\n",
            "\u001b[1m76/76\u001b[0m \u001b[32m━━━━━━━━━━━━━━━━━━━━\u001b[0m\u001b[37m\u001b[0m \u001b[1m0s\u001b[0m 170ms/step - accuracy: 0.5274 - loss: 1.2609\n",
            "Epoch 22: val_accuracy improved from 0.45621 to 0.46843, saving model to optimal_vgg16_weights.h5\n"
          ]
        },
        {
          "output_type": "stream",
          "name": "stderr",
          "text": [
            "WARNING:absl:You are saving your model as an HDF5 file via `model.save()` or `keras.saving.save_model(model)`. This file format is considered legacy. We recommend using instead the native Keras format, e.g. `model.save('my_model.keras')` or `keras.saving.save_model(model, 'my_model.keras')`. \n"
          ]
        },
        {
          "output_type": "stream",
          "name": "stdout",
          "text": [
            "\b\b\b\b\b\b\b\b\b\b\b\b\b\b\b\b\b\b\b\b\b\b\b\b\b\b\b\b\b\b\b\b\b\b\b\b\b\b\b\b\b\b\b\b\b\b\b\b\b\b\b\b\b\b\b\b\b\b\b\b\b\b\b\b\b\b\b\b\b\b\b\b\b\b\r\u001b[1m76/76\u001b[0m \u001b[32m━━━━━━━━━━━━━━━━━━━━\u001b[0m\u001b[37m\u001b[0m \u001b[1m21s\u001b[0m 208ms/step - accuracy: 0.5274 - loss: 1.2610 - val_accuracy: 0.4684 - val_loss: 1.3840 - learning_rate: 1.0000e-04\n",
            "Epoch 23/100\n",
            "\u001b[1m76/76\u001b[0m \u001b[32m━━━━━━━━━━━━━━━━━━━━\u001b[0m\u001b[37m\u001b[0m \u001b[1m0s\u001b[0m 168ms/step - accuracy: 0.5099 - loss: 1.2544\n",
            "Epoch 23: val_accuracy improved from 0.46843 to 0.47454, saving model to optimal_vgg16_weights.h5\n"
          ]
        },
        {
          "output_type": "stream",
          "name": "stderr",
          "text": [
            "WARNING:absl:You are saving your model as an HDF5 file via `model.save()` or `keras.saving.save_model(model)`. This file format is considered legacy. We recommend using instead the native Keras format, e.g. `model.save('my_model.keras')` or `keras.saving.save_model(model, 'my_model.keras')`. \n"
          ]
        },
        {
          "output_type": "stream",
          "name": "stdout",
          "text": [
            "\b\b\b\b\b\b\b\b\b\b\b\b\b\b\b\b\b\b\b\b\b\b\b\b\b\b\b\b\b\b\b\b\b\b\b\b\b\b\b\b\b\b\b\b\b\b\b\b\b\b\b\b\b\b\b\b\b\b\b\b\b\b\b\b\b\b\b\b\b\b\b\b\b\b\r\u001b[1m76/76\u001b[0m \u001b[32m━━━━━━━━━━━━━━━━━━━━\u001b[0m\u001b[37m\u001b[0m \u001b[1m20s\u001b[0m 206ms/step - accuracy: 0.5100 - loss: 1.2545 - val_accuracy: 0.4745 - val_loss: 1.3728 - learning_rate: 1.0000e-04\n",
            "Epoch 24/100\n",
            "\u001b[1m76/76\u001b[0m \u001b[32m━━━━━━━━━━━━━━━━━━━━\u001b[0m\u001b[37m\u001b[0m \u001b[1m0s\u001b[0m 170ms/step - accuracy: 0.5173 - loss: 1.2589\n",
            "Epoch 24: val_accuracy improved from 0.47454 to 0.49491, saving model to optimal_vgg16_weights.h5\n"
          ]
        },
        {
          "output_type": "stream",
          "name": "stderr",
          "text": [
            "WARNING:absl:You are saving your model as an HDF5 file via `model.save()` or `keras.saving.save_model(model)`. This file format is considered legacy. We recommend using instead the native Keras format, e.g. `model.save('my_model.keras')` or `keras.saving.save_model(model, 'my_model.keras')`. \n"
          ]
        },
        {
          "output_type": "stream",
          "name": "stdout",
          "text": [
            "\b\b\b\b\b\b\b\b\b\b\b\b\b\b\b\b\b\b\b\b\b\b\b\b\b\b\b\b\b\b\b\b\b\b\b\b\b\b\b\b\b\b\b\b\b\b\b\b\b\b\b\b\b\b\b\b\b\b\b\b\b\b\b\b\b\b\b\b\b\b\b\b\b\b\r\u001b[1m76/76\u001b[0m \u001b[32m━━━━━━━━━━━━━━━━━━━━\u001b[0m\u001b[37m\u001b[0m \u001b[1m23s\u001b[0m 244ms/step - accuracy: 0.5174 - loss: 1.2588 - val_accuracy: 0.4949 - val_loss: 1.3574 - learning_rate: 1.0000e-04\n",
            "Epoch 25/100\n",
            "\u001b[1m76/76\u001b[0m \u001b[32m━━━━━━━━━━━━━━━━━━━━\u001b[0m\u001b[37m\u001b[0m \u001b[1m0s\u001b[0m 171ms/step - accuracy: 0.5304 - loss: 1.2280\n",
            "Epoch 25: val_accuracy did not improve from 0.49491\n",
            "\u001b[1m76/76\u001b[0m \u001b[32m━━━━━━━━━━━━━━━━━━━━\u001b[0m\u001b[37m\u001b[0m \u001b[1m20s\u001b[0m 239ms/step - accuracy: 0.5303 - loss: 1.2282 - val_accuracy: 0.4868 - val_loss: 1.3600 - learning_rate: 1.0000e-04\n",
            "Epoch 26/100\n",
            "\u001b[1m76/76\u001b[0m \u001b[32m━━━━━━━━━━━━━━━━━━━━\u001b[0m\u001b[37m\u001b[0m \u001b[1m0s\u001b[0m 169ms/step - accuracy: 0.5342 - loss: 1.2186\n",
            "Epoch 26: val_accuracy did not improve from 0.49491\n",
            "\u001b[1m76/76\u001b[0m \u001b[32m━━━━━━━━━━━━━━━━━━━━\u001b[0m\u001b[37m\u001b[0m \u001b[1m18s\u001b[0m 204ms/step - accuracy: 0.5342 - loss: 1.2187 - val_accuracy: 0.4949 - val_loss: 1.3462 - learning_rate: 1.0000e-04\n",
            "Epoch 27/100\n",
            "\u001b[1m76/76\u001b[0m \u001b[32m━━━━━━━━━━━━━━━━━━━━\u001b[0m\u001b[37m\u001b[0m \u001b[1m0s\u001b[0m 171ms/step - accuracy: 0.5534 - loss: 1.1858\n",
            "Epoch 27: val_accuracy did not improve from 0.49491\n",
            "\u001b[1m76/76\u001b[0m \u001b[32m━━━━━━━━━━━━━━━━━━━━\u001b[0m\u001b[37m\u001b[0m \u001b[1m21s\u001b[0m 205ms/step - accuracy: 0.5534 - loss: 1.1859 - val_accuracy: 0.4949 - val_loss: 1.3370 - learning_rate: 1.0000e-04\n",
            "Epoch 28/100\n",
            "\u001b[1m76/76\u001b[0m \u001b[32m━━━━━━━━━━━━━━━━━━━━\u001b[0m\u001b[37m\u001b[0m \u001b[1m0s\u001b[0m 169ms/step - accuracy: 0.5450 - loss: 1.1705\n",
            "Epoch 28: val_accuracy did not improve from 0.49491\n",
            "\u001b[1m76/76\u001b[0m \u001b[32m━━━━━━━━━━━━━━━━━━━━\u001b[0m\u001b[37m\u001b[0m \u001b[1m21s\u001b[0m 205ms/step - accuracy: 0.5450 - loss: 1.1706 - val_accuracy: 0.4949 - val_loss: 1.3221 - learning_rate: 1.0000e-04\n",
            "Epoch 29/100\n",
            "\u001b[1m76/76\u001b[0m \u001b[32m━━━━━━━━━━━━━━━━━━━━\u001b[0m\u001b[37m\u001b[0m \u001b[1m0s\u001b[0m 171ms/step - accuracy: 0.5611 - loss: 1.1563\n",
            "Epoch 29: val_accuracy improved from 0.49491 to 0.50713, saving model to optimal_vgg16_weights.h5\n"
          ]
        },
        {
          "output_type": "stream",
          "name": "stderr",
          "text": [
            "WARNING:absl:You are saving your model as an HDF5 file via `model.save()` or `keras.saving.save_model(model)`. This file format is considered legacy. We recommend using instead the native Keras format, e.g. `model.save('my_model.keras')` or `keras.saving.save_model(model, 'my_model.keras')`. \n"
          ]
        },
        {
          "output_type": "stream",
          "name": "stdout",
          "text": [
            "\b\b\b\b\b\b\b\b\b\b\b\b\b\b\b\b\b\b\b\b\b\b\b\b\b\b\b\b\b\b\b\b\b\b\b\b\b\b\b\b\b\b\b\b\b\b\b\b\b\b\b\b\b\b\b\b\b\b\b\b\b\b\b\b\b\b\b\b\b\b\b\b\b\b\r\u001b[1m76/76\u001b[0m \u001b[32m━━━━━━━━━━━━━━━━━━━━\u001b[0m\u001b[37m\u001b[0m \u001b[1m21s\u001b[0m 209ms/step - accuracy: 0.5611 - loss: 1.1565 - val_accuracy: 0.5071 - val_loss: 1.3217 - learning_rate: 1.0000e-04\n",
            "Epoch 30/100\n",
            "\u001b[1m76/76\u001b[0m \u001b[32m━━━━━━━━━━━━━━━━━━━━\u001b[0m\u001b[37m\u001b[0m \u001b[1m0s\u001b[0m 170ms/step - accuracy: 0.5674 - loss: 1.1363\n",
            "Epoch 30: val_accuracy did not improve from 0.50713\n",
            "\u001b[1m76/76\u001b[0m \u001b[32m━━━━━━━━━━━━━━━━━━━━\u001b[0m\u001b[37m\u001b[0m \u001b[1m20s\u001b[0m 205ms/step - accuracy: 0.5673 - loss: 1.1366 - val_accuracy: 0.5051 - val_loss: 1.3117 - learning_rate: 1.0000e-04\n",
            "Epoch 31/100\n",
            "\u001b[1m76/76\u001b[0m \u001b[32m━━━━━━━━━━━━━━━━━━━━\u001b[0m\u001b[37m\u001b[0m \u001b[1m0s\u001b[0m 170ms/step - accuracy: 0.5693 - loss: 1.1438\n",
            "Epoch 31: val_accuracy did not improve from 0.50713\n",
            "\u001b[1m76/76\u001b[0m \u001b[32m━━━━━━━━━━━━━━━━━━━━\u001b[0m\u001b[37m\u001b[0m \u001b[1m20s\u001b[0m 204ms/step - accuracy: 0.5693 - loss: 1.1440 - val_accuracy: 0.4990 - val_loss: 1.3085 - learning_rate: 1.0000e-04\n",
            "Epoch 32/100\n",
            "\u001b[1m76/76\u001b[0m \u001b[32m━━━━━━━━━━━━━━━━━━━━\u001b[0m\u001b[37m\u001b[0m \u001b[1m0s\u001b[0m 171ms/step - accuracy: 0.5687 - loss: 1.1478\n",
            "Epoch 32: val_accuracy improved from 0.50713 to 0.51324, saving model to optimal_vgg16_weights.h5\n"
          ]
        },
        {
          "output_type": "stream",
          "name": "stderr",
          "text": [
            "WARNING:absl:You are saving your model as an HDF5 file via `model.save()` or `keras.saving.save_model(model)`. This file format is considered legacy. We recommend using instead the native Keras format, e.g. `model.save('my_model.keras')` or `keras.saving.save_model(model, 'my_model.keras')`. \n"
          ]
        },
        {
          "output_type": "stream",
          "name": "stdout",
          "text": [
            "\b\b\b\b\b\b\b\b\b\b\b\b\b\b\b\b\b\b\b\b\b\b\b\b\b\b\b\b\b\b\b\b\b\b\b\b\b\b\b\b\b\b\b\b\b\b\b\b\b\b\b\b\b\b\b\b\b\b\b\b\b\b\b\b\b\b\b\b\b\b\b\b\b\b\r\u001b[1m76/76\u001b[0m \u001b[32m━━━━━━━━━━━━━━━━━━━━\u001b[0m\u001b[37m\u001b[0m \u001b[1m16s\u001b[0m 216ms/step - accuracy: 0.5688 - loss: 1.1477 - val_accuracy: 0.5132 - val_loss: 1.2897 - learning_rate: 1.0000e-04\n",
            "Epoch 33/100\n",
            "\u001b[1m76/76\u001b[0m \u001b[32m━━━━━━━━━━━━━━━━━━━━\u001b[0m\u001b[37m\u001b[0m \u001b[1m0s\u001b[0m 168ms/step - accuracy: 0.5555 - loss: 1.1322\n",
            "Epoch 33: val_accuracy improved from 0.51324 to 0.51731, saving model to optimal_vgg16_weights.h5\n"
          ]
        },
        {
          "output_type": "stream",
          "name": "stderr",
          "text": [
            "WARNING:absl:You are saving your model as an HDF5 file via `model.save()` or `keras.saving.save_model(model)`. This file format is considered legacy. We recommend using instead the native Keras format, e.g. `model.save('my_model.keras')` or `keras.saving.save_model(model, 'my_model.keras')`. \n"
          ]
        },
        {
          "output_type": "stream",
          "name": "stdout",
          "text": [
            "\b\b\b\b\b\b\b\b\b\b\b\b\b\b\b\b\b\b\b\b\b\b\b\b\b\b\b\b\b\b\b\b\b\b\b\b\b\b\b\b\b\b\b\b\b\b\b\b\b\b\b\b\b\b\b\b\b\b\b\b\b\b\b\b\b\b\b\b\b\b\b\b\b\b\r\u001b[1m76/76\u001b[0m \u001b[32m━━━━━━━━━━━━━━━━━━━━\u001b[0m\u001b[37m\u001b[0m \u001b[1m22s\u001b[0m 240ms/step - accuracy: 0.5557 - loss: 1.1322 - val_accuracy: 0.5173 - val_loss: 1.2894 - learning_rate: 1.0000e-04\n",
            "Epoch 34/100\n",
            "\u001b[1m76/76\u001b[0m \u001b[32m━━━━━━━━━━━━━━━━━━━━\u001b[0m\u001b[37m\u001b[0m \u001b[1m0s\u001b[0m 169ms/step - accuracy: 0.5780 - loss: 1.1045\n",
            "Epoch 34: val_accuracy improved from 0.51731 to 0.52138, saving model to optimal_vgg16_weights.h5\n"
          ]
        },
        {
          "output_type": "stream",
          "name": "stderr",
          "text": [
            "WARNING:absl:You are saving your model as an HDF5 file via `model.save()` or `keras.saving.save_model(model)`. This file format is considered legacy. We recommend using instead the native Keras format, e.g. `model.save('my_model.keras')` or `keras.saving.save_model(model, 'my_model.keras')`. \n"
          ]
        },
        {
          "output_type": "stream",
          "name": "stdout",
          "text": [
            "\b\b\b\b\b\b\b\b\b\b\b\b\b\b\b\b\b\b\b\b\b\b\b\b\b\b\b\b\b\b\b\b\b\b\b\b\b\b\b\b\b\b\b\b\b\b\b\b\b\b\b\b\b\b\b\b\b\b\b\b\b\b\b\b\b\b\b\b\b\b\b\b\b\b\r\u001b[1m76/76\u001b[0m \u001b[32m━━━━━━━━━━━━━━━━━━━━\u001b[0m\u001b[37m\u001b[0m \u001b[1m18s\u001b[0m 207ms/step - accuracy: 0.5780 - loss: 1.1046 - val_accuracy: 0.5214 - val_loss: 1.2799 - learning_rate: 1.0000e-04\n",
            "Epoch 35/100\n",
            "\u001b[1m76/76\u001b[0m \u001b[32m━━━━━━━━━━━━━━━━━━━━\u001b[0m\u001b[37m\u001b[0m \u001b[1m0s\u001b[0m 171ms/step - accuracy: 0.5935 - loss: 1.0898\n",
            "Epoch 35: val_accuracy improved from 0.52138 to 0.52546, saving model to optimal_vgg16_weights.h5\n"
          ]
        },
        {
          "output_type": "stream",
          "name": "stderr",
          "text": [
            "WARNING:absl:You are saving your model as an HDF5 file via `model.save()` or `keras.saving.save_model(model)`. This file format is considered legacy. We recommend using instead the native Keras format, e.g. `model.save('my_model.keras')` or `keras.saving.save_model(model, 'my_model.keras')`. \n"
          ]
        },
        {
          "output_type": "stream",
          "name": "stdout",
          "text": [
            "\b\b\b\b\b\b\b\b\b\b\b\b\b\b\b\b\b\b\b\b\b\b\b\b\b\b\b\b\b\b\b\b\b\b\b\b\b\b\b\b\b\b\b\b\b\b\b\b\b\b\b\b\b\b\b\b\b\b\b\b\b\b\b\b\b\b\b\b\b\b\b\b\b\b\r\u001b[1m76/76\u001b[0m \u001b[32m━━━━━━━━━━━━━━━━━━━━\u001b[0m\u001b[37m\u001b[0m \u001b[1m23s\u001b[0m 244ms/step - accuracy: 0.5934 - loss: 1.0898 - val_accuracy: 0.5255 - val_loss: 1.2686 - learning_rate: 1.0000e-04\n",
            "Epoch 36/100\n",
            "\u001b[1m76/76\u001b[0m \u001b[32m━━━━━━━━━━━━━━━━━━━━\u001b[0m\u001b[37m\u001b[0m \u001b[1m0s\u001b[0m 169ms/step - accuracy: 0.5787 - loss: 1.0812\n",
            "Epoch 36: val_accuracy did not improve from 0.52546\n",
            "\u001b[1m76/76\u001b[0m \u001b[32m━━━━━━━━━━━━━━━━━━━━\u001b[0m\u001b[37m\u001b[0m \u001b[1m17s\u001b[0m 204ms/step - accuracy: 0.5788 - loss: 1.0813 - val_accuracy: 0.5234 - val_loss: 1.2623 - learning_rate: 1.0000e-04\n",
            "Epoch 37/100\n",
            "\u001b[1m76/76\u001b[0m \u001b[32m━━━━━━━━━━━━━━━━━━━━\u001b[0m\u001b[37m\u001b[0m \u001b[1m0s\u001b[0m 167ms/step - accuracy: 0.5921 - loss: 1.0777\n",
            "Epoch 37: val_accuracy did not improve from 0.52546\n",
            "\u001b[1m76/76\u001b[0m \u001b[32m━━━━━━━━━━━━━━━━━━━━\u001b[0m\u001b[37m\u001b[0m \u001b[1m23s\u001b[0m 236ms/step - accuracy: 0.5921 - loss: 1.0777 - val_accuracy: 0.5173 - val_loss: 1.2488 - learning_rate: 1.0000e-04\n",
            "Epoch 38/100\n",
            "\u001b[1m76/76\u001b[0m \u001b[32m━━━━━━━━━━━━━━━━━━━━\u001b[0m\u001b[37m\u001b[0m \u001b[1m0s\u001b[0m 169ms/step - accuracy: 0.5858 - loss: 1.0848\n",
            "Epoch 38: val_accuracy did not improve from 0.52546\n",
            "\u001b[1m76/76\u001b[0m \u001b[32m━━━━━━━━━━━━━━━━━━━━\u001b[0m\u001b[37m\u001b[0m \u001b[1m18s\u001b[0m 204ms/step - accuracy: 0.5859 - loss: 1.0848 - val_accuracy: 0.5214 - val_loss: 1.2483 - learning_rate: 1.0000e-04\n",
            "Epoch 39/100\n",
            "\u001b[1m76/76\u001b[0m \u001b[32m━━━━━━━━━━━━━━━━━━━━\u001b[0m\u001b[37m\u001b[0m \u001b[1m0s\u001b[0m 169ms/step - accuracy: 0.5862 - loss: 1.0803\n",
            "Epoch 39: val_accuracy improved from 0.52546 to 0.53768, saving model to optimal_vgg16_weights.h5\n"
          ]
        },
        {
          "output_type": "stream",
          "name": "stderr",
          "text": [
            "WARNING:absl:You are saving your model as an HDF5 file via `model.save()` or `keras.saving.save_model(model)`. This file format is considered legacy. We recommend using instead the native Keras format, e.g. `model.save('my_model.keras')` or `keras.saving.save_model(model, 'my_model.keras')`. \n"
          ]
        },
        {
          "output_type": "stream",
          "name": "stdout",
          "text": [
            "\b\b\b\b\b\b\b\b\b\b\b\b\b\b\b\b\b\b\b\b\b\b\b\b\b\b\b\b\b\b\b\b\b\b\b\b\b\b\b\b\b\b\b\b\b\b\b\b\b\b\b\b\b\b\b\b\b\b\b\b\b\b\b\b\b\b\b\b\b\b\b\b\b\b\r\u001b[1m76/76\u001b[0m \u001b[32m━━━━━━━━━━━━━━━━━━━━\u001b[0m\u001b[37m\u001b[0m \u001b[1m21s\u001b[0m 207ms/step - accuracy: 0.5863 - loss: 1.0802 - val_accuracy: 0.5377 - val_loss: 1.2429 - learning_rate: 1.0000e-04\n",
            "Epoch 40/100\n",
            "\u001b[1m76/76\u001b[0m \u001b[32m━━━━━━━━━━━━━━━━━━━━\u001b[0m\u001b[37m\u001b[0m \u001b[1m0s\u001b[0m 170ms/step - accuracy: 0.6071 - loss: 1.0627\n",
            "Epoch 40: val_accuracy did not improve from 0.53768\n",
            "\u001b[1m76/76\u001b[0m \u001b[32m━━━━━━━━━━━━━━━━━━━━\u001b[0m\u001b[37m\u001b[0m \u001b[1m20s\u001b[0m 205ms/step - accuracy: 0.6072 - loss: 1.0627 - val_accuracy: 0.5356 - val_loss: 1.2512 - learning_rate: 1.0000e-04\n",
            "Epoch 41/100\n",
            "\u001b[1m76/76\u001b[0m \u001b[32m━━━━━━━━━━━━━━━━━━━━\u001b[0m\u001b[37m\u001b[0m \u001b[1m0s\u001b[0m 169ms/step - accuracy: 0.6081 - loss: 1.0393\n",
            "Epoch 41: val_accuracy improved from 0.53768 to 0.53971, saving model to optimal_vgg16_weights.h5\n"
          ]
        },
        {
          "output_type": "stream",
          "name": "stderr",
          "text": [
            "WARNING:absl:You are saving your model as an HDF5 file via `model.save()` or `keras.saving.save_model(model)`. This file format is considered legacy. We recommend using instead the native Keras format, e.g. `model.save('my_model.keras')` or `keras.saving.save_model(model, 'my_model.keras')`. \n"
          ]
        },
        {
          "output_type": "stream",
          "name": "stdout",
          "text": [
            "\b\b\b\b\b\b\b\b\b\b\b\b\b\b\b\b\b\b\b\b\b\b\b\b\b\b\b\b\b\b\b\b\b\b\b\b\b\b\b\b\b\b\b\b\b\b\b\b\b\b\b\b\b\b\b\b\b\b\b\b\b\b\b\b\b\b\b\b\b\b\b\b\b\b\r\u001b[1m76/76\u001b[0m \u001b[32m━━━━━━━━━━━━━━━━━━━━\u001b[0m\u001b[37m\u001b[0m \u001b[1m23s\u001b[0m 241ms/step - accuracy: 0.6080 - loss: 1.0394 - val_accuracy: 0.5397 - val_loss: 1.2379 - learning_rate: 1.0000e-04\n",
            "Epoch 42/100\n",
            "\u001b[1m76/76\u001b[0m \u001b[32m━━━━━━━━━━━━━━━━━━━━\u001b[0m\u001b[37m\u001b[0m \u001b[1m0s\u001b[0m 169ms/step - accuracy: 0.6015 - loss: 1.0304\n",
            "Epoch 42: val_accuracy did not improve from 0.53971\n",
            "\u001b[1m76/76\u001b[0m \u001b[32m━━━━━━━━━━━━━━━━━━━━\u001b[0m\u001b[37m\u001b[0m \u001b[1m20s\u001b[0m 237ms/step - accuracy: 0.6016 - loss: 1.0305 - val_accuracy: 0.5295 - val_loss: 1.2457 - learning_rate: 1.0000e-04\n",
            "Epoch 43/100\n",
            "\u001b[1m76/76\u001b[0m \u001b[32m━━━━━━━━━━━━━━━━━━━━\u001b[0m\u001b[37m\u001b[0m \u001b[1m0s\u001b[0m 169ms/step - accuracy: 0.6045 - loss: 1.0375\n",
            "Epoch 43: val_accuracy improved from 0.53971 to 0.54990, saving model to optimal_vgg16_weights.h5\n"
          ]
        },
        {
          "output_type": "stream",
          "name": "stderr",
          "text": [
            "WARNING:absl:You are saving your model as an HDF5 file via `model.save()` or `keras.saving.save_model(model)`. This file format is considered legacy. We recommend using instead the native Keras format, e.g. `model.save('my_model.keras')` or `keras.saving.save_model(model, 'my_model.keras')`. \n"
          ]
        },
        {
          "output_type": "stream",
          "name": "stdout",
          "text": [
            "\b\b\b\b\b\b\b\b\b\b\b\b\b\b\b\b\b\b\b\b\b\b\b\b\b\b\b\b\b\b\b\b\b\b\b\b\b\b\b\b\b\b\b\b\b\b\b\b\b\b\b\b\b\b\b\b\b\b\b\b\b\b\b\b\b\b\b\b\b\b\b\b\b\b\r\u001b[1m76/76\u001b[0m \u001b[32m━━━━━━━━━━━━━━━━━━━━\u001b[0m\u001b[37m\u001b[0m \u001b[1m21s\u001b[0m 241ms/step - accuracy: 0.6046 - loss: 1.0374 - val_accuracy: 0.5499 - val_loss: 1.2236 - learning_rate: 1.0000e-04\n",
            "Epoch 44/100\n",
            "\u001b[1m76/76\u001b[0m \u001b[32m━━━━━━━━━━━━━━━━━━━━\u001b[0m\u001b[37m\u001b[0m \u001b[1m0s\u001b[0m 169ms/step - accuracy: 0.6007 - loss: 1.0285\n",
            "Epoch 44: val_accuracy improved from 0.54990 to 0.55601, saving model to optimal_vgg16_weights.h5\n"
          ]
        },
        {
          "output_type": "stream",
          "name": "stderr",
          "text": [
            "WARNING:absl:You are saving your model as an HDF5 file via `model.save()` or `keras.saving.save_model(model)`. This file format is considered legacy. We recommend using instead the native Keras format, e.g. `model.save('my_model.keras')` or `keras.saving.save_model(model, 'my_model.keras')`. \n"
          ]
        },
        {
          "output_type": "stream",
          "name": "stdout",
          "text": [
            "\b\b\b\b\b\b\b\b\b\b\b\b\b\b\b\b\b\b\b\b\b\b\b\b\b\b\b\b\b\b\b\b\b\b\b\b\b\b\b\b\b\b\b\b\b\b\b\b\b\b\b\b\b\b\b\b\b\b\b\b\b\b\b\b\b\b\b\b\b\b\b\b\b\b\r\u001b[1m76/76\u001b[0m \u001b[32m━━━━━━━━━━━━━━━━━━━━\u001b[0m\u001b[37m\u001b[0m \u001b[1m16s\u001b[0m 208ms/step - accuracy: 0.6009 - loss: 1.0284 - val_accuracy: 0.5560 - val_loss: 1.2292 - learning_rate: 1.0000e-04\n",
            "Epoch 45/100\n",
            "\u001b[1m76/76\u001b[0m \u001b[32m━━━━━━━━━━━━━━━━━━━━\u001b[0m\u001b[37m\u001b[0m \u001b[1m0s\u001b[0m 168ms/step - accuracy: 0.6091 - loss: 1.0074\n",
            "Epoch 45: val_accuracy did not improve from 0.55601\n",
            "\u001b[1m76/76\u001b[0m \u001b[32m━━━━━━━━━━━━━━━━━━━━\u001b[0m\u001b[37m\u001b[0m \u001b[1m20s\u001b[0m 203ms/step - accuracy: 0.6092 - loss: 1.0075 - val_accuracy: 0.5397 - val_loss: 1.2228 - learning_rate: 1.0000e-04\n",
            "Epoch 46/100\n",
            "\u001b[1m76/76\u001b[0m \u001b[32m━━━━━━━━━━━━━━━━━━━━\u001b[0m\u001b[37m\u001b[0m \u001b[1m0s\u001b[0m 171ms/step - accuracy: 0.6335 - loss: 0.9785\n",
            "Epoch 46: val_accuracy did not improve from 0.55601\n",
            "\u001b[1m76/76\u001b[0m \u001b[32m━━━━━━━━━━━━━━━━━━━━\u001b[0m\u001b[37m\u001b[0m \u001b[1m18s\u001b[0m 240ms/step - accuracy: 0.6335 - loss: 0.9786 - val_accuracy: 0.5499 - val_loss: 1.2138 - learning_rate: 1.0000e-04\n",
            "Epoch 47/100\n",
            "\u001b[1m76/76\u001b[0m \u001b[32m━━━━━━━━━━━━━━━━━━━━\u001b[0m\u001b[37m\u001b[0m \u001b[1m0s\u001b[0m 169ms/step - accuracy: 0.6112 - loss: 0.9998\n",
            "Epoch 47: val_accuracy did not improve from 0.55601\n",
            "\u001b[1m76/76\u001b[0m \u001b[32m━━━━━━━━━━━━━━━━━━━━\u001b[0m\u001b[37m\u001b[0m \u001b[1m18s\u001b[0m 204ms/step - accuracy: 0.6113 - loss: 0.9998 - val_accuracy: 0.5499 - val_loss: 1.2121 - learning_rate: 1.0000e-04\n",
            "Epoch 48/100\n",
            "\u001b[1m76/76\u001b[0m \u001b[32m━━━━━━━━━━━━━━━━━━━━\u001b[0m\u001b[37m\u001b[0m \u001b[1m0s\u001b[0m 169ms/step - accuracy: 0.6227 - loss: 0.9861\n",
            "Epoch 48: val_accuracy did not improve from 0.55601\n",
            "\u001b[1m76/76\u001b[0m \u001b[32m━━━━━━━━━━━━━━━━━━━━\u001b[0m\u001b[37m\u001b[0m \u001b[1m23s\u001b[0m 237ms/step - accuracy: 0.6227 - loss: 0.9861 - val_accuracy: 0.5479 - val_loss: 1.2011 - learning_rate: 1.0000e-04\n",
            "Epoch 49/100\n",
            "\u001b[1m76/76\u001b[0m \u001b[32m━━━━━━━━━━━━━━━━━━━━\u001b[0m\u001b[37m\u001b[0m \u001b[1m0s\u001b[0m 171ms/step - accuracy: 0.6268 - loss: 0.9745\n",
            "Epoch 49: val_accuracy did not improve from 0.55601\n",
            "\u001b[1m76/76\u001b[0m \u001b[32m━━━━━━━━━━━━━━━━━━━━\u001b[0m\u001b[37m\u001b[0m \u001b[1m21s\u001b[0m 240ms/step - accuracy: 0.6269 - loss: 0.9746 - val_accuracy: 0.5397 - val_loss: 1.2120 - learning_rate: 1.0000e-04\n",
            "Epoch 50/100\n",
            "\u001b[1m76/76\u001b[0m \u001b[32m━━━━━━━━━━━━━━━━━━━━\u001b[0m\u001b[37m\u001b[0m \u001b[1m0s\u001b[0m 169ms/step - accuracy: 0.6397 - loss: 0.9476\n",
            "Epoch 50: val_accuracy improved from 0.55601 to 0.55804, saving model to optimal_vgg16_weights.h5\n"
          ]
        },
        {
          "output_type": "stream",
          "name": "stderr",
          "text": [
            "WARNING:absl:You are saving your model as an HDF5 file via `model.save()` or `keras.saving.save_model(model)`. This file format is considered legacy. We recommend using instead the native Keras format, e.g. `model.save('my_model.keras')` or `keras.saving.save_model(model, 'my_model.keras')`. \n"
          ]
        },
        {
          "output_type": "stream",
          "name": "stdout",
          "text": [
            "\b\b\b\b\b\b\b\b\b\b\b\b\b\b\b\b\b\b\b\b\b\b\b\b\b\b\b\b\b\b\b\b\b\b\b\b\b\b\b\b\b\b\b\b\b\b\b\b\b\b\b\b\b\b\b\b\b\b\b\b\b\b\b\b\b\b\b\b\b\b\b\b\b\b\r\u001b[1m76/76\u001b[0m \u001b[32m━━━━━━━━━━━━━━━━━━━━\u001b[0m\u001b[37m\u001b[0m \u001b[1m18s\u001b[0m 208ms/step - accuracy: 0.6397 - loss: 0.9476 - val_accuracy: 0.5580 - val_loss: 1.2026 - learning_rate: 1.0000e-04\n",
            "Epoch 51/100\n",
            "\u001b[1m76/76\u001b[0m \u001b[32m━━━━━━━━━━━━━━━━━━━━\u001b[0m\u001b[37m\u001b[0m \u001b[1m0s\u001b[0m 169ms/step - accuracy: 0.6317 - loss: 0.9603\n",
            "Epoch 51: val_accuracy did not improve from 0.55804\n",
            "\u001b[1m76/76\u001b[0m \u001b[32m━━━━━━━━━━━━━━━━━━━━\u001b[0m\u001b[37m\u001b[0m \u001b[1m23s\u001b[0m 237ms/step - accuracy: 0.6317 - loss: 0.9603 - val_accuracy: 0.5479 - val_loss: 1.2071 - learning_rate: 1.0000e-04\n",
            "Epoch 52/100\n",
            "\u001b[1m76/76\u001b[0m \u001b[32m━━━━━━━━━━━━━━━━━━━━\u001b[0m\u001b[37m\u001b[0m \u001b[1m0s\u001b[0m 170ms/step - accuracy: 0.6374 - loss: 0.9596\n",
            "Epoch 52: val_accuracy improved from 0.55804 to 0.56212, saving model to optimal_vgg16_weights.h5\n"
          ]
        },
        {
          "output_type": "stream",
          "name": "stderr",
          "text": [
            "WARNING:absl:You are saving your model as an HDF5 file via `model.save()` or `keras.saving.save_model(model)`. This file format is considered legacy. We recommend using instead the native Keras format, e.g. `model.save('my_model.keras')` or `keras.saving.save_model(model, 'my_model.keras')`. \n"
          ]
        },
        {
          "output_type": "stream",
          "name": "stdout",
          "text": [
            "\b\b\b\b\b\b\b\b\b\b\b\b\b\b\b\b\b\b\b\b\b\b\b\b\b\b\b\b\b\b\b\b\b\b\b\b\b\b\b\b\b\b\b\b\b\b\b\b\b\b\b\b\b\b\b\b\b\b\b\b\b\b\b\b\b\b\b\b\b\b\b\b\b\b\r\u001b[1m76/76\u001b[0m \u001b[32m━━━━━━━━━━━━━━━━━━━━\u001b[0m\u001b[37m\u001b[0m \u001b[1m18s\u001b[0m 208ms/step - accuracy: 0.6374 - loss: 0.9595 - val_accuracy: 0.5621 - val_loss: 1.1943 - learning_rate: 1.0000e-04\n",
            "Epoch 53/100\n",
            "\u001b[1m76/76\u001b[0m \u001b[32m━━━━━━━━━━━━━━━━━━━━\u001b[0m\u001b[37m\u001b[0m \u001b[1m0s\u001b[0m 169ms/step - accuracy: 0.6317 - loss: 0.9452\n",
            "Epoch 53: val_accuracy did not improve from 0.56212\n",
            "\u001b[1m76/76\u001b[0m \u001b[32m━━━━━━━━━━━━━━━━━━━━\u001b[0m\u001b[37m\u001b[0m \u001b[1m20s\u001b[0m 204ms/step - accuracy: 0.6319 - loss: 0.9451 - val_accuracy: 0.5621 - val_loss: 1.1886 - learning_rate: 1.0000e-04\n",
            "Epoch 54/100\n",
            "\u001b[1m76/76\u001b[0m \u001b[32m━━━━━━━━━━━━━━━━━━━━\u001b[0m\u001b[37m\u001b[0m \u001b[1m0s\u001b[0m 170ms/step - accuracy: 0.6380 - loss: 0.9303\n",
            "Epoch 54: val_accuracy improved from 0.56212 to 0.57026, saving model to optimal_vgg16_weights.h5\n"
          ]
        },
        {
          "output_type": "stream",
          "name": "stderr",
          "text": [
            "WARNING:absl:You are saving your model as an HDF5 file via `model.save()` or `keras.saving.save_model(model)`. This file format is considered legacy. We recommend using instead the native Keras format, e.g. `model.save('my_model.keras')` or `keras.saving.save_model(model, 'my_model.keras')`. \n"
          ]
        },
        {
          "output_type": "stream",
          "name": "stdout",
          "text": [
            "\b\b\b\b\b\b\b\b\b\b\b\b\b\b\b\b\b\b\b\b\b\b\b\b\b\b\b\b\b\b\b\b\b\b\b\b\b\b\b\b\b\b\b\b\b\b\b\b\b\b\b\b\b\b\b\b\b\b\b\b\b\b\b\b\b\b\b\b\b\b\b\b\b\b\r\u001b[1m76/76\u001b[0m \u001b[32m━━━━━━━━━━━━━━━━━━━━\u001b[0m\u001b[37m\u001b[0m \u001b[1m21s\u001b[0m 207ms/step - accuracy: 0.6381 - loss: 0.9303 - val_accuracy: 0.5703 - val_loss: 1.1813 - learning_rate: 1.0000e-04\n",
            "Epoch 55/100\n",
            "\u001b[1m76/76\u001b[0m \u001b[32m━━━━━━━━━━━━━━━━━━━━\u001b[0m\u001b[37m\u001b[0m \u001b[1m0s\u001b[0m 173ms/step - accuracy: 0.6391 - loss: 0.9242\n",
            "Epoch 55: val_accuracy improved from 0.57026 to 0.57434, saving model to optimal_vgg16_weights.h5\n"
          ]
        },
        {
          "output_type": "stream",
          "name": "stderr",
          "text": [
            "WARNING:absl:You are saving your model as an HDF5 file via `model.save()` or `keras.saving.save_model(model)`. This file format is considered legacy. We recommend using instead the native Keras format, e.g. `model.save('my_model.keras')` or `keras.saving.save_model(model, 'my_model.keras')`. \n"
          ]
        },
        {
          "output_type": "stream",
          "name": "stdout",
          "text": [
            "\b\b\b\b\b\b\b\b\b\b\b\b\b\b\b\b\b\b\b\b\b\b\b\b\b\b\b\b\b\b\b\b\b\b\b\b\b\b\b\b\b\b\b\b\b\b\b\b\b\b\b\b\b\b\b\b\b\b\b\b\b\b\b\b\b\b\b\b\b\b\b\b\b\b\r\u001b[1m76/76\u001b[0m \u001b[32m━━━━━━━━━━━━━━━━━━━━\u001b[0m\u001b[37m\u001b[0m \u001b[1m16s\u001b[0m 211ms/step - accuracy: 0.6391 - loss: 0.9243 - val_accuracy: 0.5743 - val_loss: 1.1789 - learning_rate: 1.0000e-04\n",
            "Epoch 56/100\n",
            "\u001b[1m76/76\u001b[0m \u001b[32m━━━━━━━━━━━━━━━━━━━━\u001b[0m\u001b[37m\u001b[0m \u001b[1m0s\u001b[0m 168ms/step - accuracy: 0.6408 - loss: 0.9194\n",
            "Epoch 56: val_accuracy did not improve from 0.57434\n",
            "\u001b[1m76/76\u001b[0m \u001b[32m━━━━━━━━━━━━━━━━━━━━\u001b[0m\u001b[37m\u001b[0m \u001b[1m20s\u001b[0m 204ms/step - accuracy: 0.6409 - loss: 0.9194 - val_accuracy: 0.5621 - val_loss: 1.1812 - learning_rate: 1.0000e-04\n",
            "Epoch 57/100\n",
            "\u001b[1m76/76\u001b[0m \u001b[32m━━━━━━━━━━━━━━━━━━━━\u001b[0m\u001b[37m\u001b[0m \u001b[1m0s\u001b[0m 168ms/step - accuracy: 0.6486 - loss: 0.9205\n",
            "Epoch 57: val_accuracy did not improve from 0.57434\n",
            "\u001b[1m76/76\u001b[0m \u001b[32m━━━━━━━━━━━━━━━━━━━━\u001b[0m\u001b[37m\u001b[0m \u001b[1m20s\u001b[0m 203ms/step - accuracy: 0.6486 - loss: 0.9206 - val_accuracy: 0.5621 - val_loss: 1.1835 - learning_rate: 1.0000e-04\n",
            "Epoch 58/100\n",
            "\u001b[1m76/76\u001b[0m \u001b[32m━━━━━━━━━━━━━━━━━━━━\u001b[0m\u001b[37m\u001b[0m \u001b[1m0s\u001b[0m 172ms/step - accuracy: 0.6615 - loss: 0.8954\n",
            "Epoch 58: val_accuracy did not improve from 0.57434\n",
            "\u001b[1m76/76\u001b[0m \u001b[32m━━━━━━━━━━━━━━━━━━━━\u001b[0m\u001b[37m\u001b[0m \u001b[1m21s\u001b[0m 207ms/step - accuracy: 0.6615 - loss: 0.8955 - val_accuracy: 0.5621 - val_loss: 1.1733 - learning_rate: 1.0000e-04\n",
            "Epoch 59/100\n",
            "\u001b[1m76/76\u001b[0m \u001b[32m━━━━━━━━━━━━━━━━━━━━\u001b[0m\u001b[37m\u001b[0m \u001b[1m0s\u001b[0m 172ms/step - accuracy: 0.6577 - loss: 0.8854\n",
            "Epoch 59: val_accuracy did not improve from 0.57434\n",
            "\u001b[1m76/76\u001b[0m \u001b[32m━━━━━━━━━━━━━━━━━━━━\u001b[0m\u001b[37m\u001b[0m \u001b[1m18s\u001b[0m 241ms/step - accuracy: 0.6577 - loss: 0.8854 - val_accuracy: 0.5743 - val_loss: 1.1680 - learning_rate: 1.0000e-04\n",
            "Epoch 60/100\n",
            "\u001b[1m76/76\u001b[0m \u001b[32m━━━━━━━━━━━━━━━━━━━━\u001b[0m\u001b[37m\u001b[0m \u001b[1m0s\u001b[0m 176ms/step - accuracy: 0.6616 - loss: 0.8986\n",
            "Epoch 60: val_accuracy did not improve from 0.57434\n",
            "\u001b[1m76/76\u001b[0m \u001b[32m━━━━━━━━━━━━━━━━━━━━\u001b[0m\u001b[37m\u001b[0m \u001b[1m19s\u001b[0m 244ms/step - accuracy: 0.6616 - loss: 0.8985 - val_accuracy: 0.5703 - val_loss: 1.1760 - learning_rate: 1.0000e-04\n",
            "Epoch 61/100\n",
            "\u001b[1m76/76\u001b[0m \u001b[32m━━━━━━━━━━━━━━━━━━━━\u001b[0m\u001b[37m\u001b[0m \u001b[1m0s\u001b[0m 167ms/step - accuracy: 0.6735 - loss: 0.8694\n",
            "Epoch 61: val_accuracy did not improve from 0.57434\n",
            "\u001b[1m76/76\u001b[0m \u001b[32m━━━━━━━━━━━━━━━━━━━━\u001b[0m\u001b[37m\u001b[0m \u001b[1m17s\u001b[0m 202ms/step - accuracy: 0.6733 - loss: 0.8696 - val_accuracy: 0.5642 - val_loss: 1.1741 - learning_rate: 1.0000e-04\n",
            "Epoch 62/100\n",
            "\u001b[1m76/76\u001b[0m \u001b[32m━━━━━━━━━━━━━━━━━━━━\u001b[0m\u001b[37m\u001b[0m \u001b[1m0s\u001b[0m 171ms/step - accuracy: 0.6556 - loss: 0.8962\n",
            "Epoch 62: val_accuracy did not improve from 0.57434\n",
            "\u001b[1m76/76\u001b[0m \u001b[32m━━━━━━━━━━━━━━━━━━━━\u001b[0m\u001b[37m\u001b[0m \u001b[1m21s\u001b[0m 207ms/step - accuracy: 0.6557 - loss: 0.8960 - val_accuracy: 0.5682 - val_loss: 1.1598 - learning_rate: 1.0000e-04\n",
            "Epoch 63/100\n",
            "\u001b[1m76/76\u001b[0m \u001b[32m━━━━━━━━━━━━━━━━━━━━\u001b[0m\u001b[37m\u001b[0m \u001b[1m0s\u001b[0m 173ms/step - accuracy: 0.6761 - loss: 0.8546\n",
            "Epoch 63: val_accuracy improved from 0.57434 to 0.57637, saving model to optimal_vgg16_weights.h5\n"
          ]
        },
        {
          "output_type": "stream",
          "name": "stderr",
          "text": [
            "WARNING:absl:You are saving your model as an HDF5 file via `model.save()` or `keras.saving.save_model(model)`. This file format is considered legacy. We recommend using instead the native Keras format, e.g. `model.save('my_model.keras')` or `keras.saving.save_model(model, 'my_model.keras')`. \n"
          ]
        },
        {
          "output_type": "stream",
          "name": "stdout",
          "text": [
            "\b\b\b\b\b\b\b\b\b\b\b\b\b\b\b\b\b\b\b\b\b\b\b\b\b\b\b\b\b\b\b\b\b\b\b\b\b\b\b\b\b\b\b\b\b\b\b\b\b\b\b\b\b\b\b\b\b\b\b\b\b\b\b\b\b\b\b\b\b\b\b\b\b\b\r\u001b[1m76/76\u001b[0m \u001b[32m━━━━━━━━━━━━━━━━━━━━\u001b[0m\u001b[37m\u001b[0m \u001b[1m16s\u001b[0m 211ms/step - accuracy: 0.6761 - loss: 0.8547 - val_accuracy: 0.5764 - val_loss: 1.1573 - learning_rate: 1.0000e-04\n",
            "Epoch 64/100\n",
            "\u001b[1m76/76\u001b[0m \u001b[32m━━━━━━━━━━━━━━━━━━━━\u001b[0m\u001b[37m\u001b[0m \u001b[1m0s\u001b[0m 177ms/step - accuracy: 0.6683 - loss: 0.8649\n",
            "Epoch 64: val_accuracy did not improve from 0.57637\n",
            "\u001b[1m76/76\u001b[0m \u001b[32m━━━━━━━━━━━━━━━━━━━━\u001b[0m\u001b[37m\u001b[0m \u001b[1m16s\u001b[0m 212ms/step - accuracy: 0.6684 - loss: 0.8649 - val_accuracy: 0.5743 - val_loss: 1.1558 - learning_rate: 1.0000e-04\n",
            "Epoch 65/100\n",
            "\u001b[1m76/76\u001b[0m \u001b[32m━━━━━━━━━━━━━━━━━━━━\u001b[0m\u001b[37m\u001b[0m \u001b[1m0s\u001b[0m 170ms/step - accuracy: 0.6606 - loss: 0.8709\n",
            "Epoch 65: val_accuracy did not improve from 0.57637\n",
            "\u001b[1m76/76\u001b[0m \u001b[32m━━━━━━━━━━━━━━━━━━━━\u001b[0m\u001b[37m\u001b[0m \u001b[1m20s\u001b[0m 205ms/step - accuracy: 0.6607 - loss: 0.8707 - val_accuracy: 0.5703 - val_loss: 1.1637 - learning_rate: 1.0000e-04\n",
            "Epoch 66/100\n",
            "\u001b[1m76/76\u001b[0m \u001b[32m━━━━━━━━━━━━━━━━━━━━\u001b[0m\u001b[37m\u001b[0m \u001b[1m0s\u001b[0m 170ms/step - accuracy: 0.6901 - loss: 0.8397\n",
            "Epoch 66: val_accuracy did not improve from 0.57637\n",
            "\u001b[1m76/76\u001b[0m \u001b[32m━━━━━━━━━━━━━━━━━━━━\u001b[0m\u001b[37m\u001b[0m \u001b[1m23s\u001b[0m 238ms/step - accuracy: 0.6902 - loss: 0.8396 - val_accuracy: 0.5662 - val_loss: 1.1641 - learning_rate: 1.0000e-04\n",
            "Epoch 67/100\n",
            "\u001b[1m76/76\u001b[0m \u001b[32m━━━━━━━━━━━━━━━━━━━━\u001b[0m\u001b[37m\u001b[0m \u001b[1m0s\u001b[0m 171ms/step - accuracy: 0.6736 - loss: 0.8534\n",
            "Epoch 67: val_accuracy did not improve from 0.57637\n",
            "\u001b[1m76/76\u001b[0m \u001b[32m━━━━━━━━━━━━━━━━━━━━\u001b[0m\u001b[37m\u001b[0m \u001b[1m21s\u001b[0m 240ms/step - accuracy: 0.6736 - loss: 0.8533 - val_accuracy: 0.5764 - val_loss: 1.1598 - learning_rate: 1.0000e-04\n",
            "Epoch 68/100\n",
            "\u001b[1m76/76\u001b[0m \u001b[32m━━━━━━━━━━━━━━━━━━━━\u001b[0m\u001b[37m\u001b[0m \u001b[1m0s\u001b[0m 170ms/step - accuracy: 0.6826 - loss: 0.8479\n",
            "Epoch 68: val_accuracy improved from 0.57637 to 0.58248, saving model to optimal_vgg16_weights.h5\n"
          ]
        },
        {
          "output_type": "stream",
          "name": "stderr",
          "text": [
            "WARNING:absl:You are saving your model as an HDF5 file via `model.save()` or `keras.saving.save_model(model)`. This file format is considered legacy. We recommend using instead the native Keras format, e.g. `model.save('my_model.keras')` or `keras.saving.save_model(model, 'my_model.keras')`. \n"
          ]
        },
        {
          "output_type": "stream",
          "name": "stdout",
          "text": [
            "\b\b\b\b\b\b\b\b\b\b\b\b\b\b\b\b\b\b\b\b\b\b\b\b\b\b\b\b\b\b\b\b\b\b\b\b\b\b\b\b\b\b\b\b\b\b\b\b\b\b\b\b\b\b\b\b\b\b\b\b\b\b\b\b\b\b\b\b\b\b\b\b\b\b\r\u001b[1m76/76\u001b[0m \u001b[32m━━━━━━━━━━━━━━━━━━━━\u001b[0m\u001b[37m\u001b[0m \u001b[1m16s\u001b[0m 208ms/step - accuracy: 0.6827 - loss: 0.8477 - val_accuracy: 0.5825 - val_loss: 1.1601 - learning_rate: 1.0000e-04\n",
            "Epoch 69/100\n",
            "\u001b[1m76/76\u001b[0m \u001b[32m━━━━━━━━━━━━━━━━━━━━\u001b[0m\u001b[37m\u001b[0m \u001b[1m0s\u001b[0m 169ms/step - accuracy: 0.6793 - loss: 0.8388\n",
            "Epoch 69: val_accuracy did not improve from 0.58248\n",
            "\u001b[1m76/76\u001b[0m \u001b[32m━━━━━━━━━━━━━━━━━━━━\u001b[0m\u001b[37m\u001b[0m \u001b[1m15s\u001b[0m 204ms/step - accuracy: 0.6794 - loss: 0.8387 - val_accuracy: 0.5804 - val_loss: 1.1455 - learning_rate: 1.0000e-04\n",
            "Epoch 70/100\n",
            "\u001b[1m76/76\u001b[0m \u001b[32m━━━━━━━━━━━━━━━━━━━━\u001b[0m\u001b[37m\u001b[0m \u001b[1m0s\u001b[0m 168ms/step - accuracy: 0.6918 - loss: 0.8147\n",
            "Epoch 70: val_accuracy improved from 0.58248 to 0.58859, saving model to optimal_vgg16_weights.h5\n"
          ]
        },
        {
          "output_type": "stream",
          "name": "stderr",
          "text": [
            "WARNING:absl:You are saving your model as an HDF5 file via `model.save()` or `keras.saving.save_model(model)`. This file format is considered legacy. We recommend using instead the native Keras format, e.g. `model.save('my_model.keras')` or `keras.saving.save_model(model, 'my_model.keras')`. \n"
          ]
        },
        {
          "output_type": "stream",
          "name": "stdout",
          "text": [
            "\b\b\b\b\b\b\b\b\b\b\b\b\b\b\b\b\b\b\b\b\b\b\b\b\b\b\b\b\b\b\b\b\b\b\b\b\b\b\b\b\b\b\b\b\b\b\b\b\b\b\b\b\b\b\b\b\b\b\b\b\b\b\b\b\b\b\b\b\b\b\b\b\b\b\r\u001b[1m76/76\u001b[0m \u001b[32m━━━━━━━━━━━━━━━━━━━━\u001b[0m\u001b[37m\u001b[0m \u001b[1m21s\u001b[0m 206ms/step - accuracy: 0.6918 - loss: 0.8147 - val_accuracy: 0.5886 - val_loss: 1.1474 - learning_rate: 1.0000e-04\n",
            "Epoch 71/100\n",
            "\u001b[1m76/76\u001b[0m \u001b[32m━━━━━━━━━━━━━━━━━━━━\u001b[0m\u001b[37m\u001b[0m \u001b[1m0s\u001b[0m 172ms/step - accuracy: 0.6897 - loss: 0.8111\n",
            "Epoch 71: val_accuracy did not improve from 0.58859\n",
            "\u001b[1m76/76\u001b[0m \u001b[32m━━━━━━━━━━━━━━━━━━━━\u001b[0m\u001b[37m\u001b[0m \u001b[1m18s\u001b[0m 240ms/step - accuracy: 0.6897 - loss: 0.8111 - val_accuracy: 0.5784 - val_loss: 1.1458 - learning_rate: 1.0000e-04\n",
            "Epoch 72/100\n",
            "\u001b[1m76/76\u001b[0m \u001b[32m━━━━━━━━━━━━━━━━━━━━\u001b[0m\u001b[37m\u001b[0m \u001b[1m0s\u001b[0m 169ms/step - accuracy: 0.7092 - loss: 0.8086\n",
            "Epoch 72: val_accuracy did not improve from 0.58859\n",
            "\u001b[1m76/76\u001b[0m \u001b[32m━━━━━━━━━━━━━━━━━━━━\u001b[0m\u001b[37m\u001b[0m \u001b[1m20s\u001b[0m 238ms/step - accuracy: 0.7092 - loss: 0.8085 - val_accuracy: 0.5743 - val_loss: 1.1552 - learning_rate: 1.0000e-04\n",
            "Epoch 73/100\n",
            "\u001b[1m76/76\u001b[0m \u001b[32m━━━━━━━━━━━━━━━━━━━━\u001b[0m\u001b[37m\u001b[0m \u001b[1m0s\u001b[0m 169ms/step - accuracy: 0.7071 - loss: 0.7845\n",
            "Epoch 73: val_accuracy did not improve from 0.58859\n",
            "\u001b[1m76/76\u001b[0m \u001b[32m━━━━━━━━━━━━━━━━━━━━\u001b[0m\u001b[37m\u001b[0m \u001b[1m18s\u001b[0m 204ms/step - accuracy: 0.7070 - loss: 0.7845 - val_accuracy: 0.5825 - val_loss: 1.1556 - learning_rate: 1.0000e-04\n",
            "Epoch 74/100\n",
            "\u001b[1m76/76\u001b[0m \u001b[32m━━━━━━━━━━━━━━━━━━━━\u001b[0m\u001b[37m\u001b[0m \u001b[1m0s\u001b[0m 172ms/step - accuracy: 0.6994 - loss: 0.7972\n",
            "Epoch 74: val_accuracy did not improve from 0.58859\n",
            "\u001b[1m76/76\u001b[0m \u001b[32m━━━━━━━━━━━━━━━━━━━━\u001b[0m\u001b[37m\u001b[0m \u001b[1m18s\u001b[0m 242ms/step - accuracy: 0.6995 - loss: 0.7971 - val_accuracy: 0.5866 - val_loss: 1.1386 - learning_rate: 1.0000e-04\n",
            "Epoch 75/100\n",
            "\u001b[1m76/76\u001b[0m \u001b[32m━━━━━━━━━━━━━━━━━━━━\u001b[0m\u001b[37m\u001b[0m \u001b[1m0s\u001b[0m 168ms/step - accuracy: 0.6998 - loss: 0.7979\n",
            "Epoch 75: val_accuracy did not improve from 0.58859\n",
            "\u001b[1m76/76\u001b[0m \u001b[32m━━━━━━━━━━━━━━━━━━━━\u001b[0m\u001b[37m\u001b[0m \u001b[1m20s\u001b[0m 236ms/step - accuracy: 0.6999 - loss: 0.7978 - val_accuracy: 0.5866 - val_loss: 1.1386 - learning_rate: 1.0000e-04\n",
            "Epoch 76/100\n",
            "\u001b[1m76/76\u001b[0m \u001b[32m━━━━━━━━━━━━━━━━━━━━\u001b[0m\u001b[37m\u001b[0m \u001b[1m0s\u001b[0m 167ms/step - accuracy: 0.6918 - loss: 0.7844\n",
            "Epoch 76: val_accuracy did not improve from 0.58859\n",
            "\u001b[1m76/76\u001b[0m \u001b[32m━━━━━━━━━━━━━━━━━━━━\u001b[0m\u001b[37m\u001b[0m \u001b[1m18s\u001b[0m 202ms/step - accuracy: 0.6919 - loss: 0.7843 - val_accuracy: 0.5743 - val_loss: 1.1587 - learning_rate: 1.0000e-04\n",
            "Epoch 77/100\n",
            "\u001b[1m76/76\u001b[0m \u001b[32m━━━━━━━━━━━━━━━━━━━━\u001b[0m\u001b[37m\u001b[0m \u001b[1m0s\u001b[0m 170ms/step - accuracy: 0.7075 - loss: 0.7789\n",
            "Epoch 77: val_accuracy improved from 0.58859 to 0.59063, saving model to optimal_vgg16_weights.h5\n"
          ]
        },
        {
          "output_type": "stream",
          "name": "stderr",
          "text": [
            "WARNING:absl:You are saving your model as an HDF5 file via `model.save()` or `keras.saving.save_model(model)`. This file format is considered legacy. We recommend using instead the native Keras format, e.g. `model.save('my_model.keras')` or `keras.saving.save_model(model, 'my_model.keras')`. \n"
          ]
        },
        {
          "output_type": "stream",
          "name": "stdout",
          "text": [
            "\b\b\b\b\b\b\b\b\b\b\b\b\b\b\b\b\b\b\b\b\b\b\b\b\b\b\b\b\b\b\b\b\b\b\b\b\b\b\b\b\b\b\b\b\b\b\b\b\b\b\b\b\b\b\b\b\b\b\b\b\b\b\b\b\b\b\b\b\b\b\b\b\b\b\r\u001b[1m76/76\u001b[0m \u001b[32m━━━━━━━━━━━━━━━━━━━━\u001b[0m\u001b[37m\u001b[0m \u001b[1m21s\u001b[0m 208ms/step - accuracy: 0.7076 - loss: 0.7787 - val_accuracy: 0.5906 - val_loss: 1.1451 - learning_rate: 1.0000e-04\n",
            "Epoch 78/100\n",
            "\u001b[1m76/76\u001b[0m \u001b[32m━━━━━━━━━━━━━━━━━━━━\u001b[0m\u001b[37m\u001b[0m \u001b[1m0s\u001b[0m 169ms/step - accuracy: 0.6958 - loss: 0.7892\n",
            "Epoch 78: val_accuracy did not improve from 0.59063\n",
            "\u001b[1m76/76\u001b[0m \u001b[32m━━━━━━━━━━━━━━━━━━━━\u001b[0m\u001b[37m\u001b[0m \u001b[1m23s\u001b[0m 238ms/step - accuracy: 0.6959 - loss: 0.7891 - val_accuracy: 0.5784 - val_loss: 1.1479 - learning_rate: 1.0000e-04\n",
            "Epoch 79/100\n",
            "\u001b[1m76/76\u001b[0m \u001b[32m━━━━━━━━━━━━━━━━━━━━\u001b[0m\u001b[37m\u001b[0m \u001b[1m0s\u001b[0m 169ms/step - accuracy: 0.7062 - loss: 0.7654\n",
            "Epoch 79: val_accuracy did not improve from 0.59063\n",
            "\u001b[1m76/76\u001b[0m \u001b[32m━━━━━━━━━━━━━━━━━━━━\u001b[0m\u001b[37m\u001b[0m \u001b[1m18s\u001b[0m 203ms/step - accuracy: 0.7063 - loss: 0.7653 - val_accuracy: 0.5764 - val_loss: 1.1356 - learning_rate: 1.0000e-04\n",
            "Epoch 80/100\n",
            "\u001b[1m76/76\u001b[0m \u001b[32m━━━━━━━━━━━━━━━━━━━━\u001b[0m\u001b[37m\u001b[0m \u001b[1m0s\u001b[0m 170ms/step - accuracy: 0.7138 - loss: 0.7572\n",
            "Epoch 80: val_accuracy did not improve from 0.59063\n",
            "\u001b[1m76/76\u001b[0m \u001b[32m━━━━━━━━━━━━━━━━━━━━\u001b[0m\u001b[37m\u001b[0m \u001b[1m16s\u001b[0m 205ms/step - accuracy: 0.7138 - loss: 0.7570 - val_accuracy: 0.5723 - val_loss: 1.1511 - learning_rate: 1.0000e-04\n",
            "Epoch 81/100\n",
            "\u001b[1m76/76\u001b[0m \u001b[32m━━━━━━━━━━━━━━━━━━━━\u001b[0m\u001b[37m\u001b[0m \u001b[1m0s\u001b[0m 168ms/step - accuracy: 0.7142 - loss: 0.7513\n",
            "Epoch 81: val_accuracy did not improve from 0.59063\n",
            "\u001b[1m76/76\u001b[0m \u001b[32m━━━━━━━━━━━━━━━━━━━━\u001b[0m\u001b[37m\u001b[0m \u001b[1m23s\u001b[0m 237ms/step - accuracy: 0.7143 - loss: 0.7512 - val_accuracy: 0.5845 - val_loss: 1.1358 - learning_rate: 1.0000e-04\n",
            "Epoch 82/100\n",
            "\u001b[1m76/76\u001b[0m \u001b[32m━━━━━━━━━━━━━━━━━━━━\u001b[0m\u001b[37m\u001b[0m \u001b[1m0s\u001b[0m 169ms/step - accuracy: 0.7333 - loss: 0.7474\n",
            "Epoch 82: val_accuracy did not improve from 0.59063\n",
            "\u001b[1m76/76\u001b[0m \u001b[32m━━━━━━━━━━━━━━━━━━━━\u001b[0m\u001b[37m\u001b[0m \u001b[1m21s\u001b[0m 238ms/step - accuracy: 0.7333 - loss: 0.7472 - val_accuracy: 0.5642 - val_loss: 1.1405 - learning_rate: 1.0000e-04\n",
            "Epoch 83/100\n",
            "\u001b[1m76/76\u001b[0m \u001b[32m━━━━━━━━━━━━━━━━━━━━\u001b[0m\u001b[37m\u001b[0m \u001b[1m0s\u001b[0m 170ms/step - accuracy: 0.7140 - loss: 0.7405\n",
            "Epoch 83: val_accuracy did not improve from 0.59063\n",
            "\u001b[1m76/76\u001b[0m \u001b[32m━━━━━━━━━━━━━━━━━━━━\u001b[0m\u001b[37m\u001b[0m \u001b[1m16s\u001b[0m 205ms/step - accuracy: 0.7142 - loss: 0.7403 - val_accuracy: 0.5703 - val_loss: 1.1365 - learning_rate: 1.0000e-04\n",
            "Epoch 84/100\n",
            "\u001b[1m76/76\u001b[0m \u001b[32m━━━━━━━━━━━━━━━━━━━━\u001b[0m\u001b[37m\u001b[0m \u001b[1m0s\u001b[0m 168ms/step - accuracy: 0.7266 - loss: 0.7470\n",
            "Epoch 84: val_accuracy did not improve from 0.59063\n",
            "\u001b[1m76/76\u001b[0m \u001b[32m━━━━━━━━━━━━━━━━━━━━\u001b[0m\u001b[37m\u001b[0m \u001b[1m20s\u001b[0m 203ms/step - accuracy: 0.7266 - loss: 0.7469 - val_accuracy: 0.5784 - val_loss: 1.1546 - learning_rate: 1.0000e-04\n",
            "Epoch 85/100\n",
            "\u001b[1m76/76\u001b[0m \u001b[32m━━━━━━━━━━━━━━━━━━━━\u001b[0m\u001b[37m\u001b[0m \u001b[1m0s\u001b[0m 169ms/step - accuracy: 0.7333 - loss: 0.7236\n",
            "Epoch 85: val_accuracy did not improve from 0.59063\n",
            "\u001b[1m76/76\u001b[0m \u001b[32m━━━━━━━━━━━━━━━━━━━━\u001b[0m\u001b[37m\u001b[0m \u001b[1m18s\u001b[0m 238ms/step - accuracy: 0.7333 - loss: 0.7235 - val_accuracy: 0.5682 - val_loss: 1.1330 - learning_rate: 1.0000e-04\n",
            "Epoch 86/100\n",
            "\u001b[1m76/76\u001b[0m \u001b[32m━━━━━━━━━━━━━━━━━━━━\u001b[0m\u001b[37m\u001b[0m \u001b[1m0s\u001b[0m 168ms/step - accuracy: 0.7418 - loss: 0.7253\n",
            "Epoch 86: val_accuracy did not improve from 0.59063\n",
            "\u001b[1m76/76\u001b[0m \u001b[32m━━━━━━━━━━━━━━━━━━━━\u001b[0m\u001b[37m\u001b[0m \u001b[1m20s\u001b[0m 237ms/step - accuracy: 0.7417 - loss: 0.7252 - val_accuracy: 0.5866 - val_loss: 1.1277 - learning_rate: 1.0000e-04\n",
            "Epoch 87/100\n",
            "\u001b[1m76/76\u001b[0m \u001b[32m━━━━━━━━━━━━━━━━━━━━\u001b[0m\u001b[37m\u001b[0m \u001b[1m0s\u001b[0m 167ms/step - accuracy: 0.7411 - loss: 0.7249\n",
            "Epoch 87: val_accuracy did not improve from 0.59063\n",
            "\u001b[1m76/76\u001b[0m \u001b[32m━━━━━━━━━━━━━━━━━━━━\u001b[0m\u001b[37m\u001b[0m \u001b[1m18s\u001b[0m 201ms/step - accuracy: 0.7411 - loss: 0.7247 - val_accuracy: 0.5723 - val_loss: 1.1309 - learning_rate: 1.0000e-04\n",
            "Epoch 88/100\n",
            "\u001b[1m76/76\u001b[0m \u001b[32m━━━━━━━━━━━━━━━━━━━━\u001b[0m\u001b[37m\u001b[0m \u001b[1m0s\u001b[0m 166ms/step - accuracy: 0.7323 - loss: 0.7097\n",
            "Epoch 88: val_accuracy did not improve from 0.59063\n",
            "\u001b[1m76/76\u001b[0m \u001b[32m━━━━━━━━━━━━━━━━━━━━\u001b[0m\u001b[37m\u001b[0m \u001b[1m20s\u001b[0m 201ms/step - accuracy: 0.7323 - loss: 0.7096 - val_accuracy: 0.5886 - val_loss: 1.1209 - learning_rate: 1.0000e-04\n",
            "Epoch 89/100\n",
            "\u001b[1m76/76\u001b[0m \u001b[32m━━━━━━━━━━━━━━━━━━━━\u001b[0m\u001b[37m\u001b[0m \u001b[1m0s\u001b[0m 164ms/step - accuracy: 0.7343 - loss: 0.6943\n",
            "Epoch 89: val_accuracy did not improve from 0.59063\n",
            "\u001b[1m76/76\u001b[0m \u001b[32m━━━━━━━━━━━━━━━━━━━━\u001b[0m\u001b[37m\u001b[0m \u001b[1m18s\u001b[0m 233ms/step - accuracy: 0.7344 - loss: 0.6942 - val_accuracy: 0.5621 - val_loss: 1.1461 - learning_rate: 1.0000e-04\n",
            "Epoch 90/100\n",
            "\u001b[1m76/76\u001b[0m \u001b[32m━━━━━━━━━━━━━━━━━━━━\u001b[0m\u001b[37m\u001b[0m \u001b[1m0s\u001b[0m 167ms/step - accuracy: 0.7329 - loss: 0.7036\n",
            "Epoch 90: val_accuracy did not improve from 0.59063\n",
            "\u001b[1m76/76\u001b[0m \u001b[32m━━━━━━━━━━━━━━━━━━━━\u001b[0m\u001b[37m\u001b[0m \u001b[1m15s\u001b[0m 202ms/step - accuracy: 0.7330 - loss: 0.7034 - val_accuracy: 0.5743 - val_loss: 1.1292 - learning_rate: 1.0000e-04\n",
            "Epoch 91/100\n",
            "\u001b[1m76/76\u001b[0m \u001b[32m━━━━━━━━━━━━━━━━━━━━\u001b[0m\u001b[37m\u001b[0m \u001b[1m0s\u001b[0m 167ms/step - accuracy: 0.7390 - loss: 0.7097\n",
            "Epoch 91: val_accuracy did not improve from 0.59063\n",
            "\u001b[1m76/76\u001b[0m \u001b[32m━━━━━━━━━━━━━━━━━━━━\u001b[0m\u001b[37m\u001b[0m \u001b[1m15s\u001b[0m 202ms/step - accuracy: 0.7390 - loss: 0.7096 - val_accuracy: 0.5764 - val_loss: 1.1096 - learning_rate: 1.0000e-04\n",
            "Epoch 92/100\n",
            "\u001b[1m76/76\u001b[0m \u001b[32m━━━━━━━━━━━━━━━━━━━━\u001b[0m\u001b[37m\u001b[0m \u001b[1m0s\u001b[0m 166ms/step - accuracy: 0.7495 - loss: 0.6655\n",
            "Epoch 92: val_accuracy did not improve from 0.59063\n",
            "\u001b[1m76/76\u001b[0m \u001b[32m━━━━━━━━━━━━━━━━━━━━\u001b[0m\u001b[37m\u001b[0m \u001b[1m20s\u001b[0m 201ms/step - accuracy: 0.7495 - loss: 0.6655 - val_accuracy: 0.5743 - val_loss: 1.1441 - learning_rate: 1.0000e-04\n",
            "Epoch 93/100\n",
            "\u001b[1m76/76\u001b[0m \u001b[32m━━━━━━━━━━━━━━━━━━━━\u001b[0m\u001b[37m\u001b[0m \u001b[1m0s\u001b[0m 165ms/step - accuracy: 0.7392 - loss: 0.6862\n",
            "Epoch 93: val_accuracy did not improve from 0.59063\n",
            "\u001b[1m76/76\u001b[0m \u001b[32m━━━━━━━━━━━━━━━━━━━━\u001b[0m\u001b[37m\u001b[0m \u001b[1m15s\u001b[0m 199ms/step - accuracy: 0.7393 - loss: 0.6860 - val_accuracy: 0.5866 - val_loss: 1.1203 - learning_rate: 1.0000e-04\n",
            "Epoch 94/100\n",
            "\u001b[1m76/76\u001b[0m \u001b[32m━━━━━━━━━━━━━━━━━━━━\u001b[0m\u001b[37m\u001b[0m \u001b[1m0s\u001b[0m 168ms/step - accuracy: 0.7548 - loss: 0.6756\n",
            "Epoch 94: val_accuracy did not improve from 0.59063\n",
            "\u001b[1m76/76\u001b[0m \u001b[32m━━━━━━━━━━━━━━━━━━━━\u001b[0m\u001b[37m\u001b[0m \u001b[1m15s\u001b[0m 202ms/step - accuracy: 0.7548 - loss: 0.6755 - val_accuracy: 0.5845 - val_loss: 1.1300 - learning_rate: 1.0000e-04\n",
            "Epoch 95/100\n",
            "\u001b[1m76/76\u001b[0m \u001b[32m━━━━━━━━━━━━━━━━━━━━\u001b[0m\u001b[37m\u001b[0m \u001b[1m0s\u001b[0m 165ms/step - accuracy: 0.7480 - loss: 0.6674\n",
            "Epoch 95: val_accuracy did not improve from 0.59063\n",
            "\u001b[1m76/76\u001b[0m \u001b[32m━━━━━━━━━━━━━━━━━━━━\u001b[0m\u001b[37m\u001b[0m \u001b[1m20s\u001b[0m 200ms/step - accuracy: 0.7481 - loss: 0.6671 - val_accuracy: 0.5784 - val_loss: 1.1230 - learning_rate: 1.0000e-04\n",
            "Epoch 96/100\n",
            "\u001b[1m76/76\u001b[0m \u001b[32m━━━━━━━━━━━━━━━━━━━━\u001b[0m\u001b[37m\u001b[0m \u001b[1m0s\u001b[0m 166ms/step - accuracy: 0.7479 - loss: 0.6634\n",
            "Epoch 96: val_accuracy did not improve from 0.59063\n",
            "\u001b[1m76/76\u001b[0m \u001b[32m━━━━━━━━━━━━━━━━━━━━\u001b[0m\u001b[37m\u001b[0m \u001b[1m15s\u001b[0m 201ms/step - accuracy: 0.7479 - loss: 0.6632 - val_accuracy: 0.5784 - val_loss: 1.1476 - learning_rate: 1.0000e-04\n",
            "Epoch 97/100\n",
            "\u001b[1m76/76\u001b[0m \u001b[32m━━━━━━━━━━━━━━━━━━━━\u001b[0m\u001b[37m\u001b[0m \u001b[1m0s\u001b[0m 164ms/step - accuracy: 0.7640 - loss: 0.6524\n",
            "Epoch 97: val_accuracy did not improve from 0.59063\n",
            "\u001b[1m76/76\u001b[0m \u001b[32m━━━━━━━━━━━━━━━━━━━━\u001b[0m\u001b[37m\u001b[0m \u001b[1m20s\u001b[0m 199ms/step - accuracy: 0.7639 - loss: 0.6523 - val_accuracy: 0.5784 - val_loss: 1.1631 - learning_rate: 1.0000e-04\n",
            "Epoch 98/100\n",
            "\u001b[1m76/76\u001b[0m \u001b[32m━━━━━━━━━━━━━━━━━━━━\u001b[0m\u001b[37m\u001b[0m \u001b[1m0s\u001b[0m 164ms/step - accuracy: 0.7769 - loss: 0.6369\n",
            "Epoch 98: val_accuracy did not improve from 0.59063\n",
            "\u001b[1m76/76\u001b[0m \u001b[32m━━━━━━━━━━━━━━━━━━━━\u001b[0m\u001b[37m\u001b[0m \u001b[1m20s\u001b[0m 198ms/step - accuracy: 0.7768 - loss: 0.6368 - val_accuracy: 0.5784 - val_loss: 1.1305 - learning_rate: 1.0000e-04\n",
            "Epoch 99/100\n",
            "\u001b[1m76/76\u001b[0m \u001b[32m━━━━━━━━━━━━━━━━━━━━\u001b[0m\u001b[37m\u001b[0m \u001b[1m0s\u001b[0m 166ms/step - accuracy: 0.7655 - loss: 0.6423\n",
            "Epoch 99: val_accuracy did not improve from 0.59063\n",
            "\u001b[1m76/76\u001b[0m \u001b[32m━━━━━━━━━━━━━━━━━━━━\u001b[0m\u001b[37m\u001b[0m \u001b[1m21s\u001b[0m 200ms/step - accuracy: 0.7656 - loss: 0.6421 - val_accuracy: 0.5825 - val_loss: 1.1321 - learning_rate: 1.0000e-04\n",
            "Epoch 100/100\n",
            "\u001b[1m76/76\u001b[0m \u001b[32m━━━━━━━━━━━━━━━━━━━━\u001b[0m\u001b[37m\u001b[0m \u001b[1m0s\u001b[0m 163ms/step - accuracy: 0.7758 - loss: 0.6220\n",
            "Epoch 100: val_accuracy did not improve from 0.59063\n",
            "\u001b[1m76/76\u001b[0m \u001b[32m━━━━━━━━━━━━━━━━━━━━\u001b[0m\u001b[37m\u001b[0m \u001b[1m20s\u001b[0m 197ms/step - accuracy: 0.7758 - loss: 0.6220 - val_accuracy: 0.5784 - val_loss: 1.1255 - learning_rate: 1.0000e-04\n",
            "Restoring model weights from the end of the best epoch: 77.\n"
          ]
        }
      ]
    },
    {
      "cell_type": "code",
      "source": [
        "vgg19_training_history = vgg19_model.fit(\n",
        "    train_resnet_features,\n",
        "    categorical_train_labels,\n",
        "    batch_size=training_batch_size,\n",
        "    epochs=training_epochs,\n",
        "    validation_data=(test_resnet_features, categorical_test_labels),\n",
        "    callbacks=create_training_callbacks('vgg19'),\n",
        "    class_weight=class_weight_mapping,\n",
        "    verbose=1\n",
        ")\n"
      ],
      "metadata": {
        "colab": {
          "base_uri": "https://localhost:8080/"
        },
        "id": "AedygSdGKsYp",
        "outputId": "0e8391be-4b89-4b31-d566-cae210a769fd"
      },
      "execution_count": 27,
      "outputs": [
        {
          "output_type": "stream",
          "name": "stdout",
          "text": [
            "Epoch 1/100\n",
            "\u001b[1m76/76\u001b[0m \u001b[32m━━━━━━━━━━━━━━━━━━━━\u001b[0m\u001b[37m\u001b[0m \u001b[1m0s\u001b[0m 205ms/step - accuracy: 0.6970 - loss: 0.8244\n",
            "Epoch 1: val_accuracy improved from -inf to 0.56823, saving model to optimal_vgg19_weights.h5\n"
          ]
        },
        {
          "output_type": "stream",
          "name": "stderr",
          "text": [
            "WARNING:absl:You are saving your model as an HDF5 file via `model.save()` or `keras.saving.save_model(model)`. This file format is considered legacy. We recommend using instead the native Keras format, e.g. `model.save('my_model.keras')` or `keras.saving.save_model(model, 'my_model.keras')`. \n"
          ]
        },
        {
          "output_type": "stream",
          "name": "stdout",
          "text": [
            "\b\b\b\b\b\b\b\b\b\b\b\b\b\b\b\b\b\b\b\b\b\b\b\b\b\b\b\b\b\b\b\b\b\b\b\b\b\b\b\b\b\b\b\b\b\b\b\b\b\b\b\b\b\b\b\b\b\b\b\b\b\b\b\b\b\b\b\b\b\b\b\b\b\b\r\u001b[1m76/76\u001b[0m \u001b[32m━━━━━━━━━━━━━━━━━━━━\u001b[0m\u001b[37m\u001b[0m \u001b[1m24s\u001b[0m 318ms/step - accuracy: 0.6972 - loss: 0.8241 - val_accuracy: 0.5682 - val_loss: 1.2041 - learning_rate: 1.0000e-04\n",
            "Epoch 2/100\n",
            "\u001b[1m76/76\u001b[0m \u001b[32m━━━━━━━━━━━━━━━━━━━━\u001b[0m\u001b[37m\u001b[0m \u001b[1m0s\u001b[0m 218ms/step - accuracy: 0.6908 - loss: 0.8205\n",
            "Epoch 2: val_accuracy did not improve from 0.56823\n",
            "\u001b[1m76/76\u001b[0m \u001b[32m━━━━━━━━━━━━━━━━━━━━\u001b[0m\u001b[37m\u001b[0m \u001b[1m37s\u001b[0m 264ms/step - accuracy: 0.6910 - loss: 0.8202 - val_accuracy: 0.5580 - val_loss: 1.2063 - learning_rate: 1.0000e-04\n",
            "Epoch 3/100\n",
            "\u001b[1m76/76\u001b[0m \u001b[32m━━━━━━━━━━━━━━━━━━━━\u001b[0m\u001b[37m\u001b[0m \u001b[1m0s\u001b[0m 216ms/step - accuracy: 0.6926 - loss: 0.8105\n",
            "Epoch 3: val_accuracy did not improve from 0.56823\n",
            "\u001b[1m76/76\u001b[0m \u001b[32m━━━━━━━━━━━━━━━━━━━━\u001b[0m\u001b[37m\u001b[0m \u001b[1m22s\u001b[0m 284ms/step - accuracy: 0.6928 - loss: 0.8102 - val_accuracy: 0.5519 - val_loss: 1.2272 - learning_rate: 1.0000e-04\n",
            "Epoch 4/100\n",
            "\u001b[1m76/76\u001b[0m \u001b[32m━━━━━━━━━━━━━━━━━━━━\u001b[0m\u001b[37m\u001b[0m \u001b[1m0s\u001b[0m 204ms/step - accuracy: 0.6895 - loss: 0.8115\n",
            "Epoch 4: val_accuracy did not improve from 0.56823\n",
            "\u001b[1m76/76\u001b[0m \u001b[32m━━━━━━━━━━━━━━━━━━━━\u001b[0m\u001b[37m\u001b[0m \u001b[1m40s\u001b[0m 273ms/step - accuracy: 0.6898 - loss: 0.8112 - val_accuracy: 0.5662 - val_loss: 1.1949 - learning_rate: 1.0000e-04\n",
            "Epoch 5/100\n",
            "\u001b[1m76/76\u001b[0m \u001b[32m━━━━━━━━━━━━━━━━━━━━\u001b[0m\u001b[37m\u001b[0m \u001b[1m0s\u001b[0m 219ms/step - accuracy: 0.6932 - loss: 0.8067\n",
            "Epoch 5: val_accuracy did not improve from 0.56823\n",
            "\u001b[1m76/76\u001b[0m \u001b[32m━━━━━━━━━━━━━━━━━━━━\u001b[0m\u001b[37m\u001b[0m \u001b[1m40s\u001b[0m 265ms/step - accuracy: 0.6933 - loss: 0.8064 - val_accuracy: 0.5662 - val_loss: 1.1944 - learning_rate: 1.0000e-04\n",
            "Epoch 6/100\n",
            "\u001b[1m76/76\u001b[0m \u001b[32m━━━━━━━━━━━━━━━━━━━━\u001b[0m\u001b[37m\u001b[0m \u001b[1m0s\u001b[0m 217ms/step - accuracy: 0.6875 - loss: 0.8062\n",
            "Epoch 6: val_accuracy improved from 0.56823 to 0.57026, saving model to optimal_vgg19_weights.h5\n"
          ]
        },
        {
          "output_type": "stream",
          "name": "stderr",
          "text": [
            "WARNING:absl:You are saving your model as an HDF5 file via `model.save()` or `keras.saving.save_model(model)`. This file format is considered legacy. We recommend using instead the native Keras format, e.g. `model.save('my_model.keras')` or `keras.saving.save_model(model, 'my_model.keras')`. \n"
          ]
        },
        {
          "output_type": "stream",
          "name": "stdout",
          "text": [
            "\b\b\b\b\b\b\b\b\b\b\b\b\b\b\b\b\b\b\b\b\b\b\b\b\b\b\b\b\b\b\b\b\b\b\b\b\b\b\b\b\b\b\b\b\b\b\b\b\b\b\b\b\b\b\b\b\b\b\b\b\b\b\b\b\b\b\b\b\b\b\b\b\b\b\r\u001b[1m76/76\u001b[0m \u001b[32m━━━━━━━━━━━━━━━━━━━━\u001b[0m\u001b[37m\u001b[0m \u001b[1m24s\u001b[0m 317ms/step - accuracy: 0.6878 - loss: 0.8058 - val_accuracy: 0.5703 - val_loss: 1.2053 - learning_rate: 1.0000e-04\n",
            "Epoch 7/100\n",
            "\u001b[1m76/76\u001b[0m \u001b[32m━━━━━━━━━━━━━━━━━━━━\u001b[0m\u001b[37m\u001b[0m \u001b[1m0s\u001b[0m 207ms/step - accuracy: 0.7067 - loss: 0.7951\n",
            "Epoch 7: val_accuracy did not improve from 0.57026\n",
            "\u001b[1m76/76\u001b[0m \u001b[32m━━━━━━━━━━━━━━━━━━━━\u001b[0m\u001b[37m\u001b[0m \u001b[1m21s\u001b[0m 276ms/step - accuracy: 0.7068 - loss: 0.7948 - val_accuracy: 0.5642 - val_loss: 1.1977 - learning_rate: 1.0000e-04\n",
            "Epoch 8/100\n",
            "\u001b[1m76/76\u001b[0m \u001b[32m━━━━━━━━━━━━━━━━━━━━\u001b[0m\u001b[37m\u001b[0m \u001b[1m0s\u001b[0m 211ms/step - accuracy: 0.6917 - loss: 0.7989\n",
            "Epoch 8: val_accuracy did not improve from 0.57026\n",
            "\u001b[1m76/76\u001b[0m \u001b[32m━━━━━━━━━━━━━━━━━━━━\u001b[0m\u001b[37m\u001b[0m \u001b[1m39s\u001b[0m 257ms/step - accuracy: 0.6920 - loss: 0.7985 - val_accuracy: 0.5642 - val_loss: 1.2083 - learning_rate: 1.0000e-04\n",
            "Epoch 9/100\n",
            "\u001b[1m76/76\u001b[0m \u001b[32m━━━━━━━━━━━━━━━━━━━━\u001b[0m\u001b[37m\u001b[0m \u001b[1m0s\u001b[0m 218ms/step - accuracy: 0.7159 - loss: 0.7802\n",
            "Epoch 9: val_accuracy did not improve from 0.57026\n",
            "\u001b[1m76/76\u001b[0m \u001b[32m━━━━━━━━━━━━━━━━━━━━\u001b[0m\u001b[37m\u001b[0m \u001b[1m23s\u001b[0m 287ms/step - accuracy: 0.7160 - loss: 0.7799 - val_accuracy: 0.5703 - val_loss: 1.1872 - learning_rate: 1.0000e-04\n",
            "Epoch 10/100\n",
            "\u001b[1m76/76\u001b[0m \u001b[32m━━━━━━━━━━━━━━━━━━━━\u001b[0m\u001b[37m\u001b[0m \u001b[1m0s\u001b[0m 207ms/step - accuracy: 0.7049 - loss: 0.7879\n",
            "Epoch 10: val_accuracy did not improve from 0.57026\n",
            "\u001b[1m76/76\u001b[0m \u001b[32m━━━━━━━━━━━━━━━━━━━━\u001b[0m\u001b[37m\u001b[0m \u001b[1m40s\u001b[0m 276ms/step - accuracy: 0.7051 - loss: 0.7875 - val_accuracy: 0.5682 - val_loss: 1.1953 - learning_rate: 1.0000e-04\n",
            "Epoch 11/100\n",
            "\u001b[1m76/76\u001b[0m \u001b[32m━━━━━━━━━━━━━━━━━━━━\u001b[0m\u001b[37m\u001b[0m \u001b[1m0s\u001b[0m 218ms/step - accuracy: 0.7043 - loss: 0.7888\n",
            "Epoch 11: val_accuracy improved from 0.57026 to 0.58045, saving model to optimal_vgg19_weights.h5\n"
          ]
        },
        {
          "output_type": "stream",
          "name": "stderr",
          "text": [
            "WARNING:absl:You are saving your model as an HDF5 file via `model.save()` or `keras.saving.save_model(model)`. This file format is considered legacy. We recommend using instead the native Keras format, e.g. `model.save('my_model.keras')` or `keras.saving.save_model(model, 'my_model.keras')`. \n"
          ]
        },
        {
          "output_type": "stream",
          "name": "stdout",
          "text": [
            "\b\b\b\b\b\b\b\b\b\b\b\b\b\b\b\b\b\b\b\b\b\b\b\b\b\b\b\b\b\b\b\b\b\b\b\b\b\b\b\b\b\b\b\b\b\b\b\b\b\b\b\b\b\b\b\b\b\b\b\b\b\b\b\b\b\b\b\b\b\b\b\b\b\b\r\u001b[1m76/76\u001b[0m \u001b[32m━━━━━━━━━━━━━━━━━━━━\u001b[0m\u001b[37m\u001b[0m \u001b[1m48s\u001b[0m 364ms/step - accuracy: 0.7045 - loss: 0.7884 - val_accuracy: 0.5804 - val_loss: 1.1929 - learning_rate: 1.0000e-04\n",
            "Epoch 12/100\n",
            "\u001b[1m76/76\u001b[0m \u001b[32m━━━━━━━━━━━━━━━━━━━━\u001b[0m\u001b[37m\u001b[0m \u001b[1m0s\u001b[0m 207ms/step - accuracy: 0.7205 - loss: 0.7597\n",
            "Epoch 12: val_accuracy improved from 0.58045 to 0.59878, saving model to optimal_vgg19_weights.h5\n"
          ]
        },
        {
          "output_type": "stream",
          "name": "stderr",
          "text": [
            "WARNING:absl:You are saving your model as an HDF5 file via `model.save()` or `keras.saving.save_model(model)`. This file format is considered legacy. We recommend using instead the native Keras format, e.g. `model.save('my_model.keras')` or `keras.saving.save_model(model, 'my_model.keras')`. \n"
          ]
        },
        {
          "output_type": "stream",
          "name": "stdout",
          "text": [
            "\b\b\b\b\b\b\b\b\b\b\b\b\b\b\b\b\b\b\b\b\b\b\b\b\b\b\b\b\b\b\b\b\b\b\b\b\b\b\b\b\b\b\b\b\b\b\b\b\b\b\b\b\b\b\b\b\b\b\b\b\b\b\b\b\b\b\b\b\b\b\b\b\b\b\r\u001b[1m76/76\u001b[0m \u001b[32m━━━━━━━━━━━━━━━━━━━━\u001b[0m\u001b[37m\u001b[0m \u001b[1m34s\u001b[0m 277ms/step - accuracy: 0.7206 - loss: 0.7594 - val_accuracy: 0.5988 - val_loss: 1.1704 - learning_rate: 1.0000e-04\n",
            "Epoch 13/100\n",
            "\u001b[1m76/76\u001b[0m \u001b[32m━━━━━━━━━━━━━━━━━━━━\u001b[0m\u001b[37m\u001b[0m \u001b[1m0s\u001b[0m 213ms/step - accuracy: 0.7247 - loss: 0.7507\n",
            "Epoch 13: val_accuracy did not improve from 0.59878\n",
            "\u001b[1m76/76\u001b[0m \u001b[32m━━━━━━━━━━━━━━━━━━━━\u001b[0m\u001b[37m\u001b[0m \u001b[1m41s\u001b[0m 282ms/step - accuracy: 0.7248 - loss: 0.7504 - val_accuracy: 0.5804 - val_loss: 1.1953 - learning_rate: 1.0000e-04\n",
            "Epoch 14/100\n",
            "\u001b[1m76/76\u001b[0m \u001b[32m━━━━━━━━━━━━━━━━━━━━\u001b[0m\u001b[37m\u001b[0m \u001b[1m0s\u001b[0m 210ms/step - accuracy: 0.7210 - loss: 0.7619\n",
            "Epoch 14: val_accuracy did not improve from 0.59878\n",
            "\u001b[1m76/76\u001b[0m \u001b[32m━━━━━━━━━━━━━━━━━━━━\u001b[0m\u001b[37m\u001b[0m \u001b[1m41s\u001b[0m 280ms/step - accuracy: 0.7211 - loss: 0.7615 - val_accuracy: 0.5743 - val_loss: 1.1774 - learning_rate: 1.0000e-04\n",
            "Epoch 15/100\n",
            "\u001b[1m76/76\u001b[0m \u001b[32m━━━━━━━━━━━━━━━━━━━━\u001b[0m\u001b[37m\u001b[0m \u001b[1m0s\u001b[0m 211ms/step - accuracy: 0.7218 - loss: 0.7480\n",
            "Epoch 15: val_accuracy did not improve from 0.59878\n",
            "\u001b[1m76/76\u001b[0m \u001b[32m━━━━━━━━━━━━━━━━━━━━\u001b[0m\u001b[37m\u001b[0m \u001b[1m41s\u001b[0m 280ms/step - accuracy: 0.7219 - loss: 0.7476 - val_accuracy: 0.5723 - val_loss: 1.1892 - learning_rate: 1.0000e-04\n",
            "Epoch 16/100\n",
            "\u001b[1m76/76\u001b[0m \u001b[32m━━━━━━━━━━━━━━━━━━━━\u001b[0m\u001b[37m\u001b[0m \u001b[1m0s\u001b[0m 206ms/step - accuracy: 0.7316 - loss: 0.7333\n",
            "Epoch 16: val_accuracy did not improve from 0.59878\n",
            "\u001b[1m76/76\u001b[0m \u001b[32m━━━━━━━━━━━━━━━━━━━━\u001b[0m\u001b[37m\u001b[0m \u001b[1m41s\u001b[0m 275ms/step - accuracy: 0.7318 - loss: 0.7330 - val_accuracy: 0.5723 - val_loss: 1.1819 - learning_rate: 1.0000e-04\n",
            "Epoch 17/100\n",
            "\u001b[1m76/76\u001b[0m \u001b[32m━━━━━━━━━━━━━━━━━━━━\u001b[0m\u001b[37m\u001b[0m \u001b[1m0s\u001b[0m 205ms/step - accuracy: 0.7113 - loss: 0.7337\n",
            "Epoch 17: val_accuracy did not improve from 0.59878\n",
            "\u001b[1m76/76\u001b[0m \u001b[32m━━━━━━━━━━━━━━━━━━━━\u001b[0m\u001b[37m\u001b[0m \u001b[1m41s\u001b[0m 274ms/step - accuracy: 0.7115 - loss: 0.7335 - val_accuracy: 0.5703 - val_loss: 1.1753 - learning_rate: 1.0000e-04\n",
            "Epoch 18/100\n",
            "\u001b[1m76/76\u001b[0m \u001b[32m━━━━━━━━━━━━━━━━━━━━\u001b[0m\u001b[37m\u001b[0m \u001b[1m0s\u001b[0m 204ms/step - accuracy: 0.7323 - loss: 0.7195\n",
            "Epoch 18: val_accuracy did not improve from 0.59878\n",
            "\u001b[1m76/76\u001b[0m \u001b[32m━━━━━━━━━━━━━━━━━━━━\u001b[0m\u001b[37m\u001b[0m \u001b[1m19s\u001b[0m 247ms/step - accuracy: 0.7325 - loss: 0.7192 - val_accuracy: 0.5601 - val_loss: 1.1980 - learning_rate: 1.0000e-04\n",
            "Epoch 19/100\n",
            "\u001b[1m76/76\u001b[0m \u001b[32m━━━━━━━━━━━━━━━━━━━━\u001b[0m\u001b[37m\u001b[0m \u001b[1m0s\u001b[0m 205ms/step - accuracy: 0.7326 - loss: 0.7198\n",
            "Epoch 19: val_accuracy did not improve from 0.59878\n",
            "\u001b[1m76/76\u001b[0m \u001b[32m━━━━━━━━━━━━━━━━━━━━\u001b[0m\u001b[37m\u001b[0m \u001b[1m19s\u001b[0m 248ms/step - accuracy: 0.7327 - loss: 0.7196 - val_accuracy: 0.5662 - val_loss: 1.2136 - learning_rate: 1.0000e-04\n",
            "Epoch 20/100\n",
            "\u001b[1m76/76\u001b[0m \u001b[32m━━━━━━━━━━━━━━━━━━━━\u001b[0m\u001b[37m\u001b[0m \u001b[1m0s\u001b[0m 205ms/step - accuracy: 0.7389 - loss: 0.7074\n",
            "Epoch 20: val_accuracy did not improve from 0.59878\n",
            "\u001b[1m76/76\u001b[0m \u001b[32m━━━━━━━━━━━━━━━━━━━━\u001b[0m\u001b[37m\u001b[0m \u001b[1m22s\u001b[0m 274ms/step - accuracy: 0.7391 - loss: 0.7071 - val_accuracy: 0.5621 - val_loss: 1.2010 - learning_rate: 1.0000e-04\n",
            "Epoch 21/100\n",
            "\u001b[1m76/76\u001b[0m \u001b[32m━━━━━━━━━━━━━━━━━━━━\u001b[0m\u001b[37m\u001b[0m \u001b[1m0s\u001b[0m 208ms/step - accuracy: 0.7356 - loss: 0.7131\n",
            "Epoch 21: val_accuracy did not improve from 0.59878\n",
            "\u001b[1m76/76\u001b[0m \u001b[32m━━━━━━━━━━━━━━━━━━━━\u001b[0m\u001b[37m\u001b[0m \u001b[1m39s\u001b[0m 254ms/step - accuracy: 0.7357 - loss: 0.7127 - val_accuracy: 0.5621 - val_loss: 1.2009 - learning_rate: 1.0000e-04\n",
            "Epoch 22/100\n",
            "\u001b[1m76/76\u001b[0m \u001b[32m━━━━━━━━━━━━━━━━━━━━\u001b[0m\u001b[37m\u001b[0m \u001b[1m0s\u001b[0m 220ms/step - accuracy: 0.7395 - loss: 0.6940\n",
            "Epoch 22: val_accuracy did not improve from 0.59878\n",
            "\u001b[1m76/76\u001b[0m \u001b[32m━━━━━━━━━━━━━━━━━━━━\u001b[0m\u001b[37m\u001b[0m \u001b[1m22s\u001b[0m 288ms/step - accuracy: 0.7397 - loss: 0.6938 - val_accuracy: 0.5662 - val_loss: 1.1914 - learning_rate: 1.0000e-04\n",
            "Epoch 23/100\n",
            "\u001b[1m76/76\u001b[0m \u001b[32m━━━━━━━━━━━━━━━━━━━━\u001b[0m\u001b[37m\u001b[0m \u001b[1m0s\u001b[0m 207ms/step - accuracy: 0.7340 - loss: 0.7066\n",
            "Epoch 23: val_accuracy did not improve from 0.59878\n",
            "\u001b[1m76/76\u001b[0m \u001b[32m━━━━━━━━━━━━━━━━━━━━\u001b[0m\u001b[37m\u001b[0m \u001b[1m38s\u001b[0m 251ms/step - accuracy: 0.7343 - loss: 0.7064 - val_accuracy: 0.5703 - val_loss: 1.1979 - learning_rate: 1.0000e-04\n",
            "Epoch 24/100\n",
            "\u001b[1m76/76\u001b[0m \u001b[32m━━━━━━━━━━━━━━━━━━━━\u001b[0m\u001b[37m\u001b[0m \u001b[1m0s\u001b[0m 227ms/step - accuracy: 0.7494 - loss: 0.6968\n",
            "Epoch 24: val_accuracy did not improve from 0.59878\n",
            "\u001b[1m76/76\u001b[0m \u001b[32m━━━━━━━━━━━━━━━━━━━━\u001b[0m\u001b[37m\u001b[0m \u001b[1m24s\u001b[0m 296ms/step - accuracy: 0.7495 - loss: 0.6963 - val_accuracy: 0.5743 - val_loss: 1.1738 - learning_rate: 1.0000e-04\n",
            "Epoch 25/100\n",
            "\u001b[1m76/76\u001b[0m \u001b[32m━━━━━━━━━━━━━━━━━━━━\u001b[0m\u001b[37m\u001b[0m \u001b[1m0s\u001b[0m 206ms/step - accuracy: 0.7454 - loss: 0.6853\n",
            "Epoch 25: val_accuracy did not improve from 0.59878\n",
            "\u001b[1m76/76\u001b[0m \u001b[32m━━━━━━━━━━━━━━━━━━━━\u001b[0m\u001b[37m\u001b[0m \u001b[1m39s\u001b[0m 275ms/step - accuracy: 0.7456 - loss: 0.6849 - val_accuracy: 0.5580 - val_loss: 1.2103 - learning_rate: 1.0000e-04\n",
            "Epoch 26/100\n",
            "\u001b[1m76/76\u001b[0m \u001b[32m━━━━━━━━━━━━━━━━━━━━\u001b[0m\u001b[37m\u001b[0m \u001b[1m0s\u001b[0m 216ms/step - accuracy: 0.7370 - loss: 0.6854\n",
            "Epoch 26: val_accuracy did not improve from 0.59878\n",
            "\u001b[1m76/76\u001b[0m \u001b[32m━━━━━━━━━━━━━━━━━━━━\u001b[0m\u001b[37m\u001b[0m \u001b[1m40s\u001b[0m 263ms/step - accuracy: 0.7373 - loss: 0.6851 - val_accuracy: 0.5723 - val_loss: 1.1930 - learning_rate: 1.0000e-04\n",
            "Epoch 27/100\n",
            "\u001b[1m76/76\u001b[0m \u001b[32m━━━━━━━━━━━━━━━━━━━━\u001b[0m\u001b[37m\u001b[0m \u001b[1m0s\u001b[0m 217ms/step - accuracy: 0.7411 - loss: 0.6787\n",
            "Epoch 27: val_accuracy did not improve from 0.59878\n",
            "\u001b[1m76/76\u001b[0m \u001b[32m━━━━━━━━━━━━━━━━━━━━\u001b[0m\u001b[37m\u001b[0m \u001b[1m20s\u001b[0m 262ms/step - accuracy: 0.7413 - loss: 0.6783 - val_accuracy: 0.5682 - val_loss: 1.1983 - learning_rate: 1.0000e-04\n",
            "Epoch 28/100\n",
            "\u001b[1m76/76\u001b[0m \u001b[32m━━━━━━━━━━━━━━━━━━━━\u001b[0m\u001b[37m\u001b[0m \u001b[1m0s\u001b[0m 208ms/step - accuracy: 0.7510 - loss: 0.6657\n",
            "Epoch 28: val_accuracy did not improve from 0.59878\n",
            "\u001b[1m76/76\u001b[0m \u001b[32m━━━━━━━━━━━━━━━━━━━━\u001b[0m\u001b[37m\u001b[0m \u001b[1m22s\u001b[0m 277ms/step - accuracy: 0.7511 - loss: 0.6654 - val_accuracy: 0.5743 - val_loss: 1.1864 - learning_rate: 1.0000e-04\n",
            "Epoch 29/100\n",
            "\u001b[1m76/76\u001b[0m \u001b[32m━━━━━━━━━━━━━━━━━━━━\u001b[0m\u001b[37m\u001b[0m \u001b[1m0s\u001b[0m 206ms/step - accuracy: 0.7721 - loss: 0.6429\n",
            "Epoch 29: val_accuracy did not improve from 0.59878\n",
            "\u001b[1m76/76\u001b[0m \u001b[32m━━━━━━━━━━━━━━━━━━━━\u001b[0m\u001b[37m\u001b[0m \u001b[1m41s\u001b[0m 275ms/step - accuracy: 0.7721 - loss: 0.6428 - val_accuracy: 0.5540 - val_loss: 1.2281 - learning_rate: 1.0000e-04\n",
            "Epoch 30/100\n",
            "\u001b[1m76/76\u001b[0m \u001b[32m━━━━━━━━━━━━━━━━━━━━\u001b[0m\u001b[37m\u001b[0m \u001b[1m0s\u001b[0m 216ms/step - accuracy: 0.7615 - loss: 0.6405\n",
            "Epoch 30: val_accuracy did not improve from 0.59878\n",
            "\u001b[1m76/76\u001b[0m \u001b[32m━━━━━━━━━━━━━━━━━━━━\u001b[0m\u001b[37m\u001b[0m \u001b[1m42s\u001b[0m 284ms/step - accuracy: 0.7617 - loss: 0.6402 - val_accuracy: 0.5621 - val_loss: 1.1984 - learning_rate: 1.0000e-04\n",
            "Epoch 31/100\n",
            "\u001b[1m76/76\u001b[0m \u001b[32m━━━━━━━━━━━━━━━━━━━━\u001b[0m\u001b[37m\u001b[0m \u001b[1m0s\u001b[0m 215ms/step - accuracy: 0.7499 - loss: 0.6814\n",
            "Epoch 31: val_accuracy did not improve from 0.59878\n",
            "\u001b[1m76/76\u001b[0m \u001b[32m━━━━━━━━━━━━━━━━━━━━\u001b[0m\u001b[37m\u001b[0m \u001b[1m20s\u001b[0m 259ms/step - accuracy: 0.7502 - loss: 0.6810 - val_accuracy: 0.5601 - val_loss: 1.1870 - learning_rate: 1.0000e-04\n",
            "Epoch 32/100\n",
            "\u001b[1m76/76\u001b[0m \u001b[32m━━━━━━━━━━━━━━━━━━━━\u001b[0m\u001b[37m\u001b[0m \u001b[1m0s\u001b[0m 208ms/step - accuracy: 0.7468 - loss: 0.6529\n",
            "Epoch 32: val_accuracy did not improve from 0.59878\n",
            "\u001b[1m76/76\u001b[0m \u001b[32m━━━━━━━━━━━━━━━━━━━━\u001b[0m\u001b[37m\u001b[0m \u001b[1m21s\u001b[0m 277ms/step - accuracy: 0.7469 - loss: 0.6527 - val_accuracy: 0.5601 - val_loss: 1.1880 - learning_rate: 1.0000e-04\n",
            "Epoch 33/100\n",
            "\u001b[1m76/76\u001b[0m \u001b[32m━━━━━━━━━━━━━━━━━━━━\u001b[0m\u001b[37m\u001b[0m \u001b[1m0s\u001b[0m 207ms/step - accuracy: 0.7627 - loss: 0.6385\n",
            "Epoch 33: val_accuracy did not improve from 0.59878\n",
            "\u001b[1m76/76\u001b[0m \u001b[32m━━━━━━━━━━━━━━━━━━━━\u001b[0m\u001b[37m\u001b[0m \u001b[1m41s\u001b[0m 276ms/step - accuracy: 0.7628 - loss: 0.6382 - val_accuracy: 0.5601 - val_loss: 1.1988 - learning_rate: 1.0000e-04\n",
            "Epoch 34/100\n",
            "\u001b[1m76/76\u001b[0m \u001b[32m━━━━━━━━━━━━━━━━━━━━\u001b[0m\u001b[37m\u001b[0m \u001b[1m0s\u001b[0m 216ms/step - accuracy: 0.7536 - loss: 0.6596\n",
            "Epoch 34: val_accuracy did not improve from 0.59878\n",
            "\u001b[1m76/76\u001b[0m \u001b[32m━━━━━━━━━━━━━━━━━━━━\u001b[0m\u001b[37m\u001b[0m \u001b[1m40s\u001b[0m 263ms/step - accuracy: 0.7538 - loss: 0.6592 - val_accuracy: 0.5621 - val_loss: 1.1805 - learning_rate: 1.0000e-04\n",
            "Epoch 35/100\n",
            "\u001b[1m76/76\u001b[0m \u001b[32m━━━━━━━━━━━━━━━━━━━━\u001b[0m\u001b[37m\u001b[0m \u001b[1m0s\u001b[0m 215ms/step - accuracy: 0.7594 - loss: 0.6432\n",
            "Epoch 35: val_accuracy did not improve from 0.59878\n",
            "\u001b[1m76/76\u001b[0m \u001b[32m━━━━━━━━━━━━━━━━━━━━\u001b[0m\u001b[37m\u001b[0m \u001b[1m22s\u001b[0m 284ms/step - accuracy: 0.7596 - loss: 0.6428 - val_accuracy: 0.5703 - val_loss: 1.1795 - learning_rate: 1.0000e-04\n",
            "Epoch 36/100\n",
            "\u001b[1m76/76\u001b[0m \u001b[32m━━━━━━━━━━━━━━━━━━━━\u001b[0m\u001b[37m\u001b[0m \u001b[1m0s\u001b[0m 205ms/step - accuracy: 0.7813 - loss: 0.6158\n",
            "Epoch 36: val_accuracy did not improve from 0.59878\n",
            "\u001b[1m76/76\u001b[0m \u001b[32m━━━━━━━━━━━━━━━━━━━━\u001b[0m\u001b[37m\u001b[0m \u001b[1m38s\u001b[0m 250ms/step - accuracy: 0.7813 - loss: 0.6155 - val_accuracy: 0.5662 - val_loss: 1.1954 - learning_rate: 1.0000e-04\n",
            "Epoch 37/100\n",
            "\u001b[1m76/76\u001b[0m \u001b[32m━━━━━━━━━━━━━━━━━━━━\u001b[0m\u001b[37m\u001b[0m \u001b[1m0s\u001b[0m 218ms/step - accuracy: 0.7709 - loss: 0.6048\n",
            "Epoch 37: val_accuracy did not improve from 0.59878\n",
            "\u001b[1m76/76\u001b[0m \u001b[32m━━━━━━━━━━━━━━━━━━━━\u001b[0m\u001b[37m\u001b[0m \u001b[1m23s\u001b[0m 287ms/step - accuracy: 0.7711 - loss: 0.6045 - val_accuracy: 0.5540 - val_loss: 1.2041 - learning_rate: 1.0000e-04\n",
            "Epoch 37: early stopping\n",
            "Restoring model weights from the end of the best epoch: 12.\n"
          ]
        }
      ]
    },
    {
      "cell_type": "code",
      "source": [
        "import itertools\n",
        "from sklearn.metrics import classification_report, confusion_matrix, accuracy_score, f1_score, precision_score, recall_score\n",
        "\n",
        "def plot_confusion_matrix(cm, class_names, model_name, normalize=False):\n",
        "    \"\"\"Plot enhanced confusion matrix with proper styling\"\"\"\n",
        "    if normalize:\n",
        "        cm = cm.astype('float') / cm.sum(axis=1)[:, np.newaxis]\n",
        "        title = f'Normalized Confusion Matrix - {model_name}'\n",
        "        fmt = '.2f'\n",
        "    else:\n",
        "        title = f'Confusion Matrix - {model_name}'\n",
        "        fmt = 'd'\n",
        "\n",
        "    plt.figure(figsize=(10, 8))\n",
        "    plt.imshow(cm, interpolation='nearest', cmap=plt.cm.Blues)\n",
        "    plt.title(title, fontsize=16, fontweight='bold')\n",
        "    plt.colorbar()\n",
        "\n",
        "    tick_marks = np.arange(len(class_names))\n",
        "    plt.xticks(tick_marks, class_names, rotation=45, ha='right')\n",
        "    plt.yticks(tick_marks, class_names)\n",
        "\n",
        "    thresh = cm.max() / 2.\n",
        "    for i, j in itertools.product(range(cm.shape[0]), range(cm.shape[1])):\n",
        "        plt.text(j, i, format(cm[i, j], fmt),\n",
        "                horizontalalignment=\"center\",\n",
        "                color=\"white\" if cm[i, j] > thresh else \"black\",\n",
        "                fontsize=12)\n",
        "\n",
        "    plt.ylabel('True Label', fontsize=14)\n",
        "    plt.xlabel('Predicted Label', fontsize=14)\n",
        "    plt.tight_layout()\n",
        "    plt.show()\n",
        "\n",
        "def evaluate_model_performance(model, X_test, y_test, y_test_encoded, model_name, class_names):\n",
        "    \"\"\"Comprehensive model evaluation with detailed metrics\"\"\"\n",
        "    print(f\"\\n{'='*60}\")\n",
        "    print(f\"EVALUATION RESULTS FOR {model_name.upper()}\")\n",
        "    print(f\"{'='*60}\")\n",
        "\n",
        "    # Make predictions\n",
        "    predictions = model.predict(X_test)\n",
        "    predicted_classes = np.argmax(predictions, axis=1)\n",
        "\n",
        "    # Calculate overall metrics\n",
        "    accuracy = accuracy_score(y_test_encoded, predicted_classes)\n",
        "    f1_macro = f1_score(y_test_encoded, predicted_classes, average='macro')\n",
        "    f1_weighted = f1_score(y_test_encoded, predicted_classes, average='weighted')\n",
        "    precision_macro = precision_score(y_test_encoded, predicted_classes, average='macro')\n",
        "    recall_macro = recall_score(y_test_encoded, predicted_classes, average='macro')\n",
        "\n",
        "    print(f\"Overall Accuracy: {accuracy:.4f}\")\n",
        "    print(f\"Macro F1-Score: {f1_macro:.4f}\")\n",
        "    print(f\"Weighted F1-Score: {f1_weighted:.4f}\")\n",
        "    print(f\"Macro Precision: {precision_macro:.4f}\")\n",
        "    print(f\"Macro Recall: {recall_macro:.4f}\")\n",
        "\n",
        "    # Generate confusion matrix\n",
        "    cm = confusion_matrix(y_test_encoded, predicted_classes)\n",
        "\n",
        "    # Plot confusion matrices\n",
        "    plot_confusion_matrix(cm, class_names, model_name, normalize=False)\n",
        "    #plot_confusion_matrix(cm, class_names, model_name, normalize=True)\n",
        "\n",
        "    # Detailed classification report\n",
        "    print(f\"\\nDetailed Classification Report for {model_name}:\")\n",
        "    print(\"-\" * 50)\n",
        "    class_report = classification_report(\n",
        "        y_test_encoded,\n",
        "        predicted_classes,\n",
        "        target_names=class_names,\n",
        "        output_dict=True\n",
        "    )\n",
        "\n",
        "    # Create DataFrame for better visualization\n",
        "    report_df = pd.DataFrame(class_report).transpose()\n",
        "    print(report_df.round(4))\n",
        "\n",
        "    # Per-class metrics analysis\n",
        "    print(f\"\\nPer-Class Performance Analysis for {model_name}:\")\n",
        "    print(\"-\" * 50)\n",
        "    for i, class_name in enumerate(class_names):\n",
        "        class_precision = class_report[class_name]['precision']\n",
        "        class_recall = class_report[class_name]['recall']\n",
        "        class_f1 = class_report[class_name]['f1-score']\n",
        "        class_support = class_report[class_name]['support']\n",
        "\n",
        "        print(f\"{class_name.capitalize():>12}: Precision={class_precision:.3f}, \"\n",
        "              f\"Recall={class_recall:.3f}, F1={class_f1:.3f}, Support={int(class_support)}\")\n",
        "\n",
        "    return {\n",
        "        'accuracy': accuracy,\n",
        "        'f1_macro': f1_macro,\n",
        "        'f1_weighted': f1_weighted,\n",
        "        'precision_macro': precision_macro,\n",
        "        'recall_macro': recall_macro,\n",
        "        'confusion_matrix': cm,\n",
        "        'classification_report': class_report,\n",
        "        'predictions': predictions,\n",
        "        'predicted_classes': predicted_classes\n",
        "    }\n"
      ],
      "metadata": {
        "id": "TR8vNh5TKwXl"
      },
      "execution_count": 28,
      "outputs": []
    },
    {
      "cell_type": "code",
      "source": [
        "# Store all model results\n",
        "model_results = {}\n",
        "print(\"Loading best ResNet101...\")\n",
        "resnet101_model.load_weights('/content/optimal_resnet101_weights.h5')\n",
        "model_results['ResNet101'] = evaluate_model_performance(\n",
        "    resnet101_model, test_resnet_features, categorical_test_labels,\n",
        "    encoded_test_labels, 'ResNet101', emotion_encoder.classes_\n",
        ")\n",
        "# Evaluate VGG16 Model\n",
        "print(\"Loading best VGG16 model...\")\n",
        "vgg16_model.load_weights('/content/optimal_vgg16_weights.h5')\n",
        "vgg16_results = evaluate_model_performance(\n",
        "    vgg16_model,\n",
        "    test_resnet_features,\n",
        "    categorical_test_labels,\n",
        "    encoded_test_labels,\n",
        "    'VGG16',\n",
        "    emotion_encoder.classes_\n",
        ")\n",
        "model_results['VGG16'] = vgg16_results\n",
        "\n",
        "# Evaluate VGG19 Model\n",
        "print(\"Loading best VGG19 model...\")\n",
        "vgg19_model.load_weights('/content/optimal_vgg19_weights.h5')\n",
        "vgg19_results = evaluate_model_performance(\n",
        "    vgg19_model,\n",
        "    test_resnet_features,\n",
        "    categorical_test_labels,\n",
        "    encoded_test_labels,\n",
        "    'VGG19',\n",
        "    emotion_encoder.classes_\n",
        ")\n",
        "model_results['VGG19'] = vgg19_results\n"
      ],
      "metadata": {
        "colab": {
          "base_uri": "https://localhost:8080/",
          "height": 1000
        },
        "id": "9iNCVnbNK3oJ",
        "outputId": "d57271a7-823b-4db8-8efe-aca17267da0a"
      },
      "execution_count": 32,
      "outputs": [
        {
          "output_type": "stream",
          "name": "stdout",
          "text": [
            "Loading best ResNet101...\n",
            "\n",
            "============================================================\n",
            "EVALUATION RESULTS FOR RESNET101\n",
            "============================================================\n",
            "\u001b[1m16/16\u001b[0m \u001b[32m━━━━━━━━━━━━━━━━━━━━\u001b[0m\u001b[37m\u001b[0m \u001b[1m2s\u001b[0m 125ms/step\n",
            "Overall Accuracy: 0.5784\n",
            "Macro F1-Score: 0.5778\n",
            "Weighted F1-Score: 0.5737\n",
            "Macro Precision: 0.5721\n",
            "Macro Recall: 0.5907\n"
          ]
        },
        {
          "output_type": "display_data",
          "data": {
            "text/plain": [
              "<Figure size 1000x800 with 2 Axes>"
            ],
            "image/png": "[encoded data removed]"
          },
          "metadata": {}
        },
        {
          "output_type": "stream",
          "name": "stdout",
          "text": [
            "\n",
            "Detailed Classification Report for ResNet101:\n",
            "--------------------------------------------------\n",
            "              precision  recall  f1-score   support\n",
            "angry            0.6515  0.5733    0.6099   75.0000\n",
            "calm             0.6374  0.7733    0.6988   75.0000\n",
            "disgust          0.6047  0.6667    0.6341   39.0000\n",
            "fearful          0.6429  0.6000    0.6207   75.0000\n",
            "happy            0.5588  0.5067    0.5315   75.0000\n",
            "neutral          0.4600  0.6053    0.5227   38.0000\n",
            "sad              0.4167  0.3333    0.3704   75.0000\n",
            "surprised        0.6047  0.6667    0.6341   39.0000\n",
            "accuracy         0.5784  0.5784    0.5784    0.5784\n",
            "macro avg        0.5721  0.5907    0.5778  491.0000\n",
            "weighted avg     0.5757  0.5784    0.5737  491.0000\n",
            "\n",
            "Per-Class Performance Analysis for ResNet101:\n",
            "--------------------------------------------------\n",
            "       Angry: Precision=0.652, Recall=0.573, F1=0.610, Support=75\n",
            "        Calm: Precision=0.637, Recall=0.773, F1=0.699, Support=75\n",
            "     Disgust: Precision=0.605, Recall=0.667, F1=0.634, Support=39\n",
            "     Fearful: Precision=0.643, Recall=0.600, F1=0.621, Support=75\n",
            "       Happy: Precision=0.559, Recall=0.507, F1=0.531, Support=75\n",
            "     Neutral: Precision=0.460, Recall=0.605, F1=0.523, Support=38\n",
            "         Sad: Precision=0.417, Recall=0.333, F1=0.370, Support=75\n",
            "   Surprised: Precision=0.605, Recall=0.667, F1=0.634, Support=39\n",
            "Loading best VGG16 model...\n",
            "\n",
            "============================================================\n",
            "EVALUATION RESULTS FOR VGG16\n",
            "============================================================\n",
            "\u001b[1m16/16\u001b[0m \u001b[32m━━━━━━━━━━━━━━━━━━━━\u001b[0m\u001b[37m\u001b[0m \u001b[1m4s\u001b[0m 207ms/step\n",
            "Overall Accuracy: 0.5906\n",
            "Macro F1-Score: 0.5928\n",
            "Weighted F1-Score: 0.5756\n",
            "Macro Precision: 0.5813\n",
            "Macro Recall: 0.6193\n"
          ]
        },
        {
          "output_type": "display_data",
          "data": {
            "text/plain": [
              "<Figure size 1000x800 with 2 Axes>"
            ],
            "image/png": "[encoded data removed]"
          },
          "metadata": {}
        },
        {
          "output_type": "stream",
          "name": "stdout",
          "text": [
            "\n",
            "Detailed Classification Report for VGG16:\n",
            "--------------------------------------------------\n",
            "              precision  recall  f1-score   support\n",
            "angry            0.7385  0.6400    0.6857   75.0000\n",
            "calm             0.6500  0.6933    0.6710   75.0000\n",
            "disgust          0.6000  0.6923    0.6429   39.0000\n",
            "fearful          0.5684  0.7200    0.6353   75.0000\n",
            "happy            0.5231  0.4533    0.4857   75.0000\n",
            "neutral          0.5814  0.6579    0.6173   38.0000\n",
            "sad              0.3409  0.2000    0.2521   75.0000\n",
            "surprised        0.6481  0.8974    0.7527   39.0000\n",
            "accuracy         0.5906  0.5906    0.5906    0.5906\n",
            "macro avg        0.5813  0.6193    0.5928  491.0000\n",
            "weighted avg     0.5750  0.5906    0.5756  491.0000\n",
            "\n",
            "Per-Class Performance Analysis for VGG16:\n",
            "--------------------------------------------------\n",
            "       Angry: Precision=0.738, Recall=0.640, F1=0.686, Support=75\n",
            "        Calm: Precision=0.650, Recall=0.693, F1=0.671, Support=75\n",
            "     Disgust: Precision=0.600, Recall=0.692, F1=0.643, Support=39\n",
            "     Fearful: Precision=0.568, Recall=0.720, F1=0.635, Support=75\n",
            "       Happy: Precision=0.523, Recall=0.453, F1=0.486, Support=75\n",
            "     Neutral: Precision=0.581, Recall=0.658, F1=0.617, Support=38\n",
            "         Sad: Precision=0.341, Recall=0.200, F1=0.252, Support=75\n",
            "   Surprised: Precision=0.648, Recall=0.897, F1=0.753, Support=39\n",
            "Loading best VGG19 model...\n",
            "\n",
            "============================================================\n",
            "EVALUATION RESULTS FOR VGG19\n",
            "============================================================\n",
            "\u001b[1m16/16\u001b[0m \u001b[32m━━━━━━━━━━━━━━━━━━━━\u001b[0m\u001b[37m\u001b[0m \u001b[1m5s\u001b[0m 263ms/step\n",
            "Overall Accuracy: 0.5988\n",
            "Macro F1-Score: 0.6026\n",
            "Weighted F1-Score: 0.5927\n",
            "Macro Precision: 0.5970\n",
            "Macro Recall: 0.6153\n"
          ]
        },
        {
          "output_type": "display_data",
          "data": {
            "text/plain": [
              "<Figure size 1000x800 with 2 Axes>"
            ],
            "image/png": "[encoded data removed]"
          },
          "metadata": {}
        },
        {
          "output_type": "stream",
          "name": "stdout",
          "text": [
            "\n",
            "Detailed Classification Report for VGG19:\n",
            "--------------------------------------------------\n",
            "              precision  recall  f1-score   support\n",
            "angry            0.7333  0.5867    0.6519   75.0000\n",
            "calm             0.6786  0.7600    0.7170   75.0000\n",
            "disgust          0.5455  0.6154    0.5783   39.0000\n",
            "fearful          0.6047  0.6933    0.6460   75.0000\n",
            "happy            0.5068  0.4933    0.5000   75.0000\n",
            "neutral          0.6190  0.6842    0.6500   38.0000\n",
            "sad              0.4211  0.3200    0.3636   75.0000\n",
            "surprised        0.6667  0.7692    0.7143   39.0000\n",
            "accuracy         0.5988  0.5988    0.5988    0.5988\n",
            "macro avg        0.5970  0.6153    0.6026  491.0000\n",
            "weighted avg     0.5940  0.5988    0.5927  491.0000\n",
            "\n",
            "Per-Class Performance Analysis for VGG19:\n",
            "--------------------------------------------------\n",
            "       Angry: Precision=0.733, Recall=0.587, F1=0.652, Support=75\n",
            "        Calm: Precision=0.679, Recall=0.760, F1=0.717, Support=75\n",
            "     Disgust: Precision=0.545, Recall=0.615, F1=0.578, Support=39\n",
            "     Fearful: Precision=0.605, Recall=0.693, F1=0.646, Support=75\n",
            "       Happy: Precision=0.507, Recall=0.493, F1=0.500, Support=75\n",
            "     Neutral: Precision=0.619, Recall=0.684, F1=0.650, Support=38\n",
            "         Sad: Precision=0.421, Recall=0.320, F1=0.364, Support=75\n",
            "   Surprised: Precision=0.667, Recall=0.769, F1=0.714, Support=39\n"
          ]
        }
      ]
    },
    {
      "cell_type": "code",
      "source": [
        "def create_model_comparison_chart(results):\n",
        "    metrics = ['accuracy', 'f1_macro', 'f1_weighted', 'precision_macro', 'recall_macro']\n",
        "    # Data extraction\n",
        "    v16 = [model_results['VGG16'][m] for m in metrics]\n",
        "    v19 = [model_results['VGG19'][m] for m in metrics]\n",
        "    r101 = [model_results['ResNet101'][m] for m in metrics]\n",
        "    # Plotting\n",
        "    fig, axes = plt.subplots(2, 3, figsize=(18, 12))\n",
        "    fig.suptitle('Model Performance Comparison', fontsize=20)\n",
        "    for idx, metric in enumerate(metrics):\n",
        "        ax = axes[idx//3, idx%3]\n",
        "        scores = [v16[idx], v19[idx], r101[idx]]\n",
        "        bars = ax.bar(['VGG16', 'VGG19', 'ResNet101'], scores)\n",
        "        ax.set_title(metric.replace('_', ' ').title())\n",
        "        ax.set_ylim(0, 1)\n",
        "        for bar in bars:\n",
        "            ax.text(bar.get_x()+bar.get_width()/2, bar.get_height()+0.01,\n",
        "                    f\"{bar.get_height():.3f}\", ha='center')\n",
        "    axes[1,2].axis('off')\n",
        "    plt.tight_layout(); plt.show()\n",
        "    # Summary table\n",
        "    summary_df = pd.DataFrame({\n",
        "        'VGG16': model_results['VGG16'],\n",
        "        'VGG19': model_results['VGG19'],\n",
        "        'ResNet101': model_results['ResNet101']\n",
        "    }).T.round(4)\n",
        "    print(\"\\nModel Performance Summary:\\n\", summary_df)\n",
        "    return summary_df\n",
        "\n",
        "comparison_summary = create_model_comparison_chart(model_results)\n"
      ],
      "metadata": {
        "colab": {
          "base_uri": "https://localhost:8080/",
          "height": 925
        },
        "id": "BmWrQ3f0K7OJ",
        "outputId": "907523dc-1596-4c05-f924-0d5bbcfa7f2e"
      },
      "execution_count": 35,
      "outputs": [
        {
          "output_type": "display_data",
          "data": {
            "text/plain": [
              "<Figure size 1800x1200 with 6 Axes>"
            ],
            "image/png": "[encoded data removed]"
          },
          "metadata": {}
        },
        {
          "output_type": "stream",
          "name": "stdout",
          "text": [
            "\n",
            "Model Performance Summary:\n",
            "            accuracy  f1_macro f1_weighted precision_macro recall_macro  \\\n",
            "VGG16      0.590631  0.592828    0.575596        0.581302     0.619288   \n",
            "VGG19      0.598778  0.602629    0.592655        0.596953      0.61527   \n",
            "ResNet101  0.578411  0.577784    0.573668        0.572066     0.590658   \n",
            "\n",
            "                                            confusion_matrix  \\\n",
            "VGG16      [[48, 0, 3, 5, 11, 0, 3, 5], [1, 52, 3, 2, 3, ...   \n",
            "VGG19      [[44, 0, 9, 2, 10, 3, 3, 4], [1, 57, 1, 0, 3, ...   \n",
            "ResNet101  [[43, 0, 5, 5, 11, 3, 5, 3], [0, 58, 0, 0, 4, ...   \n",
            "\n",
            "                                       classification_report  \\\n",
            "VGG16      {'angry': {'precision': 0.7384615384615385, 'r...   \n",
            "VGG19      {'angry': {'precision': 0.7333333333333333, 'r...   \n",
            "ResNet101  {'angry': {'precision': 0.6515151515151515, 'r...   \n",
            "\n",
            "                                                 predictions  \\\n",
            "VGG16      [[0.7803912, 0.00021562562, 0.0006741107, 0.03...   \n",
            "VGG19      [[0.84259224, 0.00044025647, 0.00024619864, 0....   \n",
            "ResNet101  [[0.98427814, 2.5003096e-06, 2.2350827e-05, 0....   \n",
            "\n",
            "                                           predicted_classes  \n",
            "VGG16      [0, 4, 0, 0, 0, 0, 4, 0, 0, 2, 0, 0, 0, 4, 0, ...  \n",
            "VGG19      [0, 0, 0, 0, 0, 2, 3, 0, 0, 0, 0, 5, 0, 4, 0, ...  \n",
            "ResNet101  [0, 4, 0, 0, 0, 0, 4, 0, 7, 0, 0, 2, 0, 0, 0, ...  \n"
          ]
        }
      ]
    },
    {
      "cell_type": "code",
      "source": [
        "import pickle\n",
        "\n",
        "# Save trained models\n",
        "vgg16_model.save('final_vgg16_emotion_model.h5')\n",
        "vgg19_model.save('final_vgg19_emotion_model.h5')\n",
        "resnet101_model.save('final_resnet101_emotion_model.h5')\n",
        "\n",
        "# Save label encoder\n",
        "with open('emotion_label_encoder.pkl', 'wb') as f:\n",
        "    pickle.dump(emotion_encoder, f)\n",
        "\n",
        "# Save feature extractor\n",
        "with open('audio_feature_extractor.pkl', 'wb') as f:\n",
        "    pickle.dump(audio_processor, f)\n",
        "\n",
        "# Save model results\n",
        "with open('model_evaluation_results.pkl', 'wb') as f:\n",
        "    pickle.dump(model_results, f)\n",
        "\n",
        "print(\"✓ All models and results saved successfully!\")\n"
      ],
      "metadata": {
        "colab": {
          "base_uri": "https://localhost:8080/"
        },
        "id": "Dju_MNoxLANl",
        "outputId": "bb294248-be75-4666-cafd-140dac4cb332"
      },
      "execution_count": 36,
      "outputs": [
        {
          "output_type": "stream",
          "name": "stderr",
          "text": [
            "WARNING:absl:You are saving your model as an HDF5 file via `model.save()` or `keras.saving.save_model(model)`. This file format is considered legacy. We recommend using instead the native Keras format, e.g. `model.save('my_model.keras')` or `keras.saving.save_model(model, 'my_model.keras')`. \n",
            "WARNING:absl:You are saving your model as an HDF5 file via `model.save()` or `keras.saving.save_model(model)`. This file format is considered legacy. We recommend using instead the native Keras format, e.g. `model.save('my_model.keras')` or `keras.saving.save_model(model, 'my_model.keras')`. \n",
            "WARNING:absl:You are saving your model as an HDF5 file via `model.save()` or `keras.saving.save_model(model)`. This file format is considered legacy. We recommend using instead the native Keras format, e.g. `model.save('my_model.keras')` or `keras.saving.save_model(model, 'my_model.keras')`. \n"
          ]
        },
        {
          "output_type": "stream",
          "name": "stdout",
          "text": [
            "✓ All models and results saved successfully!\n"
          ]
        }
      ]
    },
    {
      "cell_type": "code",
      "source": [
        "!pip install streamlit"
      ],
      "metadata": {
        "colab": {
          "base_uri": "https://localhost:8080/"
        },
        "id": "LfwM0FrD0nRr",
        "outputId": "2fe414ef-4dc8-4873-fac8-debd6a7dd25f"
      },
      "execution_count": 37,
      "outputs": [
        {
          "output_type": "stream",
          "name": "stdout",
          "text": [
            "Collecting streamlit\n",
            "  Downloading streamlit-1.46.0-py3-none-any.whl.metadata (9.0 kB)\n",
            "Requirement already satisfied: altair<6,>=4.0 in /usr/local/lib/python3.11/dist-packages (from streamlit) (5.5.0)\n",
            "Requirement already satisfied: blinker<2,>=1.5.0 in /usr/local/lib/python3.11/dist-packages (from streamlit) (1.9.0)\n",
            "Requirement already satisfied: cachetools<7,>=4.0 in /usr/local/lib/python3.11/dist-packages (from streamlit) (5.5.2)\n",
            "Requirement already satisfied: click<9,>=7.0 in /usr/local/lib/python3.11/dist-packages (from streamlit) (8.2.1)\n",
            "Requirement already satisfied: numpy<3,>=1.23 in /usr/local/lib/python3.11/dist-packages (from streamlit) (2.0.2)\n",
            "Requirement already satisfied: packaging<26,>=20 in /usr/local/lib/python3.11/dist-packages (from streamlit) (24.2)\n",
            "Requirement already satisfied: pandas<3,>=1.4.0 in /usr/local/lib/python3.11/dist-packages (from streamlit) (2.2.2)\n",
            "Requirement already satisfied: pillow<12,>=7.1.0 in /usr/local/lib/python3.11/dist-packages (from streamlit) (11.2.1)\n",
            "Requirement already satisfied: protobuf<7,>=3.20 in /usr/local/lib/python3.11/dist-packages (from streamlit) (5.29.5)\n",
            "Requirement already satisfied: pyarrow>=7.0 in /usr/local/lib/python3.11/dist-packages (from streamlit) (18.1.0)\n",
            "Requirement already satisfied: requests<3,>=2.27 in /usr/local/lib/python3.11/dist-packages (from streamlit) (2.32.3)\n",
            "Requirement already satisfied: tenacity<10,>=8.1.0 in /usr/local/lib/python3.11/dist-packages (from streamlit) (9.1.2)\n",
            "Requirement already satisfied: toml<2,>=0.10.1 in /usr/local/lib/python3.11/dist-packages (from streamlit) (0.10.2)\n",
            "Requirement already satisfied: typing-extensions<5,>=4.4.0 in /usr/local/lib/python3.11/dist-packages (from streamlit) (4.14.0)\n",
            "Collecting watchdog<7,>=2.1.5 (from streamlit)\n",
            "  Downloading watchdog-6.0.0-py3-none-manylinux2014_x86_64.whl.metadata (44 kB)\n",
            "\u001b[2K     \u001b[90m━━━━━━━━━━━━━━━━━━━━━━━━━━━━━━━━━━━━━━━━\u001b[0m \u001b[32m44.3/44.3 kB\u001b[0m \u001b[31m3.9 MB/s\u001b[0m eta \u001b[36m0:00:00\u001b[0m\n",
            "\u001b[?25hRequirement already satisfied: gitpython!=3.1.19,<4,>=3.0.7 in /usr/local/lib/python3.11/dist-packages (from streamlit) (3.1.44)\n",
            "Collecting pydeck<1,>=0.8.0b4 (from streamlit)\n",
            "  Downloading pydeck-0.9.1-py2.py3-none-any.whl.metadata (4.1 kB)\n",
            "Requirement already satisfied: tornado!=6.5.0,<7,>=6.0.3 in /usr/local/lib/python3.11/dist-packages (from streamlit) (6.4.2)\n",
            "Requirement already satisfied: jinja2 in /usr/local/lib/python3.11/dist-packages (from altair<6,>=4.0->streamlit) (3.1.6)\n",
            "Requirement already satisfied: jsonschema>=3.0 in /usr/local/lib/python3.11/dist-packages (from altair<6,>=4.0->streamlit) (4.24.0)\n",
            "Requirement already satisfied: narwhals>=1.14.2 in /usr/local/lib/python3.11/dist-packages (from altair<6,>=4.0->streamlit) (1.43.0)\n",
            "Requirement already satisfied: gitdb<5,>=4.0.1 in /usr/local/lib/python3.11/dist-packages (from gitpython!=3.1.19,<4,>=3.0.7->streamlit) (4.0.12)\n",
            "Requirement already satisfied: python-dateutil>=2.8.2 in /usr/local/lib/python3.11/dist-packages (from pandas<3,>=1.4.0->streamlit) (2.9.0.post0)\n",
            "Requirement already satisfied: pytz>=2020.1 in /usr/local/lib/python3.11/dist-packages (from pandas<3,>=1.4.0->streamlit) (2025.2)\n",
            "Requirement already satisfied: tzdata>=2022.7 in /usr/local/lib/python3.11/dist-packages (from pandas<3,>=1.4.0->streamlit) (2025.2)\n",
            "Requirement already satisfied: charset-normalizer<4,>=2 in /usr/local/lib/python3.11/dist-packages (from requests<3,>=2.27->streamlit) (3.4.2)\n",
            "Requirement already satisfied: idna<4,>=2.5 in /usr/local/lib/python3.11/dist-packages (from requests<3,>=2.27->streamlit) (3.10)\n",
            "Requirement already satisfied: urllib3<3,>=1.21.1 in /usr/local/lib/python3.11/dist-packages (from requests<3,>=2.27->streamlit) (2.4.0)\n",
            "Requirement already satisfied: certifi>=2017.4.17 in /usr/local/lib/python3.11/dist-packages (from requests<3,>=2.27->streamlit) (2025.6.15)\n",
            "Requirement already satisfied: smmap<6,>=3.0.1 in /usr/local/lib/python3.11/dist-packages (from gitdb<5,>=4.0.1->gitpython!=3.1.19,<4,>=3.0.7->streamlit) (5.0.2)\n",
            "Requirement already satisfied: MarkupSafe>=2.0 in /usr/local/lib/python3.11/dist-packages (from jinja2->altair<6,>=4.0->streamlit) (3.0.2)\n",
            "Requirement already satisfied: attrs>=22.2.0 in /usr/local/lib/python3.11/dist-packages (from jsonschema>=3.0->altair<6,>=4.0->streamlit) (25.3.0)\n",
            "Requirement already satisfied: jsonschema-specifications>=2023.03.6 in /usr/local/lib/python3.11/dist-packages (from jsonschema>=3.0->altair<6,>=4.0->streamlit) (2025.4.1)\n",
            "Requirement already satisfied: referencing>=0.28.4 in /usr/local/lib/python3.11/dist-packages (from jsonschema>=3.0->altair<6,>=4.0->streamlit) (0.36.2)\n",
            "Requirement already satisfied: rpds-py>=0.7.1 in /usr/local/lib/python3.11/dist-packages (from jsonschema>=3.0->altair<6,>=4.0->streamlit) (0.25.1)\n",
            "Requirement already satisfied: six>=1.5 in /usr/local/lib/python3.11/dist-packages (from python-dateutil>=2.8.2->pandas<3,>=1.4.0->streamlit) (1.17.0)\n",
            "Downloading streamlit-1.46.0-py3-none-any.whl (10.1 MB)\n",
            "\u001b[2K   \u001b[90m━━━━━━━━━━━━━━━━━━━━━━━━━━━━━━━━━━━━━━━━\u001b[0m \u001b[32m10.1/10.1 MB\u001b[0m \u001b[31m88.8 MB/s\u001b[0m eta \u001b[36m0:00:00\u001b[0m\n",
            "\u001b[?25hDownloading pydeck-0.9.1-py2.py3-none-any.whl (6.9 MB)\n",
            "\u001b[2K   \u001b[90m━━━━━━━━━━━━━━━━━━━━━━━━━━━━━━━━━━━━━━━━\u001b[0m \u001b[32m6.9/6.9 MB\u001b[0m \u001b[31m88.9 MB/s\u001b[0m eta \u001b[36m0:00:00\u001b[0m\n",
            "\u001b[?25hDownloading watchdog-6.0.0-py3-none-manylinux2014_x86_64.whl (79 kB)\n",
            "\u001b[2K   \u001b[90m━━━━━━━━━━━━━━━━━━━━━━━━━━━━━━━━━━━━━━━━\u001b[0m \u001b[32m79.1/79.1 kB\u001b[0m \u001b[31m7.8 MB/s\u001b[0m eta \u001b[36m0:00:00\u001b[0m\n",
            "\u001b[?25hInstalling collected packages: watchdog, pydeck, streamlit\n",
            "Successfully installed pydeck-0.9.1 streamlit-1.46.0 watchdog-6.0.0\n"
          ]
        }
      ]
    },
    {
      "cell_type": "code",
      "source": [
        "import streamlit as st\n",
        "import numpy as np\n",
        "import pandas as pd\n",
        "import librosa\n",
        "import librosa.display\n",
        "import matplotlib.pyplot as plt\n",
        "import seaborn as sns\n",
        "import tensorflow as tf\n",
        "from tensorflow.keras.models import load_model\n",
        "import pickle\n",
        "import soundfile as sf\n",
        "import plotly.express as px\n",
        "import plotly.graph_objects as go\n",
        "from plotly.subplots import make_subplots\n",
        "import io\n",
        "import os\n",
        "import tempfile\n",
        "from PIL import Image\n",
        "import warnings\n",
        "warnings.filterwarnings('ignore')\n",
        "\n",
        "# Page configuration\n",
        "st.set_page_config(\n",
        "    page_title=\"🎭 Audio Emotion Recognition\",\n",
        "    page_icon=\"🎭\",\n",
        "    layout=\"wide\",\n",
        "    initial_sidebar_state=\"expanded\"\n",
        ")\n",
        "\n",
        "# Custom CSS for better styling\n",
        "st.markdown(\"\"\"\n",
        "<style>\n",
        "    .main-header {\n",
        "        font-size: 3rem;\n",
        "        color: #1f77b4;\n",
        "        text-align: center;\n",
        "        margin-bottom: 2rem;\n",
        "        text-shadow: 2px 2px 4px rgba(0,0,0,0.1);\n",
        "    }\n",
        "    .sub-header {\n",
        "        font-size: 1.5rem;\n",
        "        color: #2c3e50;\n",
        "        margin-bottom: 1rem;\n",
        "    }\n",
        "    .metric-card {\n",
        "        background: linear-gradient(90deg, #667eea 0%, #764ba2 100%);\n",
        "        padding: 1rem;\n",
        "        border-radius: 10px;\n",
        "        color: white;\n",
        "        text-align: center;\n",
        "        margin: 0.5rem 0;\n",
        "    }\n",
        "    .prediction-box {\n",
        "        background: linear-gradient(135deg, #667eea 0%, #764ba2 100%);\n",
        "        padding: 2rem;\n",
        "        border-radius: 15px;\n",
        "        color: white;\n",
        "        text-align: center;\n",
        "        margin: 1rem 0;\n",
        "        box-shadow: 0 4px 6px rgba(0, 0, 0, 0.1);\n",
        "    }\n",
        "    .stButton > button {\n",
        "        background: linear-gradient(90deg, #667eea 0%, #764ba2 100%);\n",
        "        color: white;\n",
        "        border: none;\n",
        "        border-radius: 20px;\n",
        "        padding: 0.5rem 2rem;\n",
        "        font-weight: bold;\n",
        "        transition: all 0.3s ease;\n",
        "    }\n",
        "    .stButton > button:hover {\n",
        "        transform: translateY(-2px);\n",
        "        box-shadow: 0 4px 8px rgba(0, 0, 0, 0.2);\n",
        "    }\n",
        "</style>\n",
        "\"\"\", unsafe_allow_html=True)\n",
        "\n",
        "# Enhanced Audio Feature Extractor Class (from your code)\n",
        "class EnhancedAudioFeatureExtractor:\n",
        "    def __init__(self, sampling_rate=22050, audio_duration=3.0, mfcc_coefficients=13, mel_bands=64):\n",
        "        self.sampling_rate = sampling_rate\n",
        "        self.audio_duration = audio_duration\n",
        "        self.mfcc_coefficients = mfcc_coefficients\n",
        "        self.mel_bands = mel_bands\n",
        "        self.target_length = int(sampling_rate * audio_duration)\n",
        "\n",
        "    def load_and_normalize_audio(self, audio_path, noise_reduction=False):\n",
        "        \"\"\"Load and normalize audio with optional noise reduction\"\"\"\n",
        "        try:\n",
        "            audio_signal, sr = librosa.load(audio_path, sr=self.sampling_rate, duration=self.audio_duration)\n",
        "\n",
        "            if len(audio_signal) < self.target_length:\n",
        "                audio_signal = np.pad(audio_signal, (0, self.target_length - len(audio_signal)), mode='constant')\n",
        "            else:\n",
        "                audio_signal = audio_signal[:self.target_length]\n",
        "\n",
        "            audio_signal = librosa.util.normalize(audio_signal)\n",
        "            return audio_signal, sr\n",
        "\n",
        "        except Exception as error:\n",
        "            st.error(f\"Audio loading error: {error}\")\n",
        "            return np.zeros(self.target_length), self.sampling_rate\n",
        "\n",
        "    def generate_mel_spectrogram(self, audio_path):\n",
        "        \"\"\"Generate mel-spectrogram for CNN processing\"\"\"\n",
        "        audio_signal, sr = self.load_and_normalize_audio(audio_path)\n",
        "\n",
        "        mel_spectrogram = librosa.feature.melspectrogram(\n",
        "            y=audio_signal, sr=sr, n_mels=self.mel_bands, fmax=8000\n",
        "        )\n",
        "        mel_spec_db = librosa.power_to_db(mel_spectrogram, ref=np.max)\n",
        "\n",
        "        normalized_mel_spec = (mel_spec_db - mel_spec_db.min()) / (mel_spec_db.max() - mel_spec_db.min())\n",
        "        return normalized_mel_spec\n",
        "\n",
        "@st.cache_resource\n",
        "def load_models_and_encoders():\n",
        "    \"\"\"Load pre-trained models and encoders (cached for performance)\"\"\"\n",
        "    try:\n",
        "        # Load models\n",
        "        vgg16_model = load_model('final_vgg16_emotion_model.h5')\n",
        "        vgg19_model = load_model('final_vgg19_emotion_model.h5')\n",
        "        resnet101_model = load_model('final_resnet101_emotion_model.h5')\n",
        "\n",
        "        # Load label encoder\n",
        "        with open('emotion_label_encoder.pkl', 'rb') as f:\n",
        "            emotion_encoder = pickle.load(f)\n",
        "\n",
        "        # Load feature extractor\n",
        "        with open('audio_feature_extractor.pkl', 'rb') as f:\n",
        "            feature_extractor = pickle.load(f)\n",
        "\n",
        "        return {\n",
        "            'VGG16': vgg16_model,\n",
        "            'VGG19': vgg19_model,\n",
        "            'ResNet101': resnet101_model,\n",
        "            'encoder': emotion_encoder,\n",
        "            'extractor': feature_extractor\n",
        "        }\n",
        "    except Exception as e:\n",
        "        st.error(f\"Error loading models: {e}\")\n",
        "        return None\n",
        "\n",
        "def resize_for_resnet(spectrogram_data, target_dimensions=(224, 224)):\n",
        "    \"\"\"Resize spectrograms for ResNet input\"\"\"\n",
        "    from tensorflow.keras.preprocessing.image import array_to_img, img_to_array\n",
        "\n",
        "    # Convert to RGB format\n",
        "    rgb_data = np.repeat(spectrogram_data[..., np.newaxis], 3, axis=-1)\n",
        "\n",
        "    # Resize\n",
        "    image = array_to_img(rgb_data)\n",
        "    resized_image = image.resize(target_dimensions)\n",
        "    image_array = img_to_array(resized_image)\n",
        "\n",
        "    return np.expand_dims(image_array / 255.0, axis=0)\n",
        "\n",
        "def predict_emotion(audio_file, models_dict, selected_model):\n",
        "    \"\"\"Predict emotion from audio file\"\"\"\n",
        "    try:\n",
        "        # Save uploaded file temporarily\n",
        "        with tempfile.NamedTemporaryFile(delete=False, suffix='.wav') as tmp_file:\n",
        "            tmp_file.write(audio_file.read())\n",
        "            tmp_file_path = tmp_file.name\n",
        "\n",
        "        # Extract features\n",
        "        feature_extractor = models_dict['extractor']\n",
        "        mel_spec = feature_extractor.generate_mel_spectrogram(tmp_file_path)\n",
        "\n",
        "        # Prepare input for selected model\n",
        "        resized_input = resize_for_resnet(mel_spec)\n",
        "\n",
        "        # Get model and make prediction\n",
        "        model = models_dict[selected_model]\n",
        "        prediction = model.predict(resized_input)\n",
        "\n",
        "        # Get emotion labels and probabilities\n",
        "        emotion_encoder = models_dict['encoder']\n",
        "        predicted_class = np.argmax(prediction)\n",
        "        predicted_emotion = emotion_encoder.inverse_transform([predicted_class])[0]\n",
        "        confidence = np.max(prediction) * 100\n",
        "\n",
        "        # Get all probabilities for visualization\n",
        "        all_probabilities = prediction[0]\n",
        "        emotion_probs = {\n",
        "            emotion_encoder.inverse_transform([i])[0]: prob * 100\n",
        "            for i, prob in enumerate(all_probabilities)\n",
        "        }\n",
        "\n",
        "        # Clean up temporary file\n",
        "        os.unlink(tmp_file_path)\n",
        "\n",
        "        return predicted_emotion, confidence, emotion_probs, mel_spec\n",
        "\n",
        "    except Exception as e:\n",
        "        st.error(f\"Prediction error: {e}\")\n",
        "        return None, None, None, None\n",
        "\n",
        "def create_visualizations(mel_spec, emotion_probs, audio_file):\n",
        "    \"\"\"Create visualization plots\"\"\"\n",
        "    col1, col2 = st.columns(2)\n",
        "\n",
        "    with col1:\n",
        "        st.subheader(\"🎵 Mel-Spectrogram\")\n",
        "        fig, ax = plt.subplots(figsize=(10, 6))\n",
        "        librosa.display.specshow(mel_spec, ax=ax, x_axis='time', y_axis='mel')\n",
        "        ax.set_title('Mel-Spectrogram', fontsize=14, fontweight='bold')\n",
        "        plt.colorbar(ax.collections[0], ax=ax, format='%+2.0f dB')\n",
        "        st.pyplot(fig)\n",
        "\n",
        "    with col2:\n",
        "        st.subheader(\"📊 Emotion Probabilities\")\n",
        "        emotions = list(emotion_probs.keys())\n",
        "        probabilities = list(emotion_probs.values())\n",
        "\n",
        "        # Create interactive bar chart\n",
        "        fig = px.bar(\n",
        "            x=emotions,\n",
        "            y=probabilities,\n",
        "            title=\"Emotion Prediction Confidence\",\n",
        "            labels={'x': 'Emotions', 'y': 'Confidence (%)'},\n",
        "            color=probabilities,\n",
        "            color_continuous_scale='viridis'\n",
        "        )\n",
        "        fig.update_layout(\n",
        "            title_font_size=16,\n",
        "            title_x=0.5,\n",
        "            showlegend=False\n",
        "        )\n",
        "        st.plotly_chart(fig, use_container_width=True)\n",
        "\n",
        "def main():\n",
        "    # Header\n",
        "    st.markdown('<h1 class=\"main-header\">🎭 Audio Emotion Recognition System</h1>', unsafe_allow_html=True)\n",
        "    st.markdown('<p style=\"text-align: center; font-size: 1.2rem; color: #666;\">Advanced AI-powered emotion detection from audio using deep learning models</p>', unsafe_allow_html=True)\n",
        "\n",
        "    # Load models\n",
        "    with st.spinner(\"🔄 Loading AI models...\"):\n",
        "        models_dict = load_models_and_encoders()\n",
        "\n",
        "    if models_dict is None:\n",
        "        st.error(\"❌ Failed to load models. Please ensure all model files are present.\")\n",
        "        st.stop()\n",
        "\n",
        "    st.success(\"✅ Models loaded successfully!\")\n",
        "\n",
        "    # Sidebar\n",
        "    st.sidebar.header(\"🎛️ Configuration\")\n",
        "\n",
        "    # Model selection\n",
        "    selected_model = st.sidebar.selectbox(\n",
        "        \"🤖 Select AI Model\",\n",
        "        [\"VGG16\", \"VGG19\", \"ResNet101\"],\n",
        "        help=\"Choose the deep learning model for emotion prediction\"\n",
        "    )\n",
        "\n",
        "    # Model info\n",
        "    model_info = {\n",
        "        \"VGG16\": \"Visual Geometry Group 16-layer network optimized for image classification\",\n",
        "        \"VGG19\": \"Enhanced VGG with 19 layers for improved feature extraction\",\n",
        "        \"ResNet101\": \"Residual Network with 101 layers and skip connections\"\n",
        "    }\n",
        "\n",
        "    st.sidebar.info(f\"**Selected Model:** {selected_model}\\n\\n{model_info[selected_model]}\")\n",
        "\n",
        "    # Main content\n",
        "    st.markdown('<h2 class=\"sub-header\">🎤 Upload Audio File</h2>', unsafe_allow_html=True)\n",
        "\n",
        "    uploaded_file = st.file_uploader(\n",
        "        \"Choose an audio file\",\n",
        "        type=['wav', 'mp3', 'flac', 'm4a'],\n",
        "        help=\"Upload an audio file to analyze emotions. Supported formats: WAV, MP3, FLAC, M4A\"\n",
        "    )\n",
        "\n",
        "    if uploaded_file is not None:\n",
        "        # Display file info\n",
        "        col1, col2, col3 = st.columns(3)\n",
        "        with col1:\n",
        "            st.markdown(f'<div class=\"metric-card\"><strong>📁 File:</strong><br>{uploaded_file.name}</div>', unsafe_allow_html=True)\n",
        "        with col2:\n",
        "            st.markdown(f'<div class=\"metric-card\"><strong>📏 Size:</strong><br>{uploaded_file.size / 1024:.1f} KB</div>', unsafe_allow_html=True)\n",
        "        with col3:\n",
        "            st.markdown(f'<div class=\"metric-card\"><strong>🎭 Model:</strong><br>{selected_model}</div>', unsafe_allow_html=True)\n",
        "\n",
        "        # Audio player\n",
        "        st.markdown('<h3 class=\"sub-header\">🔊 Audio Preview</h3>', unsafe_allow_html=True)\n",
        "        st.audio(uploaded_file, format='audio/wav')\n",
        "\n",
        "        # Predict button\n",
        "        if st.button(\"🚀 Analyze Emotion\", type=\"primary\"):\n",
        "            with st.spinner(f\"🧠 Analyzing audio with {selected_model} model...\"):\n",
        "                # Reset file pointer\n",
        "                uploaded_file.seek(0)\n",
        "\n",
        "                # Make prediction\n",
        "                predicted_emotion, confidence, emotion_probs, mel_spec = predict_emotion(\n",
        "                    uploaded_file, models_dict, selected_model\n",
        "                )\n",
        "\n",
        "                if predicted_emotion is not None:\n",
        "                    # Display results\n",
        "                    st.markdown('<h2 class=\"sub-header\">🎯 Prediction Results</h2>', unsafe_allow_html=True)\n",
        "\n",
        "                    # Main prediction display\n",
        "                    st.markdown(f'''\n",
        "                    <div class=\"prediction-box\">\n",
        "                        <h2>🎭 Detected Emotion</h2>\n",
        "                        <h1 style=\"font-size: 3rem; margin: 1rem 0;\">{predicted_emotion.upper()}</h1>\n",
        "                        <h3>Confidence: {confidence:.1f}%</h3>\n",
        "                    </div>\n",
        "                    ''', unsafe_allow_html=True)\n",
        "\n",
        "                    # Detailed results\n",
        "                    col1, col2 = st.columns([1, 1])\n",
        "\n",
        "                    with col1:\n",
        "                        st.markdown(\"### 📈 All Emotion Scores\")\n",
        "                        for emotion, prob in sorted(emotion_probs.items(), key=lambda x: x[1], reverse=True):\n",
        "                            st.progress(prob/100, text=f\"{emotion.capitalize()}: {prob:.1f}%\")\n",
        "\n",
        "                    with col2:\n",
        "                        st.markdown(\"### 🔍 Analysis Details\")\n",
        "                        st.write(f\"**Primary Emotion:** {predicted_emotion.capitalize()}\")\n",
        "                        st.write(f\"**Confidence Level:** {confidence:.2f}%\")\n",
        "                        st.write(f\"**Model Used:** {selected_model}\")\n",
        "                        st.write(f\"**Audio Duration:** 3.0 seconds (normalized)\")\n",
        "\n",
        "                    # Visualizations\n",
        "                    st.markdown('<h2 class=\"sub-header\">📊 Detailed Analysis</h2>', unsafe_allow_html=True)\n",
        "                    create_visualizations(mel_spec, emotion_probs, uploaded_file)\n",
        "\n",
        "                    # Emotion interpretation\n",
        "                    st.markdown('<h3 class=\"sub-header\">💡 Emotion Insights</h3>', unsafe_allow_html=True)\n",
        "\n",
        "                    emotion_descriptions = {\n",
        "                        'happy': '😊 Positive, joyful, and uplifting emotional state',\n",
        "                        'sad': '😢 Melancholic, sorrowful, or downcast emotional state',\n",
        "                        'angry': '😠 Frustrated, irritated, or aggressive emotional state',\n",
        "                        'fearful': '😨 Anxious, worried, or apprehensive emotional state',\n",
        "                        'surprised': '😲 Shocked, amazed, or unexpected reaction',\n",
        "                        'disgusted': '🤢 Repulsed, revolted, or disgusted reaction',\n",
        "                        'neutral': '😐 Calm, balanced, or emotionally neutral state',\n",
        "                        'calm': '😌 Peaceful, relaxed, and serene emotional state'\n",
        "                    }\n",
        "\n",
        "                    description = emotion_descriptions.get(predicted_emotion.lower(), 'Emotional state detected')\n",
        "                    st.info(f\"**{predicted_emotion.capitalize()}:** {description}\")\n",
        "\n",
        "    # Footer\n",
        "    st.markdown(\"---\")\n",
        "    st.markdown(\"\"\"\n",
        "    <div style=\"text-align: center; color: #666; padding: 2rem;\">\n",
        "        <p>🎭 Audio Emotion Recognition System</p>\n",
        "        <p>Powered by Deep Learning | Built with Streamlit</p>\n",
        "        <p>Models: VGG16, VGG19, ResNet101 | Dataset: RAVDESS</p>\n",
        "    </div>\n",
        "    \"\"\", unsafe_allow_html=True)\n",
        "\n",
        "if __name__ == \"__main__\":\n",
        "    main()"
      ],
      "metadata": {
        "id": "DlG6RcNdamwm"
      },
      "execution_count": null,
      "outputs": []
    },
    {
      "cell_type": "code",
      "source": [
        "# Run this in your next Jupyter cell to create the Streamlit app\n",
        "streamlit_app_code = '''\n",
        "import streamlit as st\n",
        "import numpy as np\n",
        "import pandas as pd\n",
        "import librosa\n",
        "import librosa.display\n",
        "import matplotlib.pyplot as plt\n",
        "import seaborn as sns\n",
        "import soundfile as sf\n",
        "import tempfile\n",
        "import os\n",
        "import pickle\n",
        "import plotly.express as px\n",
        "import plotly.graph_objects as go\n",
        "from plotly.subplots import make_subplots\n",
        "import tensorflow as tf\n",
        "from tensorflow.keras.models import load_model\n",
        "from PIL import Image\n",
        "from io import BytesIO\n",
        "import warnings\n",
        "warnings.filterwarnings('ignore')\n",
        "\n",
        "# Page configuration\n",
        "st.set_page_config(\n",
        "    page_title=\"Audio Emotion Recognition\",\n",
        "    page_icon=\"🎵\",\n",
        "    layout=\"wide\",\n",
        "    initial_sidebar_state=\"expanded\"\n",
        ")\n",
        "\n",
        "# Custom CSS for better styling\n",
        "st.markdown(\"\"\"\n",
        "<style>\n",
        "    .main-header {\n",
        "        font-size: 3rem;\n",
        "        color: #1f77b4;\n",
        "        text-align: center;\n",
        "        margin-bottom: 2rem;\n",
        "        font-weight: bold;\n",
        "    }\n",
        "    .sub-header {\n",
        "        font-size: 1.5rem;\n",
        "        color: #ff7f0e;\n",
        "        margin: 1rem 0;\n",
        "    }\n",
        "    .metric-card {\n",
        "        background-color: #f0f2f6;\n",
        "        padding: 1rem;\n",
        "        border-radius: 10px;\n",
        "        border-left: 5px solid #1f77b4;\n",
        "    }\n",
        "    .prediction-result {\n",
        "        font-size: 2rem;\n",
        "        color: #2e8b57;\n",
        "        text-align: center;\n",
        "        font-weight: bold;\n",
        "        padding: 1rem;\n",
        "        background-color: #f0f8ff;\n",
        "        border-radius: 10px;\n",
        "        margin: 1rem 0;\n",
        "    }\n",
        "</style>\n",
        "\"\"\", unsafe_allow_html=True)\n",
        "\n",
        "# Enhanced Audio Feature Extractor Class\n",
        "class EnhancedAudioFeatureExtractor:\n",
        "    def _init_(self, sampling_rate=22050, audio_duration=3.0, mfcc_coefficients=13, mel_bands=64):\n",
        "        self.sampling_rate = sampling_rate\n",
        "        self.audio_duration = audio_duration\n",
        "        self.mfcc_coefficients = mfcc_coefficients\n",
        "        self.mel_bands = mel_bands\n",
        "        self.target_length = int(sampling_rate * audio_duration)\n",
        "\n",
        "    def load_and_normalize_audio(self, audio_path, noise_reduction=False):\n",
        "        \"\"\"Load and normalize audio with optional noise reduction\"\"\"\n",
        "        try:\n",
        "            audio_signal, sr = librosa.load(audio_path, sr=self.sampling_rate, duration=self.audio_duration)\n",
        "\n",
        "            if len(audio_signal) < self.target_length:\n",
        "                audio_signal = np.pad(audio_signal, (0, self.target_length - len(audio_signal)), mode='constant')\n",
        "            else:\n",
        "                audio_signal = audio_signal[:self.target_length]\n",
        "\n",
        "            audio_signal = librosa.util.normalize(audio_signal)\n",
        "            return audio_signal, sr\n",
        "        except Exception as error:\n",
        "            st.error(f\"Audio loading error: {error}\")\n",
        "            return np.zeros(self.target_length), self.sampling_rate\n",
        "\n",
        "    def generate_mel_spectrogram(self, audio_path):\n",
        "        \"\"\"Generate mel-spectrogram for CNN processing\"\"\"\n",
        "        audio_signal, sr = self.load_and_normalize_audio(audio_path)\n",
        "\n",
        "        mel_spectrogram = librosa.feature.melspectrogram(\n",
        "            y=audio_signal, sr=sr, n_mels=self.mel_bands, fmax=8000\n",
        "        )\n",
        "        mel_spec_db = librosa.power_to_db(mel_spectrogram, ref=np.max)\n",
        "        normalized_mel_spec = (mel_spec_db - mel_spec_db.min()) / (mel_spec_db.max() - mel_spec_db.min())\n",
        "\n",
        "        return normalized_mel_spec\n",
        "\n",
        "def resize_spectrograms_for_resnet(spectrogram_data, target_dimensions=(224, 224)):\n",
        "    \"\"\"Resize spectrograms for ResNet input requirements\"\"\"\n",
        "    from tensorflow.keras.preprocessing.image import array_to_img, img_to_array\n",
        "\n",
        "    # Convert to RGB format\n",
        "    spectrogram_rgb = np.repeat(spectrogram_data[..., np.newaxis], 3, axis=-1)\n",
        "\n",
        "    # Convert to PIL Image and resize\n",
        "    image = array_to_img(spectrogram_rgb)\n",
        "    resized_image = image.resize(target_dimensions)\n",
        "    image_array = img_to_array(resized_image)\n",
        "\n",
        "    return np.expand_dims(image_array / 255.0, axis=0)  # Normalize and add batch dimension\n",
        "\n",
        "@st.cache_resource\n",
        "def load_models_and_encoders():\n",
        "    \"\"\"Load all trained models and encoders\"\"\"\n",
        "    try:\n",
        "        models = {}\n",
        "\n",
        "        # Load models (you'll need to update these paths)\n",
        "        if os.path.exists('final_vgg16_emotion_model.h5'):\n",
        "            models['VGG16'] = load_model('final_vgg16_emotion_model.h5')\n",
        "        if os.path.exists('final_vgg19_emotion_model.h5'):\n",
        "            models['VGG19'] = load_model('final_vgg19_emotion_model.h5')\n",
        "        if os.path.exists('final_resnet101_emotion_model.h5'):\n",
        "            models['ResNet101'] = load_model('final_resnet101_emotion_model.h5')\n",
        "\n",
        "        # Load label encoder\n",
        "        with open('emotion_label_encoder.pkl', 'rb') as f:\n",
        "            label_encoder = pickle.load(f)\n",
        "\n",
        "        # Load feature extractor\n",
        "        with open('audio_feature_extractor.pkl', 'rb') as f:\n",
        "            feature_extractor = pickle.load(f)\n",
        "\n",
        "        return models, label_encoder, feature_extractor\n",
        "    except Exception as e:\n",
        "        st.error(f\"Error loading models: {e}\")\n",
        "        return {}, None, None\n",
        "\n",
        "def plot_waveform(audio_signal, sr):\n",
        "    \"\"\"Plot audio waveform\"\"\"\n",
        "    fig, ax = plt.subplots(figsize=(12, 4))\n",
        "    time = np.linspace(0, len(audio_signal) / sr, len(audio_signal))\n",
        "    ax.plot(time, audio_signal, color='#1f77b4', linewidth=0.8)\n",
        "    ax.set_title('Audio Waveform', fontsize=14, fontweight='bold')\n",
        "    ax.set_xlabel('Time (seconds)')\n",
        "    ax.set_ylabel('Amplitude')\n",
        "    ax.grid(True, alpha=0.3)\n",
        "    plt.tight_layout()\n",
        "    return fig\n",
        "\n",
        "def plot_spectrogram(mel_spec, sr):\n",
        "    \"\"\"Plot mel-spectrogram\"\"\"\n",
        "    fig, ax = plt.subplots(figsize=(12, 6))\n",
        "    librosa.display.specshow(mel_spec, sr=sr, x_axis='time', y_axis='mel', ax=ax, cmap='viridis')\n",
        "    ax.set_title('Mel-Spectrogram', fontsize=14, fontweight='bold')\n",
        "    plt.colorbar(format='%+2.0f dB')\n",
        "    plt.tight_layout()\n",
        "    return fig\n",
        "\n",
        "def plot_predictions(predictions, emotion_classes):\n",
        "    \"\"\"Plot prediction probabilities\"\"\"\n",
        "    fig = go.Figure(data=[\n",
        "        go.Bar(\n",
        "            x=emotion_classes,\n",
        "            y=predictions[0],\n",
        "            marker_color=['#ff6b6b', '#4ecdc4', '#45b7d1', '#96ceb4', '#fdd835', '#ff8a65', '#ba68c8', '#81c784'],\n",
        "            text=[f'{p:.3f}' for p in predictions[0]],\n",
        "            textposition='auto',\n",
        "        )\n",
        "    ])\n",
        "\n",
        "    fig.update_layout(\n",
        "        title='Emotion Prediction Probabilities',\n",
        "        xaxis_title='Emotions',\n",
        "        yaxis_title='Probability',\n",
        "        height=500,\n",
        "        showlegend=False\n",
        "    )\n",
        "\n",
        "    return fig\n",
        "\n",
        "def main():\n",
        "    # Header\n",
        "    st.markdown('<h1 class=\"main-header\"> Audio Emotion Recognition System</h1>', unsafe_allow_html=True)\n",
        "\n",
        "    # Load models and encoders\n",
        "    models, label_encoder, feature_extractor = load_models_and_encoders()\n",
        "\n",
        "    if not models or label_encoder is None:\n",
        "        st.error(\"⚠ Models not found! Please ensure all model files are in the correct directory.\")\n",
        "        st.info(\"Required files: final_vgg16_emotion_model.h5, final_vgg19_emotion_model.h5, final_resnet101_emotion_model.h5, emotion_label_encoder.pkl, audio_feature_extractor.pkl\")\n",
        "        return\n",
        "\n",
        "    # Sidebar\n",
        "    st.sidebar.markdown(\"## 🎛 Configuration\")\n",
        "    selected_model = st.sidebar.selectbox(\n",
        "        \"Select Model\",\n",
        "        list(models.keys()),\n",
        "        help=\"Choose which pre-trained model to use for prediction\"\n",
        "    )\n",
        "\n",
        "    show_visualizations = st.sidebar.checkbox(\n",
        "        \"Show Audio Visualizations\",\n",
        "        value=True,\n",
        "        help=\"Display waveform and spectrogram plots\"\n",
        "    )\n",
        "\n",
        "    show_probabilities = st.sidebar.checkbox(\n",
        "        \"Show Prediction Probabilities\",\n",
        "        value=True,\n",
        "        help=\"Display probability scores for all emotions\"\n",
        "    )\n",
        "\n",
        "    # Main content\n",
        "    st.markdown('<h2 class=\"sub-header\"> Upload Audio File</h2>', unsafe_allow_html=True)\n",
        "\n",
        "    uploaded_file = st.file_uploader(\n",
        "        \"Choose an audio file (WAV, MP3, MP4)\",\n",
        "        type=['wav', 'mp3', 'mp4'],\n",
        "        help=\"Upload an audio file containing speech or song for emotion recognition\"\n",
        "    )\n",
        "\n",
        "    if uploaded_file is not None:\n",
        "        # Save uploaded file temporarily\n",
        "        with tempfile.NamedTemporaryFile(delete=False, suffix=f\".{uploaded_file.name.split('.')[-1]}\") as tmp_file:\n",
        "            tmp_file.write(uploaded_file.read())\n",
        "            temp_path = tmp_file.name\n",
        "\n",
        "        try:\n",
        "            # Display file info\n",
        "            col1, col2, col3 = st.columns(3)\n",
        "            with col1:\n",
        "                st.metric(\"File Name\", uploaded_file.name)\n",
        "            with col2:\n",
        "                st.metric(\"File Size\", f\"{uploaded_file.size / 1024:.1f} KB\")\n",
        "            with col3:\n",
        "                st.metric(\"Selected Model\", selected_model)\n",
        "\n",
        "            # Audio player\n",
        "            st.markdown('<h2 class=\"sub-header\"> Audio Player</h2>', unsafe_allow_html=True)\n",
        "            st.audio(uploaded_file)\n",
        "\n",
        "            # Process audio\n",
        "            with st.spinner('Processing audio and extracting features...'):\n",
        "                # Initialize feature extractor if not loaded\n",
        "                if feature_extractor is None:\n",
        "                    feature_extractor = EnhancedAudioFeatureExtractor()\n",
        "\n",
        "                # Extract features\n",
        "                mel_spec = feature_extractor.generate_mel_spectrogram(temp_path)\n",
        "                audio_signal, sr = feature_extractor.load_and_normalize_audio(temp_path)\n",
        "\n",
        "                # Prepare input for model\n",
        "                resized_features = resize_spectrograms_for_resnet(mel_spec)\n",
        "\n",
        "                # Make prediction\n",
        "                model = models[selected_model]\n",
        "                predictions = model.predict(resized_features, verbose=0)\n",
        "                predicted_class_idx = np.argmax(predictions[0])\n",
        "                predicted_emotion = label_encoder.classes_[predicted_class_idx]\n",
        "                confidence = predictions[0][predicted_class_idx]\n",
        "\n",
        "            # Display prediction result\n",
        "            st.markdown('<h2 class=\"sub-header\"> Prediction Result</h2>', unsafe_allow_html=True)\n",
        "\n",
        "            result_col1, result_col2 = st.columns(2)\n",
        "            with result_col1:\n",
        "                st.markdown(\n",
        "                    f'<div class=\"prediction-result\"> {predicted_emotion.upper()}</div>',\n",
        "                    unsafe_allow_html=True\n",
        "                )\n",
        "            with result_col2:\n",
        "                st.metric(\n",
        "                    \"Confidence Score\",\n",
        "                    f\"{confidence:.3f}\",\n",
        "                    f\"{confidence*100:.1f}%\"\n",
        "                )\n",
        "\n",
        "            # Show prediction probabilities\n",
        "            if show_probabilities:\n",
        "                st.markdown('<h2 class=\"sub-header\"> Prediction Probabilities</h2>', unsafe_allow_html=True)\n",
        "                prob_fig = plot_predictions(predictions, label_encoder.classes_)\n",
        "                st.plotly_chart(prob_fig, use_container_width=True)\n",
        "\n",
        "                # Probability table\n",
        "                prob_df = pd.DataFrame({\n",
        "                    'Emotion': label_encoder.classes_,\n",
        "                    'Probability': predictions[0],\n",
        "                    'Percentage': predictions[0] * 100\n",
        "                }).sort_values('Probability', ascending=False)\n",
        "\n",
        "                st.dataframe(prob_df.style.format({'Probability': '{:.4f}', 'Percentage': '{:.2f}%'}))\n",
        "\n",
        "            # Show visualizations\n",
        "            if show_visualizations:\n",
        "                st.markdown('<h2 class=\"sub-header\"> Audio Visualizations</h2>', unsafe_allow_html=True)\n",
        "\n",
        "                viz_col1, viz_col2 = st.columns(2)\n",
        "\n",
        "                with viz_col1:\n",
        "                    st.subheader(\"Waveform\")\n",
        "                    waveform_fig = plot_waveform(audio_signal, sr)\n",
        "                    st.pyplot(waveform_fig)\n",
        "\n",
        "                with viz_col2:\n",
        "                    st.subheader(\"Mel-Spectrogram\")\n",
        "                    spec_fig = plot_spectrogram(mel_spec, sr)\n",
        "                    st.pyplot(spec_fig)\n",
        "\n",
        "        except Exception as e:\n",
        "            st.error(f\"Error processing audio: {e}\")\n",
        "\n",
        "        finally:\n",
        "            # Clean up temporary file\n",
        "            if os.path.exists(temp_path):\n",
        "                os.unlink(temp_path)\n",
        "\n",
        "    # Information section\n",
        "    with st.expander(\"ℹ About This Application\"):\n",
        "        st.markdown(\"\"\"\n",
        "        ### Audio Emotion Recognition System\n",
        "\n",
        "        This application uses deep learning models to recognize emotions from audio files.\n",
        "\n",
        "        *Supported Emotions:*\n",
        "        - 😐 Neutral\n",
        "        - 😌 Calm\n",
        "        - 😊 Happy\n",
        "        - 😢 Sad\n",
        "        - 😠 Angry\n",
        "        - 😨 Fearful\n",
        "        - 🤢 Disgust\n",
        "        - 😲 Surprised\n",
        "\n",
        "        *Available Models:*\n",
        "        - *VGG16*: Lightweight CNN model, fast inference\n",
        "        - *VGG19*: Deeper CNN model, balanced performance\n",
        "        - *ResNet101*: Advanced CNN with residual connections, highest accuracy\n",
        "\n",
        "        *Usage Instructions:*\n",
        "        1. Select your preferred model from the sidebar\n",
        "        2. Upload an audio file (WAV, MP3, or MP4)\n",
        "        3. View the emotion prediction and confidence score\n",
        "        4. Explore visualizations and probability distributions\n",
        "        \"\"\")\n",
        "\n",
        "    # Footer\n",
        "    st.markdown(\"---\")\n",
        "    st.markdown(\n",
        "        \"<div style='text-align: center; color: #666;'>Built with Streamlit • Powered by TensorFlow</div>\",\n",
        "        unsafe_allow_html=True\n",
        "    )\n",
        "\n",
        "if _name_ == \"_main_\":\n",
        "    main()\n",
        "'''\n",
        "\n",
        "# Write the Streamlit app to a file\n",
        "with open('app.py', 'w') as f:\n",
        "    f.write(streamlit_app_code)\n",
        "\n",
        "print(\" Streamlit app created successfully as 'app.py'\")\n",
        "print(\"Next steps:\")\n",
        "print(\"1. Create requirements.txt file\")\n",
        "print(\"2. Set up project structure\")\n",
        "print(\"3. Test locally\")\n",
        "print(\"4. Deploy to Streamlit Cloud\")"
      ],
      "metadata": {
        "colab": {
          "base_uri": "https://localhost:8080/"
        },
        "id": "uGiGxaX41hnz",
        "outputId": "649b9f51-4944-464c-cdf3-2d01aa0aeea3"
      },
      "execution_count": 38,
      "outputs": [
        {
          "output_type": "stream",
          "name": "stdout",
          "text": [
            " Streamlit app created successfully as 'app.py'\n",
            "Next steps:\n",
            "1. Create requirements.txt file\n",
            "2. Set up project structure\n",
            "3. Test locally\n",
            "4. Deploy to Streamlit Cloud\n"
          ]
        }
      ]
    },
    {
      "cell_type": "code",
      "source": [
        "# Create requirements.txt in your next cell\n",
        "requirements_content = '''\n",
        "streamlit==1.28.0\n",
        "tensorflow==2.13.0\n",
        "librosa==0.10.1\n",
        "pandas==2.0.3\n",
        "numpy==1.24.3\n",
        "matplotlib==3.7.2\n",
        "seaborn==0.12.2\n",
        "plotly==5.15.0\n",
        "scikit-learn==1.3.0\n",
        "soundfile==0.12.1\n",
        "Pillow==10.0.0\n",
        "'''\n",
        "\n",
        "with open('requirements.txt', 'w') as f:\n",
        "    f.write(requirements_content)\n",
        "\n",
        "print(\" Requirements.txt created successfully\")"
      ],
      "metadata": {
        "colab": {
          "base_uri": "https://localhost:8080/"
        },
        "id": "FSMFpeDj1szq",
        "outputId": "1489d3fc-ceaf-41ec-d10b-250673986f25"
      },
      "execution_count": 39,
      "outputs": [
        {
          "output_type": "stream",
          "name": "stdout",
          "text": [
            " Requirements.txt created successfully\n"
          ]
        }
      ]
    },
    {
      "cell_type": "code",
      "source": [
        "# Run this in your next Jupyter cell to set up project structure\n",
        "import os\n",
        "import shutil\n",
        "\n",
        "def setup_project_structure():\n",
        "    \"\"\"Set up the project directory structure\"\"\"\n",
        "\n",
        "    # Create main project directory\n",
        "    project_name = \"audio-emotion-recognition\"\n",
        "\n",
        "    if not os.path.exists(project_name):\n",
        "        os.makedirs(project_name)\n",
        "\n",
        "    # Create subdirectories\n",
        "    directories = [\n",
        "        \"models\",\n",
        "        \"utils\",\n",
        "        \"assets\",\n",
        "        \"docs\"\n",
        "    ]\n",
        "\n",
        "    for dir_name in directories:\n",
        "        dir_path = os.path.join(project_name, dir_name)\n",
        "        if not os.path.exists(dir_path):\n",
        "            os.makedirs(dir_path)\n",
        "\n",
        "    # Move files to appropriate locations\n",
        "    files_to_move = {\n",
        "        'app.py': project_name,\n",
        "        'requirements.txt': project_name,\n",
        "        'final_vgg16_emotion_model.h5': os.path.join(project_name, 'models'),\n",
        "        'final_vgg19_emotion_model.h5': os.path.join(project_name, 'models'),\n",
        "        'final_resnet101_emotion_model.h5': os.path.join(project_name, 'models'),\n",
        "        'emotion_label_encoder.pkl': os.path.join(project_name, 'models'),\n",
        "        'audio_feature_extractor.pkl': os.path.join(project_name, 'models'),\n",
        "    }\n",
        "\n",
        "    for file_name, destination in files_to_move.items():\n",
        "        if os.path.exists(file_name):\n",
        "            dest_path = os.path.join(destination, file_name) if destination != project_name else os.path.join(destination, file_name)\n",
        "            shutil.copy2(file_name, dest_path)\n",
        "            print(f\"✅ Copied {file_name} to {destination}\")\n",
        "        else:\n",
        "            print(f\"⚠ {file_name} not found\")\n",
        "\n",
        "    # Create README.md\n",
        "    readme_content = '''# Audio Emotion Recognition System\n",
        "\n",
        "A deep learning-based web application for recognizing emotions from audio files using pre-trained CNN models.\n",
        "\n",
        "## Features\n",
        "\n",
        "- 🎵 Support for multiple audio formats (WAV, MP3, MP4)\n",
        "- 🤖 Three pre-trained models: VGG16, VGG19, ResNet101\n",
        "- 😊 Recognition of 8 emotions: neutral, calm, happy, sad, angry, fearful, disgust, surprised\n",
        "- 📊 Interactive visualizations and probability distributions\n",
        "- 🎛 User-friendly web interface built with Streamlit\n",
        "\n",
        "## Installation\n",
        "\n",
        "1. Clone the repository:\n",
        "bash\n",
        "git clone https://github.com/yourusername/audio-emotion-recognition.git\n",
        "cd audio-emotion-recognition\n",
        "\n",
        "\n",
        "2. Install dependencies:\n",
        "bash\n",
        "pip install -r requirements.txt\n",
        "\n",
        "\n",
        "3. Run the application:\n",
        "bash\n",
        "streamlit run app.py\n",
        "\n",
        "\n",
        "## Usage\n",
        "\n",
        "1. Select a model from the sidebar\n",
        "2. Upload an audio file\n",
        "3. View emotion prediction results\n",
        "4. Explore audio visualizations and probability scores\n",
        "\n",
        "## Models\n",
        "\n",
        "- *VGG16*: Fast and efficient for real-time applications\n",
        "- *VGG19*: Balanced performance and accuracy\n",
        "- *ResNet101*: Highest accuracy with advanced residual connections\n",
        "\n",
        "## Dataset\n",
        "\n",
        "Trained on the RAVDESS (Ryerson Audio-Visual Database of Emotional Speech and Song) dataset.\n",
        "\n",
        "## Technologies Used\n",
        "\n",
        "- TensorFlow/Keras for deep learning\n",
        "- Streamlit for web interface\n",
        "- Librosa for audio processing\n",
        "- Plotly for interactive visualizations\n",
        "\n",
        "## License\n",
        "\n",
        "MIT License\n",
        "'''\n",
        "\n",
        "    with open(os.path.join(project_name, 'README.md'), 'w') as f:\n",
        "        f.write(readme_content)\n",
        "\n",
        "    # Create .gitignore\n",
        "    gitignore_content = '''# Python\n",
        "_pycache_/\n",
        "*.py[cod]\n",
        "*$py.class\n",
        "*.so\n",
        ".Python\n",
        "build/\n",
        "develop-eggs/\n",
        "dist/\n",
        "downloads/\n",
        "eggs/\n",
        ".eggs/\n",
        "lib/\n",
        "lib64/\n",
        "parts/\n",
        "sdist/\n",
        "var/\n",
        "wheels/\n",
        "*.egg-info/\n",
        ".installed.cfg\n",
        "*.egg\n",
        "\n",
        "# Virtual Environment\n",
        "venv/\n",
        "ENV/\n",
        "env/\n",
        "\n",
        "# Jupyter Notebook\n",
        ".ipynb_checkpoints\n",
        "\n",
        "# IDEs\n",
        ".vscode/\n",
        ".idea/\n",
        "*.swp\n",
        "*.swo\n",
        "\n",
        "# OS\n",
        ".DS_Store\n",
        "Thumbs.db\n",
        "\n",
        "# Streamlit\n",
        ".streamlit/\n",
        "\n",
        "# Large model files (optional)\n",
        "*.h5\n",
        "*.pkl\n",
        "\n",
        "# Temporary files\n",
        "temp_*\n",
        "'''\n",
        "\n",
        "    with open(os.path.join(project_name, '.gitignore'), 'w') as f:\n",
        "        f.write(gitignore_content)\n",
        "\n",
        "    print(f\"Project structure created in '{project_name}' directory\")\n",
        "    print(\"\\nProject structure:\")\n",
        "    for root, dirs, files in os.walk(project_name):\n",
        "        level = root.replace(project_name, '').count(os.sep)\n",
        "        indent = ' ' * 2 * level\n",
        "        print(f\"{indent}{os.path.basename(root)}/\")\n",
        "        subindent = ' ' * 2 * (level + 1)\n",
        "        for file in files:\n",
        "            print(f\"{subindent}{file}\")\n",
        "\n",
        "# Run the setup\n",
        "setup_project_structure()"
      ],
      "metadata": {
        "colab": {
          "base_uri": "https://localhost:8080/"
        },
        "id": "1U3JtUDR2XUn",
        "outputId": "1646fc11-4868-4f65-81db-5d9e68983ec4"
      },
      "execution_count": 40,
      "outputs": [
        {
          "output_type": "stream",
          "name": "stdout",
          "text": [
            "✅ Copied app.py to audio-emotion-recognition\n",
            "✅ Copied requirements.txt to audio-emotion-recognition\n",
            "✅ Copied final_vgg16_emotion_model.h5 to audio-emotion-recognition/models\n",
            "✅ Copied final_vgg19_emotion_model.h5 to audio-emotion-recognition/models\n",
            "✅ Copied final_resnet101_emotion_model.h5 to audio-emotion-recognition/models\n",
            "✅ Copied emotion_label_encoder.pkl to audio-emotion-recognition/models\n",
            "✅ Copied audio_feature_extractor.pkl to audio-emotion-recognition/models\n",
            "Project structure created in 'audio-emotion-recognition' directory\n",
            "\n",
            "Project structure:\n",
            "audio-emotion-recognition/\n",
            "  README.md\n",
            "  app.py\n",
            "  requirements.txt\n",
            "  .gitignore\n",
            "  models/\n",
            "    final_resnet101_emotion_model.h5\n",
            "    emotion_label_encoder.pkl\n",
            "    final_vgg19_emotion_model.h5\n",
            "    final_vgg16_emotion_model.h5\n",
            "    audio_feature_extractor.pkl\n",
            "  docs/\n",
            "  assets/\n",
            "  utils/\n"
          ]
        }
      ]
    },
    {
      "cell_type": "code",
      "source": [],
      "metadata": {
        "id": "MnUYhZin8iLx"
      },
      "execution_count": null,
      "outputs": []
    }
  ]
}